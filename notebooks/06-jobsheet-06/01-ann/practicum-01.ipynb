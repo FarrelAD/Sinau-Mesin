{
 "cells": [
  {
   "cell_type": "markdown",
   "id": "9ad9ad13",
   "metadata": {},
   "source": [
    "# Preparation"
   ]
  },
  {
   "cell_type": "code",
   "execution_count": 14,
   "id": "4bef9aec",
   "metadata": {},
   "outputs": [],
   "source": [
    "import numpy as np\n",
    "import matplotlib.pyplot as plt\n",
    "import time\n",
    "from sklearn.metrics.pairwise import euclidean_distances\n",
    "from annoy import AnnoyIndex"
   ]
  },
  {
   "cell_type": "markdown",
   "id": "a68566d1",
   "metadata": {},
   "source": [
    "# PART 1"
   ]
  },
  {
   "cell_type": "markdown",
   "id": "d1c0d396",
   "metadata": {},
   "source": [
    "## 1. Generate Dataset"
   ]
  },
  {
   "cell_type": "code",
   "execution_count": 9,
   "id": "26d07d46",
   "metadata": {},
   "outputs": [],
   "source": [
    "# 1. Dataset 2D\n",
    "np.random.seed(42)\n",
    "n_points = 100_000\n",
    "X = np.random.rand(n_points, 2) * 100  # titik random dalam ruang 100x100"
   ]
  },
  {
   "cell_type": "markdown",
   "id": "8205602d",
   "metadata": {},
   "source": [
    "## 2. Pick Query Point"
   ]
  },
  {
   "cell_type": "code",
   "execution_count": 10,
   "id": "aee6ad1d",
   "metadata": {},
   "outputs": [
    {
     "name": "stdout",
     "output_type": "stream",
     "text": [
      "Exact NN index: [64040 64186 88792]\n",
      "Exact NN jarak: [0.         0.15797867 0.25332711]\n",
      "Waktu Exact: 30.4511 ms\n"
     ]
    }
   ],
   "source": [
    "# Query point (ambil salah satu titik random)\n",
    "query = X[np.random.randint(0, n_points)]\n",
    "\n",
    "# 2. Exact NN (brute force)\n",
    "start = time.time()\n",
    "distances = np.linalg.norm(X - query, axis=1)\n",
    "idx_exact = np.argsort(distances)[:3]  # ambil 3 terdekat\n",
    "time_exact = time.time() - start\n",
    "\n",
    "print(\"Exact NN index:\", idx_exact)\n",
    "print(\"Exact NN jarak:\", distances[idx_exact])\n",
    "print(\"Waktu Exact:\", round(time_exact*1000, 4), \"ms\")"
   ]
  },
  {
   "cell_type": "markdown",
   "id": "f6cb9d8a",
   "metadata": {},
   "source": [
    "## 3. Exact nearest neighbors"
   ]
  },
  {
   "cell_type": "code",
   "execution_count": 11,
   "id": "565dc46c",
   "metadata": {},
   "outputs": [
    {
     "name": "stdout",
     "output_type": "stream",
     "text": [
      "\n",
      "Annoy NN index: [64040, 64186, 88792]\n",
      "Annoy NN jarak: [np.float64(0.0), np.float64(0.1579786703429142), np.float64(0.2533271079062769)]\n",
      "Waktu Annoy: 0.1037 ms\n"
     ]
    }
   ],
   "source": [
    "# 3. Annoy NN (3 tree)\n",
    "f = 2  # dimensi\n",
    "t = AnnoyIndex(f, 'euclidean')\n",
    "for i, vec in enumerate(X):\n",
    "    t.add_item(i, vec)\n",
    "\n",
    "t.build(8)  # 3 trees\n",
    "\n",
    "start = time.time()\n",
    "idx_ann = t.get_nns_by_vector(query, 3)  # cari 3 NN\n",
    "time_ann = time.time() - start\n",
    "\n",
    "print(\"\\nAnnoy NN index:\", idx_ann)\n",
    "print(\"Annoy NN jarak:\", [np.linalg.norm(X[i]-query) for i in idx_ann])\n",
    "print(\"Waktu Annoy:\", round(time_ann*1000, 4), \"ms\")"
   ]
  },
  {
   "cell_type": "markdown",
   "id": "7583b89f",
   "metadata": {},
   "source": [
    "## 4. Visualization"
   ]
  },
  {
   "cell_type": "code",
   "execution_count": 12,
   "id": "a5c2f8a4",
   "metadata": {},
   "outputs": [
    {
     "data": {
      "image/png": "[encoded data removed]",
      "text/plain": [
       "<Figure size 600x600 with 1 Axes>"
      ]
     },
     "metadata": {},
     "output_type": "display_data"
    }
   ],
   "source": [
    "# 4. Visualisasi hasil\n",
    "plt.figure(figsize=(6,6))\n",
    "plt.scatter(X[:,0], X[:,1], c=\"lightgray\", s=20, label=\"Dataset\")\n",
    "plt.scatter(query[0], query[1], c=\"red\", marker=\"x\", s=100, label=\"Query\")\n",
    "\n",
    "# Exact NN ditandai biru\n",
    "plt.scatter(X[idx_exact,0], X[idx_exact,1], c=\"blue\", s=80, label=\"Exact NN\")\n",
    "\n",
    "# Annoy NN ditandai hijau\n",
    "plt.scatter(X[idx_ann,0], X[idx_ann,1], c=\"green\", s=50, marker=\"s\", label=\"Annoy NN\")\n",
    "\n",
    "plt.legend()\n",
    "plt.title(\"Exact NN vs Annoy NN (3 trees)\")\n",
    "plt.show()"
   ]
  },
  {
   "cell_type": "markdown",
   "id": "7e826c80",
   "metadata": {},
   "source": [
    "## 5. Summary"
   ]
  },
  {
   "cell_type": "markdown",
   "id": "7031c83d",
   "metadata": {},
   "source": [
    "| Distance Metrics | Tree | Jumlah data | Hasil Index terdekat ENN vs ANN          | Waktu komputasi  |\n",
    "|------------------|------|--------------|-------------------------------------------|----------------------|\n",
    "| Euclidean        | 3    | 1.000         | [219 898 593], [219 898 770]              | 18.8437 , 1.451     |\n",
    "| Euclidean        | 8    | 1.000         | [219, 898, 593], [219, 898, 593]                                      | 18.8437 , 0.5882              |\n",
    "| Euclidean        | 3    | 100.000      | [64040 64186 88792], [64040, 64186, 88792]                                      | 30.4511, 0.1037         |\n",
    "| Angular          | 3    | 1.000         | ...                                       | ...                  |\n",
    "| Angular          | 8    | 1.000         | ...                                       | ...                  |\n",
    "| Angular          | 3    | 100.000      | ...                                       | ...                  |"
   ]
  },
  {
   "cell_type": "markdown",
   "id": "42e7e1de",
   "metadata": {},
   "source": [
    "---"
   ]
  },
  {
   "cell_type": "markdown",
   "id": "45f2819a",
   "metadata": {},
   "source": [
    "# PART 2"
   ]
  },
  {
   "cell_type": "markdown",
   "id": "6ba3b1c4",
   "metadata": {},
   "source": [
    "## 1. Generate Dataset"
   ]
  },
  {
   "cell_type": "code",
   "execution_count": null,
   "id": "d158db46",
   "metadata": {},
   "outputs": [],
   "source": [
    "# ---- 1. Buat dataset mirip Spotify ----\n",
    "n_tracks = 50_000_000   # 50 juta track\n",
    "n_features = 20        # contoh: danceability, energy, tempo, dll.\n",
    "\n",
    "# dataset besar (random untuk simulasi)\n",
    "X = np.random.rand(n_tracks, n_features).astype(np.float32)\n",
    "\n",
    "# query track (misalnya lagu baru)\n",
    "query = np.random.rand(1, n_features).astype(np.float32)"
   ]
  },
  {
   "cell_type": "markdown",
   "id": "2fcb3d8e",
   "metadata": {},
   "source": [
    "## 2. Exact NN"
   ]
  },
  {
   "cell_type": "code",
   "execution_count": null,
   "id": "eaa7f30d",
   "metadata": {},
   "outputs": [],
   "source": [
    "# ---- 2. Exact NN (brute force) ----\n",
    "start = time.time()\n",
    "distances = euclidean_distances(query, X)[0]   # hitung semua jarak\n",
    "exact_idx = np.argsort(distances)[:5]          # ambil 5 terdekat\n",
    "exact_time = time.time() - start\n",
    "\n",
    "print(\"Exact NN result:\", exact_idx)\n",
    "print(\"Exact NN time:\", round(exact_time, 3), \"seconds\")"
   ]
  },
  {
   "cell_type": "markdown",
   "id": "ed7a98c2",
   "metadata": {},
   "source": [
    "## 3. Approx NN with Annoy"
   ]
  },
  {
   "cell_type": "code",
   "execution_count": null,
   "id": "41af70b1",
   "metadata": {},
   "outputs": [],
   "source": [
    "# ---- 3. Approx NN pakai Annoy ----\n",
    "f = n_features\n",
    "annoy_index = AnnoyIndex(f, 'euclidean')\n",
    "n_trees = 3\n",
    "\n",
    "# build index\n",
    "for i in range(n_tracks):\n",
    "    annoy_index.add_item(i, X[i])\n",
    "annoy_index.build(n_trees)\n",
    "\n",
    "start = time.time()\n",
    "annoy_idx = annoy_index.get_nns_by_vector(query[0], 5)  # ambil 5 lagu yang mirip\n",
    "annoy_time = time.time() - start\n",
    "\n",
    "print(\"Annoy result:\", annoy_idx)\n",
    "print(\"Annoy time:\", round(annoy_time, 3), \"seconds\")"
   ]
  },
  {
   "cell_type": "markdown",
   "id": "8c6764a3",
   "metadata": {},
   "source": [
    "## 5. Summary"
   ]
  },
  {
   "cell_type": "markdown",
   "id": "1ef1d0a5",
   "metadata": {},
   "source": [
    "| Distance Metrics | Tree | Jumlah data | Hasil Index terdekat ENN vs ANN          | Waktu komputasi  |\n",
    "|------------------|------|--------------|-------------------------------------------|----------------------|\n",
    "| Euclidean        | 3    | 1.000         | ...              | ...     |\n",
    "| Angular          | 3    | 100.000      | ...                                       | ...                  |"
   ]
  }
 ],
 "metadata": {
  "kernelspec": {
   "display_name": "gideon",
   "language": "python",
   "name": "python3"
  },
  "language_info": {
   "codemirror_mode": {
    "name": "ipython",
    "version": 3
   },
   "file_extension": ".py",
   "mimetype": "text/x-python",
   "name": "python",
   "nbconvert_exporter": "python",
   "pygments_lexer": "ipython3",
   "version": "3.13.0"
  }
 },
 "nbformat": 4,
 "nbformat_minor": 5
}
