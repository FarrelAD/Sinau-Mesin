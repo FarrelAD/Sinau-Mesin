{
 "cells": [
  {
   "cell_type": "markdown",
   "id": "00199fb4",
   "metadata": {},
   "source": [
    "# Preparation"
   ]
  },
  {
   "cell_type": "code",
   "execution_count": 1,
   "id": "cd609a7c",
   "metadata": {},
   "outputs": [],
   "source": [
    "import hnswlib\n",
    "import numpy as np\n",
    "import time\n",
    "from sklearn.neighbors import NearestNeighbors"
   ]
  },
  {
   "cell_type": "markdown",
   "id": "13d1a097",
   "metadata": {},
   "source": [
    "# 1. Generate Dataset"
   ]
  },
  {
   "cell_type": "code",
   "execution_count": 2,
   "id": "871513b3",
   "metadata": {},
   "outputs": [],
   "source": [
    "num_elements = 1000\n",
    "dim = 2\n",
    "data = np.random.random((num_elements, dim)).astype(np.float32)\n",
    "\n",
    "# Query point\n",
    "query = np.array([[0.5, 0.5]], dtype=np.float32)\n",
    "k = 5  # cari 5 tetangga terdekat"
   ]
  },
  {
   "cell_type": "markdown",
   "id": "c256a1ff",
   "metadata": {},
   "source": [
    "# 2. Exact NN"
   ]
  },
  {
   "cell_type": "code",
   "execution_count": 3,
   "id": "b76dd68b",
   "metadata": {},
   "outputs": [
    {
     "name": "stdout",
     "output_type": "stream",
     "text": [
      "=== Exact NN ===\n",
      "Indices: [[384 645 727 145 552]]\n",
      "Distances: [[0.01281725 0.01369748 0.02224823 0.02257188 0.03772032]]\n",
      "Waktu: 1.1560313701629639 detik\n"
     ]
    }
   ],
   "source": [
    "nn = NearestNeighbors(n_neighbors=k, algorithm='brute', metric='euclidean')\n",
    "nn.fit(data)\n",
    "\n",
    "start = time.time()\n",
    "distances, indices = nn.kneighbors(query)\n",
    "end = time.time()\n",
    "\n",
    "print(\"=== Exact NN ===\")\n",
    "print(\"Indices:\", indices)\n",
    "print(\"Distances:\", distances)\n",
    "print(\"Waktu:\", end - start, \"detik\")"
   ]
  },
  {
   "cell_type": "markdown",
   "id": "fb8e5d05",
   "metadata": {},
   "source": [
    "# 3. HNSW"
   ]
  },
  {
   "cell_type": "code",
   "execution_count": 4,
   "id": "1a255168",
   "metadata": {},
   "outputs": [
    {
     "name": "stdout",
     "output_type": "stream",
     "text": [
      "\n",
      "=== HNSW ===\n",
      "Indices: [[384 645 727 145 552]]\n",
      "Distances: [[0.00016428 0.00018762 0.00049498 0.00050949 0.00142282]]\n",
      "Waktu: 0.0005469322204589844 detik\n"
     ]
    }
   ],
   "source": [
    "# Inisialisasi index HNSW\n",
    "p = hnswlib.Index(space='l2', dim=dim)  \n",
    "\n",
    "# Ukuran maksimum elemen yang bisa ditampung\n",
    "p.init_index(max_elements=num_elements, ef_construction=100, M=16)\n",
    "\n",
    "# Tambahkan data\n",
    "p.add_items(data)\n",
    "\n",
    "# Set parameter pencarian\n",
    "p.set_ef(50)   # tradeoff speed vs accuracy\n",
    "\n",
    "start = time.time()\n",
    "labels, distances = p.knn_query(query, k=k)\n",
    "end = time.time()\n",
    "\n",
    "print(\"\\n=== HNSW ===\")\n",
    "print(\"Indices:\", labels)\n",
    "print(\"Distances:\", distances)\n",
    "print(\"Waktu:\", end - start, \"detik\")"
   ]
  }
 ],
 "metadata": {
  "kernelspec": {
   "display_name": "gideon",
   "language": "python",
   "name": "python3"
  },
  "language_info": {
   "codemirror_mode": {
    "name": "ipython",
    "version": 3
   },
   "file_extension": ".py",
   "mimetype": "text/x-python",
   "name": "python",
   "nbconvert_exporter": "python",
   "pygments_lexer": "ipython3",
   "version": "3.13.0"
  }
 },
 "nbformat": 4,
 "nbformat_minor": 5
}
