{
 "cells": [
  {
   "cell_type": "markdown",
   "id": "504263a4",
   "metadata": {},
   "source": [
    "# Preparation"
   ]
  },
  {
   "cell_type": "code",
   "execution_count": 1,
   "id": "506c0007",
   "metadata": {},
   "outputs": [],
   "source": [
    "import numpy as np\n",
    "import time\n",
    "from annoy import AnnoyIndex\n",
    "import faiss\n",
    "import hnswlib"
   ]
  },
  {
   "cell_type": "markdown",
   "id": "fe38686b",
   "metadata": {},
   "source": [
    "# 1. Generate Dataset"
   ]
  },
  {
   "cell_type": "code",
   "execution_count": 2,
   "id": "91b7320a",
   "metadata": {},
   "outputs": [],
   "source": [
    "# ===============================\n",
    "n_data = 1_000_000   # bisa coba 100_000 dulu jika RAM terbatas\n",
    "dim = 5\n",
    "X = np.random.random((n_data, dim)).astype(np.float32)\n",
    "\n",
    "# Query point\n",
    "query = np.random.random((1, dim)).astype(np.float32)\n",
    "k = 10"
   ]
  },
  {
   "cell_type": "markdown",
   "id": "1b14a79e",
   "metadata": {},
   "source": [
    "# 2. ANNOY"
   ]
  },
  {
   "cell_type": "code",
   "execution_count": 3,
   "id": "1ac8af24",
   "metadata": {},
   "outputs": [
    {
     "name": "stdout",
     "output_type": "stream",
     "text": [
      "=== Annoy ===\n",
      "Build time: 5.0234246253967285 detik\n",
      "Query time: 0.0005936622619628906 detik\n",
      "Neighbors: [29848, 804607, 333980, 76813, 36420] ...\n"
     ]
    }
   ],
   "source": [
    "print(\"=== Annoy ===\")\n",
    "ann_index = AnnoyIndex(dim, 'euclidean')\n",
    "\n",
    "start = time.time()\n",
    "for i in range(n_data):\n",
    "    ann_index.add_item(i, X[i])\n",
    "ann_index.build(10)  # 10 trees\n",
    "build_time = time.time() - start\n",
    "\n",
    "start = time.time()\n",
    "neighbors = ann_index.get_nns_by_vector(query[0], k, include_distances=True)\n",
    "query_time = time.time() - start\n",
    "\n",
    "print(\"Build time:\", build_time, \"detik\")\n",
    "print(\"Query time:\", query_time, \"detik\")\n",
    "print(\"Neighbors:\", neighbors[0][:5], \"...\")"
   ]
  },
  {
   "cell_type": "markdown",
   "id": "bbedadd3",
   "metadata": {},
   "source": [
    "# 3. FAISS"
   ]
  },
  {
   "cell_type": "code",
   "execution_count": 4,
   "id": "fa7a6140",
   "metadata": {},
   "outputs": [
    {
     "name": "stdout",
     "output_type": "stream",
     "text": [
      "\n",
      "=== FAISS (IndexFlatL2) ===\n",
      "Build time: 0.01844930648803711 detik\n",
      "Query time: 0.005891323089599609 detik\n",
      "Neighbors: [ 29848 804607 333980  76813  36420] ...\n"
     ]
    }
   ],
   "source": [
    "print(\"\\n=== FAISS (IndexFlatL2) ===\")\n",
    "faiss_index = faiss.IndexFlatL2(dim)\n",
    "\n",
    "start = time.time()\n",
    "faiss_index.add(X)\n",
    "build_time = time.time() - start\n",
    "\n",
    "start = time.time()\n",
    "distances, indices = faiss_index.search(query, k)\n",
    "query_time = time.time() - start\n",
    "\n",
    "print(\"Build time:\", build_time, \"detik\")\n",
    "print(\"Query time:\", query_time, \"detik\")\n",
    "print(\"Neighbors:\", indices[0][:5], \"...\")"
   ]
  },
  {
   "cell_type": "markdown",
   "id": "f264c493",
   "metadata": {},
   "source": [
    "# 4. HNSW"
   ]
  },
  {
   "cell_type": "code",
   "execution_count": 5,
   "id": "bc280156",
   "metadata": {},
   "outputs": [
    {
     "name": "stdout",
     "output_type": "stream",
     "text": [
      "\n",
      "=== HNSW (hnswlib) ===\n",
      "Build time: 61.93322944641113 detik\n",
      "Query time: 0.0048923492431640625 detik\n",
      "Neighbors: [ 29848 804607 333980  76813  36420] ...\n"
     ]
    }
   ],
   "source": [
    "print(\"\\n=== HNSW (hnswlib) ===\")\n",
    "hnsw_index = hnswlib.Index(space='l2', dim=dim)\n",
    "\n",
    "start = time.time()\n",
    "hnsw_index.init_index(max_elements=n_data, ef_construction=200, M=16)\n",
    "hnsw_index.add_items(X)\n",
    "build_time = time.time() - start\n",
    "\n",
    "hnsw_index.set_ef(50)\n",
    "\n",
    "start = time.time()\n",
    "labels, distances = hnsw_index.knn_query(query, k=k)\n",
    "query_time = time.time() - start\n",
    "\n",
    "print(\"Build time:\", build_time, \"detik\")\n",
    "print(\"Query time:\", query_time, \"detik\")\n",
    "print(\"Neighbors:\", labels[0][:5], \"...\")"
   ]
  }
 ],
 "metadata": {
  "kernelspec": {
   "display_name": "gideon",
   "language": "python",
   "name": "python3"
  },
  "language_info": {
   "codemirror_mode": {
    "name": "ipython",
    "version": 3
   },
   "file_extension": ".py",
   "mimetype": "text/x-python",
   "name": "python",
   "nbconvert_exporter": "python",
   "pygments_lexer": "ipython3",
   "version": "3.13.0"
  }
 },
 "nbformat": 4,
 "nbformat_minor": 5
}
