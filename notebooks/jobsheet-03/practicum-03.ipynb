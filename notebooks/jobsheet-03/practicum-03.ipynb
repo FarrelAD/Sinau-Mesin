{
 "cells": [
  {
   "cell_type": "markdown",
   "id": "6b674999",
   "metadata": {},
   "source": [
    "<a href=\"https://colab.research.google.com/github/FarrelAD/Sinau-Mesin/blob/main/notebooks/jobsheet-03/practicum-03.ipynb\" target=\"_blank\">\n",
    "    <img src=\"https://colab.research.google.com/assets/colab-badge.svg\" alt=\"Open In Colab\"/>\n",
    "</a>"
   ]
  }
 ],
 "metadata": {
  "language_info": {
   "name": "python"
  }
 },
 "nbformat": 4,
 "nbformat_minor": 5
}
