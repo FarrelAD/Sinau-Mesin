{
  "cells": [
    {
      "cell_type": "markdown",
      "metadata": {},
      "source": [
        "# Identitas\n",
        "\n",
        "**Nama:** Farrel Augusta Dinata\n",
        "\n",
        "**Kelas:** TI 3H\n",
        "\n",
        "**NIM:** 2341720081\n",
        "\n",
        "**No. Absen:** 12"
      ]
    },
    {
      "cell_type": "markdown",
      "metadata": {
        "id": "Q4BsBXFH9vHP"
      },
      "source": [
        "# Pengantar\n",
        "\n",
        "Pada Kuis 1 ini Anda diminta untuk melakukan proses explorartory data analysis (EDA) dan pra pengolahan data pada dataset \"Census Income\". Dataset ini merupakan data tabular yang memiliki beberapa nilai yang hilang (missing value) dan nama variabel (fitur) yang perlu disesuaikan.\n",
        "\n",
        "Untuk membantu Anda, notebook ini akan memberikan kode awal untuk proses download data, load data, dan inspeksi informasi terkait dengan metadata."
      ]
    },
    {
      "cell_type": "markdown",
      "metadata": {
        "id": "u5GmBdfH-ZF8"
      },
      "source": [
        "# Load Data and Inspect Metadata"
      ]
    },
    {
      "cell_type": "code",
      "execution_count": null,
      "metadata": {
        "id": "NdEOUpxL7vKn"
      },
      "outputs": [],
      "source": [
        "# Install UCI REPO Library\n",
        "!pip install -q ucimlrepo"
      ]
    },
    {
      "cell_type": "code",
      "execution_count": 91,
      "metadata": {
        "id": "zxt84M_20lur"
      },
      "outputs": [],
      "source": [
        "# Import Required Libraries\n",
        "import pandas as pd\n",
        "import numpy as np\n",
        "import matplotlib.pyplot as plt\n",
        "import seaborn as sns\n",
        "from ucimlrepo import fetch_ucirepo"
      ]
    },
    {
      "cell_type": "code",
      "execution_count": 92,
      "metadata": {
        "id": "T5YAOxUbamtm"
      },
      "outputs": [],
      "source": [
        "# fetch data\n",
        "adult_income = fetch_ucirepo(id=2)"
      ]
    },
    {
      "cell_type": "code",
      "execution_count": 93,
      "metadata": {
        "colab": {
          "base_uri": "https://localhost:8080/",
          "height": 310
        },
        "id": "tGUNghQK8Sqv",
        "outputId": "16f56aeb-2705-4c0f-8bab-02f166cadc5b"
      },
      "outputs": [
        {
          "data": {
            "application/vnd.microsoft.datawrangler.viewer.v0+json": {
              "columns": [
                {
                  "name": "index",
                  "rawType": "int64",
                  "type": "integer"
                },
                {
                  "name": "age",
                  "rawType": "int64",
                  "type": "integer"
                },
                {
                  "name": "workclass",
                  "rawType": "object",
                  "type": "string"
                },
                {
                  "name": "fnlwgt",
                  "rawType": "int64",
                  "type": "integer"
                },
                {
                  "name": "education",
                  "rawType": "object",
                  "type": "string"
                },
                {
                  "name": "education-num",
                  "rawType": "int64",
                  "type": "integer"
                },
                {
                  "name": "marital-status",
                  "rawType": "object",
                  "type": "string"
                },
                {
                  "name": "occupation",
                  "rawType": "object",
                  "type": "string"
                },
                {
                  "name": "relationship",
                  "rawType": "object",
                  "type": "string"
                },
                {
                  "name": "race",
                  "rawType": "object",
                  "type": "string"
                },
                {
                  "name": "sex",
                  "rawType": "object",
                  "type": "string"
                },
                {
                  "name": "capital-gain",
                  "rawType": "int64",
                  "type": "integer"
                },
                {
                  "name": "capital-loss",
                  "rawType": "int64",
                  "type": "integer"
                },
                {
                  "name": "hours-per-week",
                  "rawType": "int64",
                  "type": "integer"
                },
                {
                  "name": "native-country",
                  "rawType": "object",
                  "type": "string"
                },
                {
                  "name": "income",
                  "rawType": "object",
                  "type": "string"
                }
              ],
              "ref": "0f55738b-ab1e-4afa-a5ef-fd715b2e8e3b",
              "rows": [
                [
                  "0",
                  "39",
                  "State-gov",
                  "77516",
                  "Bachelors",
                  "13",
                  "Never-married",
                  "Adm-clerical",
                  "Not-in-family",
                  "White",
                  "Male",
                  "2174",
                  "0",
                  "40",
                  "United-States",
                  "<=50K"
                ],
                [
                  "1",
                  "50",
                  "Self-emp-not-inc",
                  "83311",
                  "Bachelors",
                  "13",
                  "Married-civ-spouse",
                  "Exec-managerial",
                  "Husband",
                  "White",
                  "Male",
                  "0",
                  "0",
                  "13",
                  "United-States",
                  "<=50K"
                ],
                [
                  "2",
                  "38",
                  "Private",
                  "215646",
                  "HS-grad",
                  "9",
                  "Divorced",
                  "Handlers-cleaners",
                  "Not-in-family",
                  "White",
                  "Male",
                  "0",
                  "0",
                  "40",
                  "United-States",
                  "<=50K"
                ],
                [
                  "3",
                  "53",
                  "Private",
                  "234721",
                  "11th",
                  "7",
                  "Married-civ-spouse",
                  "Handlers-cleaners",
                  "Husband",
                  "Black",
                  "Male",
                  "0",
                  "0",
                  "40",
                  "United-States",
                  "<=50K"
                ],
                [
                  "4",
                  "28",
                  "Private",
                  "338409",
                  "Bachelors",
                  "13",
                  "Married-civ-spouse",
                  "Prof-specialty",
                  "Wife",
                  "Black",
                  "Female",
                  "0",
                  "0",
                  "40",
                  "Cuba",
                  "<=50K"
                ]
              ],
              "shape": {
                "columns": 15,
                "rows": 5
              }
            },
            "text/html": [
              "<div>\n",
              "<style scoped>\n",
              "    .dataframe tbody tr th:only-of-type {\n",
              "        vertical-align: middle;\n",
              "    }\n",
              "\n",
              "    .dataframe tbody tr th {\n",
              "        vertical-align: top;\n",
              "    }\n",
              "\n",
              "    .dataframe thead th {\n",
              "        text-align: right;\n",
              "    }\n",
              "</style>\n",
              "<table border=\"1\" class=\"dataframe\">\n",
              "  <thead>\n",
              "    <tr style=\"text-align: right;\">\n",
              "      <th></th>\n",
              "      <th>age</th>\n",
              "      <th>workclass</th>\n",
              "      <th>fnlwgt</th>\n",
              "      <th>education</th>\n",
              "      <th>education-num</th>\n",
              "      <th>marital-status</th>\n",
              "      <th>occupation</th>\n",
              "      <th>relationship</th>\n",
              "      <th>race</th>\n",
              "      <th>sex</th>\n",
              "      <th>capital-gain</th>\n",
              "      <th>capital-loss</th>\n",
              "      <th>hours-per-week</th>\n",
              "      <th>native-country</th>\n",
              "      <th>income</th>\n",
              "    </tr>\n",
              "  </thead>\n",
              "  <tbody>\n",
              "    <tr>\n",
              "      <th>0</th>\n",
              "      <td>39</td>\n",
              "      <td>State-gov</td>\n",
              "      <td>77516</td>\n",
              "      <td>Bachelors</td>\n",
              "      <td>13</td>\n",
              "      <td>Never-married</td>\n",
              "      <td>Adm-clerical</td>\n",
              "      <td>Not-in-family</td>\n",
              "      <td>White</td>\n",
              "      <td>Male</td>\n",
              "      <td>2174</td>\n",
              "      <td>0</td>\n",
              "      <td>40</td>\n",
              "      <td>United-States</td>\n",
              "      <td>&lt;=50K</td>\n",
              "    </tr>\n",
              "    <tr>\n",
              "      <th>1</th>\n",
              "      <td>50</td>\n",
              "      <td>Self-emp-not-inc</td>\n",
              "      <td>83311</td>\n",
              "      <td>Bachelors</td>\n",
              "      <td>13</td>\n",
              "      <td>Married-civ-spouse</td>\n",
              "      <td>Exec-managerial</td>\n",
              "      <td>Husband</td>\n",
              "      <td>White</td>\n",
              "      <td>Male</td>\n",
              "      <td>0</td>\n",
              "      <td>0</td>\n",
              "      <td>13</td>\n",
              "      <td>United-States</td>\n",
              "      <td>&lt;=50K</td>\n",
              "    </tr>\n",
              "    <tr>\n",
              "      <th>2</th>\n",
              "      <td>38</td>\n",
              "      <td>Private</td>\n",
              "      <td>215646</td>\n",
              "      <td>HS-grad</td>\n",
              "      <td>9</td>\n",
              "      <td>Divorced</td>\n",
              "      <td>Handlers-cleaners</td>\n",
              "      <td>Not-in-family</td>\n",
              "      <td>White</td>\n",
              "      <td>Male</td>\n",
              "      <td>0</td>\n",
              "      <td>0</td>\n",
              "      <td>40</td>\n",
              "      <td>United-States</td>\n",
              "      <td>&lt;=50K</td>\n",
              "    </tr>\n",
              "    <tr>\n",
              "      <th>3</th>\n",
              "      <td>53</td>\n",
              "      <td>Private</td>\n",
              "      <td>234721</td>\n",
              "      <td>11th</td>\n",
              "      <td>7</td>\n",
              "      <td>Married-civ-spouse</td>\n",
              "      <td>Handlers-cleaners</td>\n",
              "      <td>Husband</td>\n",
              "      <td>Black</td>\n",
              "      <td>Male</td>\n",
              "      <td>0</td>\n",
              "      <td>0</td>\n",
              "      <td>40</td>\n",
              "      <td>United-States</td>\n",
              "      <td>&lt;=50K</td>\n",
              "    </tr>\n",
              "    <tr>\n",
              "      <th>4</th>\n",
              "      <td>28</td>\n",
              "      <td>Private</td>\n",
              "      <td>338409</td>\n",
              "      <td>Bachelors</td>\n",
              "      <td>13</td>\n",
              "      <td>Married-civ-spouse</td>\n",
              "      <td>Prof-specialty</td>\n",
              "      <td>Wife</td>\n",
              "      <td>Black</td>\n",
              "      <td>Female</td>\n",
              "      <td>0</td>\n",
              "      <td>0</td>\n",
              "      <td>40</td>\n",
              "      <td>Cuba</td>\n",
              "      <td>&lt;=50K</td>\n",
              "    </tr>\n",
              "  </tbody>\n",
              "</table>\n",
              "</div>"
            ],
            "text/plain": [
              "   age         workclass  fnlwgt  education  education-num  \\\n",
              "0   39         State-gov   77516  Bachelors             13   \n",
              "1   50  Self-emp-not-inc   83311  Bachelors             13   \n",
              "2   38           Private  215646    HS-grad              9   \n",
              "3   53           Private  234721       11th              7   \n",
              "4   28           Private  338409  Bachelors             13   \n",
              "\n",
              "       marital-status         occupation   relationship   race     sex  \\\n",
              "0       Never-married       Adm-clerical  Not-in-family  White    Male   \n",
              "1  Married-civ-spouse    Exec-managerial        Husband  White    Male   \n",
              "2            Divorced  Handlers-cleaners  Not-in-family  White    Male   \n",
              "3  Married-civ-spouse  Handlers-cleaners        Husband  Black    Male   \n",
              "4  Married-civ-spouse     Prof-specialty           Wife  Black  Female   \n",
              "\n",
              "   capital-gain  capital-loss  hours-per-week native-country income  \n",
              "0          2174             0              40  United-States  <=50K  \n",
              "1             0             0              13  United-States  <=50K  \n",
              "2             0             0              40  United-States  <=50K  \n",
              "3             0             0              40  United-States  <=50K  \n",
              "4             0             0              40           Cuba  <=50K  "
            ]
          },
          "execution_count": 93,
          "metadata": {},
          "output_type": "execute_result"
        }
      ],
      "source": [
        "# Data\n",
        "X = adult_income.data.features\n",
        "y = adult_income.data.targets\n",
        "\n",
        "# Concate Features and Target\n",
        "df = pd.concat([X, y], axis=1)\n",
        "\n",
        "# Show Top 5\n",
        "df.head()"
      ]
    },
    {
      "cell_type": "code",
      "execution_count": 94,
      "metadata": {
        "colab": {
          "base_uri": "https://localhost:8080/"
        },
        "id": "BHooeqQo8bSS",
        "outputId": "4b77c437-8da2-431f-c9db-eac1b2ec923e"
      },
      "outputs": [
        {
          "data": {
            "text/plain": [
              "(48842, 15)"
            ]
          },
          "execution_count": 94,
          "metadata": {},
          "output_type": "execute_result"
        }
      ],
      "source": [
        "# Data Size\n",
        "df.shape"
      ]
    },
    {
      "cell_type": "code",
      "execution_count": 95,
      "metadata": {
        "colab": {
          "base_uri": "https://localhost:8080/"
        },
        "collapsed": true,
        "id": "fuXzSDZkAuhV",
        "outputId": "4fef6e9e-48b5-4d77-aee3-b89514403769"
      },
      "outputs": [
        {
          "data": {
            "text/plain": [
              "{'uci_id': 2,\n",
              " 'name': 'Adult',\n",
              " 'repository_url': 'https://archive.ics.uci.edu/dataset/2/adult',\n",
              " 'data_url': 'https://archive.ics.uci.edu/static/public/2/data.csv',\n",
              " 'abstract': 'Predict whether annual income of an individual exceeds $50K/yr based on census data. Also known as \"Census Income\" dataset. ',\n",
              " 'area': 'Social Science',\n",
              " 'tasks': ['Classification'],\n",
              " 'characteristics': ['Multivariate'],\n",
              " 'num_instances': 48842,\n",
              " 'num_features': 14,\n",
              " 'feature_types': ['Categorical', 'Integer'],\n",
              " 'demographics': ['Age', 'Income', 'Education Level', 'Other', 'Race', 'Sex'],\n",
              " 'target_col': ['income'],\n",
              " 'index_col': None,\n",
              " 'has_missing_values': 'yes',\n",
              " 'missing_values_symbol': 'NaN',\n",
              " 'year_of_dataset_creation': 1996,\n",
              " 'last_updated': 'Tue Sep 24 2024',\n",
              " 'dataset_doi': '10.24432/C5XW20',\n",
              " 'creators': ['Barry Becker', 'Ronny Kohavi'],\n",
              " 'intro_paper': None,\n",
              " 'additional_info': {'summary': \"Extraction was done by Barry Becker from the 1994 Census database.  A set of reasonably clean records was extracted using the following conditions: ((AAGE>16) && (AGI>100) && (AFNLWGT>1)&& (HRSWK>0))\\n\\nPrediction task is to determine whether a person's income is over $50,000 a year.\\n\",\n",
              "  'purpose': None,\n",
              "  'funded_by': None,\n",
              "  'instances_represent': None,\n",
              "  'recommended_data_splits': None,\n",
              "  'sensitive_data': None,\n",
              "  'preprocessing_description': None,\n",
              "  'variable_info': 'Listing of attributes:\\r\\n\\r\\n>50K, <=50K.\\r\\n\\r\\nage: continuous.\\r\\nworkclass: Private, Self-emp-not-inc, Self-emp-inc, Federal-gov, Local-gov, State-gov, Without-pay, Never-worked.\\r\\nfnlwgt: continuous.\\r\\neducation: Bachelors, Some-college, 11th, HS-grad, Prof-school, Assoc-acdm, Assoc-voc, 9th, 7th-8th, 12th, Masters, 1st-4th, 10th, Doctorate, 5th-6th, Preschool.\\r\\neducation-num: continuous.\\r\\nmarital-status: Married-civ-spouse, Divorced, Never-married, Separated, Widowed, Married-spouse-absent, Married-AF-spouse.\\r\\noccupation: Tech-support, Craft-repair, Other-service, Sales, Exec-managerial, Prof-specialty, Handlers-cleaners, Machine-op-inspct, Adm-clerical, Farming-fishing, Transport-moving, Priv-house-serv, Protective-serv, Armed-Forces.\\r\\nrelationship: Wife, Own-child, Husband, Not-in-family, Other-relative, Unmarried.\\r\\nrace: White, Asian-Pac-Islander, Amer-Indian-Eskimo, Other, Black.\\r\\nsex: Female, Male.\\r\\ncapital-gain: continuous.\\r\\ncapital-loss: continuous.\\r\\nhours-per-week: continuous.\\r\\nnative-country: United-States, Cambodia, England, Puerto-Rico, Canada, Germany, Outlying-US(Guam-USVI-etc), India, Japan, Greece, South, China, Cuba, Iran, Honduras, Philippines, Italy, Poland, Jamaica, Vietnam, Mexico, Portugal, Ireland, France, Dominican-Republic, Laos, Ecuador, Taiwan, Haiti, Columbia, Hungary, Guatemala, Nicaragua, Scotland, Thailand, Yugoslavia, El-Salvador, Trinadad&Tobago, Peru, Hong, Holand-Netherlands.',\n",
              "  'citation': None}}"
            ]
          },
          "execution_count": 95,
          "metadata": {},
          "output_type": "execute_result"
        }
      ],
      "source": [
        "# Inspect metadata\n",
        "adult_income.metadata"
      ]
    },
    {
      "cell_type": "markdown",
      "metadata": {
        "id": "jqx19MZjSs_w"
      },
      "source": [
        "# Bagian 1 - Data Loading dan Data Imputation"
      ]
    },
    {
      "cell_type": "markdown",
      "metadata": {
        "id": "v4fg9m9S-7W3"
      },
      "source": [
        "## Soal 1 (5 poin)\n",
        "1.   Lakukan inspeksi profile data\n",
        "2.   **Variabel apa** yang memiliki **nilai yang hilang** (missing value) dan **berapa** jumlahnya?\n",
        "\n"
      ]
    },
    {
      "cell_type": "markdown",
      "metadata": {},
      "source": [
        "**Jawab:**"
      ]
    },
    {
      "cell_type": "code",
      "execution_count": 96,
      "metadata": {
        "id": "OtatZXB0_JCF"
      },
      "outputs": [
        {
          "data": {
            "application/vnd.microsoft.datawrangler.viewer.v0+json": {
              "columns": [
                {
                  "name": "index",
                  "rawType": "object",
                  "type": "string"
                },
                {
                  "name": "age",
                  "rawType": "float64",
                  "type": "float"
                },
                {
                  "name": "fnlwgt",
                  "rawType": "float64",
                  "type": "float"
                },
                {
                  "name": "education-num",
                  "rawType": "float64",
                  "type": "float"
                },
                {
                  "name": "capital-gain",
                  "rawType": "float64",
                  "type": "float"
                },
                {
                  "name": "capital-loss",
                  "rawType": "float64",
                  "type": "float"
                },
                {
                  "name": "hours-per-week",
                  "rawType": "float64",
                  "type": "float"
                }
              ],
              "ref": "5bfe919a-b579-45e0-a3ab-5e7d31787801",
              "rows": [
                [
                  "count",
                  "48842.0",
                  "48842.0",
                  "48842.0",
                  "48842.0",
                  "48842.0",
                  "48842.0"
                ],
                [
                  "mean",
                  "38.64358543876172",
                  "189664.13459727284",
                  "10.078088530363212",
                  "1079.0676262233324",
                  "87.50231358257237",
                  "40.422382375824085"
                ],
                [
                  "std",
                  "13.710509934443177",
                  "105604.02542315745",
                  "2.5709727555918316",
                  "7452.019057653414",
                  "403.0045521244541",
                  "12.391444024255806"
                ],
                [
                  "min",
                  "17.0",
                  "12285.0",
                  "1.0",
                  "0.0",
                  "0.0",
                  "1.0"
                ],
                [
                  "25%",
                  "28.0",
                  "117550.5",
                  "9.0",
                  "0.0",
                  "0.0",
                  "40.0"
                ],
                [
                  "50%",
                  "37.0",
                  "178144.5",
                  "10.0",
                  "0.0",
                  "0.0",
                  "40.0"
                ],
                [
                  "75%",
                  "48.0",
                  "237642.0",
                  "12.0",
                  "0.0",
                  "0.0",
                  "45.0"
                ],
                [
                  "max",
                  "90.0",
                  "1490400.0",
                  "16.0",
                  "99999.0",
                  "4356.0",
                  "99.0"
                ]
              ],
              "shape": {
                "columns": 6,
                "rows": 8
              }
            },
            "text/html": [
              "<div>\n",
              "<style scoped>\n",
              "    .dataframe tbody tr th:only-of-type {\n",
              "        vertical-align: middle;\n",
              "    }\n",
              "\n",
              "    .dataframe tbody tr th {\n",
              "        vertical-align: top;\n",
              "    }\n",
              "\n",
              "    .dataframe thead th {\n",
              "        text-align: right;\n",
              "    }\n",
              "</style>\n",
              "<table border=\"1\" class=\"dataframe\">\n",
              "  <thead>\n",
              "    <tr style=\"text-align: right;\">\n",
              "      <th></th>\n",
              "      <th>age</th>\n",
              "      <th>fnlwgt</th>\n",
              "      <th>education-num</th>\n",
              "      <th>capital-gain</th>\n",
              "      <th>capital-loss</th>\n",
              "      <th>hours-per-week</th>\n",
              "    </tr>\n",
              "  </thead>\n",
              "  <tbody>\n",
              "    <tr>\n",
              "      <th>count</th>\n",
              "      <td>48842.000000</td>\n",
              "      <td>4.884200e+04</td>\n",
              "      <td>48842.000000</td>\n",
              "      <td>48842.000000</td>\n",
              "      <td>48842.000000</td>\n",
              "      <td>48842.000000</td>\n",
              "    </tr>\n",
              "    <tr>\n",
              "      <th>mean</th>\n",
              "      <td>38.643585</td>\n",
              "      <td>1.896641e+05</td>\n",
              "      <td>10.078089</td>\n",
              "      <td>1079.067626</td>\n",
              "      <td>87.502314</td>\n",
              "      <td>40.422382</td>\n",
              "    </tr>\n",
              "    <tr>\n",
              "      <th>std</th>\n",
              "      <td>13.710510</td>\n",
              "      <td>1.056040e+05</td>\n",
              "      <td>2.570973</td>\n",
              "      <td>7452.019058</td>\n",
              "      <td>403.004552</td>\n",
              "      <td>12.391444</td>\n",
              "    </tr>\n",
              "    <tr>\n",
              "      <th>min</th>\n",
              "      <td>17.000000</td>\n",
              "      <td>1.228500e+04</td>\n",
              "      <td>1.000000</td>\n",
              "      <td>0.000000</td>\n",
              "      <td>0.000000</td>\n",
              "      <td>1.000000</td>\n",
              "    </tr>\n",
              "    <tr>\n",
              "      <th>25%</th>\n",
              "      <td>28.000000</td>\n",
              "      <td>1.175505e+05</td>\n",
              "      <td>9.000000</td>\n",
              "      <td>0.000000</td>\n",
              "      <td>0.000000</td>\n",
              "      <td>40.000000</td>\n",
              "    </tr>\n",
              "    <tr>\n",
              "      <th>50%</th>\n",
              "      <td>37.000000</td>\n",
              "      <td>1.781445e+05</td>\n",
              "      <td>10.000000</td>\n",
              "      <td>0.000000</td>\n",
              "      <td>0.000000</td>\n",
              "      <td>40.000000</td>\n",
              "    </tr>\n",
              "    <tr>\n",
              "      <th>75%</th>\n",
              "      <td>48.000000</td>\n",
              "      <td>2.376420e+05</td>\n",
              "      <td>12.000000</td>\n",
              "      <td>0.000000</td>\n",
              "      <td>0.000000</td>\n",
              "      <td>45.000000</td>\n",
              "    </tr>\n",
              "    <tr>\n",
              "      <th>max</th>\n",
              "      <td>90.000000</td>\n",
              "      <td>1.490400e+06</td>\n",
              "      <td>16.000000</td>\n",
              "      <td>99999.000000</td>\n",
              "      <td>4356.000000</td>\n",
              "      <td>99.000000</td>\n",
              "    </tr>\n",
              "  </tbody>\n",
              "</table>\n",
              "</div>"
            ],
            "text/plain": [
              "                age        fnlwgt  education-num  capital-gain  capital-loss  \\\n",
              "count  48842.000000  4.884200e+04   48842.000000  48842.000000  48842.000000   \n",
              "mean      38.643585  1.896641e+05      10.078089   1079.067626     87.502314   \n",
              "std       13.710510  1.056040e+05       2.570973   7452.019058    403.004552   \n",
              "min       17.000000  1.228500e+04       1.000000      0.000000      0.000000   \n",
              "25%       28.000000  1.175505e+05       9.000000      0.000000      0.000000   \n",
              "50%       37.000000  1.781445e+05      10.000000      0.000000      0.000000   \n",
              "75%       48.000000  2.376420e+05      12.000000      0.000000      0.000000   \n",
              "max       90.000000  1.490400e+06      16.000000  99999.000000   4356.000000   \n",
              "\n",
              "       hours-per-week  \n",
              "count    48842.000000  \n",
              "mean        40.422382  \n",
              "std         12.391444  \n",
              "min          1.000000  \n",
              "25%         40.000000  \n",
              "50%         40.000000  \n",
              "75%         45.000000  \n",
              "max         99.000000  "
            ]
          },
          "execution_count": 96,
          "metadata": {},
          "output_type": "execute_result"
        }
      ],
      "source": [
        "# Jawaban soal 1\n",
        "df.describe()"
      ]
    },
    {
      "cell_type": "code",
      "execution_count": 97,
      "metadata": {},
      "outputs": [
        {
          "name": "stdout",
          "output_type": "stream",
          "text": [
            "<class 'pandas.core.frame.DataFrame'>\n",
            "RangeIndex: 48842 entries, 0 to 48841\n",
            "Data columns (total 15 columns):\n",
            " #   Column          Non-Null Count  Dtype \n",
            "---  ------          --------------  ----- \n",
            " 0   age             48842 non-null  int64 \n",
            " 1   workclass       47879 non-null  object\n",
            " 2   fnlwgt          48842 non-null  int64 \n",
            " 3   education       48842 non-null  object\n",
            " 4   education-num   48842 non-null  int64 \n",
            " 5   marital-status  48842 non-null  object\n",
            " 6   occupation      47876 non-null  object\n",
            " 7   relationship    48842 non-null  object\n",
            " 8   race            48842 non-null  object\n",
            " 9   sex             48842 non-null  object\n",
            " 10  capital-gain    48842 non-null  int64 \n",
            " 11  capital-loss    48842 non-null  int64 \n",
            " 12  hours-per-week  48842 non-null  int64 \n",
            " 13  native-country  48568 non-null  object\n",
            " 14  income          48842 non-null  object\n",
            "dtypes: int64(6), object(9)\n",
            "memory usage: 5.6+ MB\n"
          ]
        }
      ],
      "source": [
        "df.info()"
      ]
    },
    {
      "cell_type": "code",
      "execution_count": 98,
      "metadata": {},
      "outputs": [
        {
          "data": {
            "application/vnd.microsoft.datawrangler.viewer.v0+json": {
              "columns": [
                {
                  "name": "index",
                  "rawType": "object",
                  "type": "string"
                },
                {
                  "name": "0",
                  "rawType": "int64",
                  "type": "integer"
                }
              ],
              "ref": "92385491-8909-43d3-8451-ed0e51c932a7",
              "rows": [
                [
                  "age",
                  "0"
                ],
                [
                  "workclass",
                  "963"
                ],
                [
                  "fnlwgt",
                  "0"
                ],
                [
                  "education",
                  "0"
                ],
                [
                  "education-num",
                  "0"
                ],
                [
                  "marital-status",
                  "0"
                ],
                [
                  "occupation",
                  "966"
                ],
                [
                  "relationship",
                  "0"
                ],
                [
                  "race",
                  "0"
                ],
                [
                  "sex",
                  "0"
                ],
                [
                  "capital-gain",
                  "0"
                ],
                [
                  "capital-loss",
                  "0"
                ],
                [
                  "hours-per-week",
                  "0"
                ],
                [
                  "native-country",
                  "274"
                ],
                [
                  "income",
                  "0"
                ]
              ],
              "shape": {
                "columns": 1,
                "rows": 15
              }
            },
            "text/plain": [
              "age                 0\n",
              "workclass         963\n",
              "fnlwgt              0\n",
              "education           0\n",
              "education-num       0\n",
              "marital-status      0\n",
              "occupation        966\n",
              "relationship        0\n",
              "race                0\n",
              "sex                 0\n",
              "capital-gain        0\n",
              "capital-loss        0\n",
              "hours-per-week      0\n",
              "native-country    274\n",
              "income              0\n",
              "dtype: int64"
            ]
          },
          "execution_count": 98,
          "metadata": {},
          "output_type": "execute_result"
        }
      ],
      "source": [
        "null_data_raw = df.isnull().sum()\n",
        "null_data_raw"
      ]
    },
    {
      "cell_type": "code",
      "execution_count": 99,
      "metadata": {},
      "outputs": [
        {
          "data": {
            "application/vnd.microsoft.datawrangler.viewer.v0+json": {
              "columns": [
                {
                  "name": "index",
                  "rawType": "object",
                  "type": "string"
                },
                {
                  "name": "0",
                  "rawType": "int64",
                  "type": "integer"
                }
              ],
              "ref": "a5b6e19f-9fd8-4f26-9857-052e54a7def8",
              "rows": [
                [
                  "workclass",
                  "963"
                ],
                [
                  "occupation",
                  "966"
                ],
                [
                  "native-country",
                  "274"
                ]
              ],
              "shape": {
                "columns": 1,
                "rows": 3
              }
            },
            "text/plain": [
              "workclass         963\n",
              "occupation        966\n",
              "native-country    274\n",
              "dtype: int64"
            ]
          },
          "execution_count": 99,
          "metadata": {},
          "output_type": "execute_result"
        }
      ],
      "source": [
        "null_data = null_data_raw[null_data_raw > 0]\n",
        "null_data"
      ]
    },
    {
      "cell_type": "code",
      "execution_count": 100,
      "metadata": {},
      "outputs": [
        {
          "name": "stdout",
          "output_type": "stream",
          "text": [
            "2. Variabel yang memiliki nilai hilang adalah workclass, occupation, native-country dan jumlahnya adalah 2203\n"
          ]
        }
      ],
      "source": [
        "print(f'2. Variabel yang memiliki nilai hilang adalah {\", \".join(map(str, null_data.index))} dan jumlahnya adalah {null_data.sum()}')"
      ]
    },
    {
      "cell_type": "markdown",
      "metadata": {
        "id": "H-8TfHjl_PMh"
      },
      "source": [
        "## Soal 2 (5 poin)\n",
        "1. Lakukan proses data imputation pada fitur yang memiliki data yang hilang\n",
        "2. Cek kembali apakah masih terdapat data yang hilang"
      ]
    },
    {
      "cell_type": "markdown",
      "metadata": {},
      "source": [
        "**Jawab:**"
      ]
    },
    {
      "cell_type": "code",
      "execution_count": 101,
      "metadata": {
        "id": "z54m_zyQAqFO"
      },
      "outputs": [
        {
          "name": "stderr",
          "output_type": "stream",
          "text": [
            "C:\\Users\\KarlSchmidt\\AppData\\Local\\Temp\\ipykernel_22072\\3815826353.py:7: FutureWarning: A value is trying to be set on a copy of a DataFrame or Series through chained assignment using an inplace method.\n",
            "The behavior will change in pandas 3.0. This inplace method will never work because the intermediate object on which we are setting values always behaves as a copy.\n",
            "\n",
            "For example, when doing 'df[col].method(value, inplace=True)', try using 'df.method({col: value}, inplace=True)' or df[col] = df[col].method(value) instead, to perform the operation inplace on the original object.\n",
            "\n",
            "\n",
            "  df[col].fillna(df[col].mode()[0], inplace=True)\n"
          ]
        }
      ],
      "source": [
        "# 1.\n",
        "# melakukan data imputation dengan menggunakan cara mengisi dengan nilai terbanyak (modus)\n",
        "for col in null_data.index:\n",
        "    if df[col].dtype in ['int64', 'float64']:   # data numerik\n",
        "        df[col].fillna(df[col].mean(), inplace=True)\n",
        "    else:  # data kategorikal\n",
        "        df[col].fillna(df[col].mode()[0], inplace=True)"
      ]
    },
    {
      "cell_type": "code",
      "execution_count": 102,
      "metadata": {},
      "outputs": [
        {
          "data": {
            "application/vnd.microsoft.datawrangler.viewer.v0+json": {
              "columns": [
                {
                  "name": "index",
                  "rawType": "object",
                  "type": "string"
                },
                {
                  "name": "0",
                  "rawType": "int64",
                  "type": "integer"
                }
              ],
              "ref": "eee8054b-9ed8-499a-9e30-64d74ee37dec",
              "rows": [
                [
                  "age",
                  "0"
                ],
                [
                  "workclass",
                  "0"
                ],
                [
                  "fnlwgt",
                  "0"
                ],
                [
                  "education",
                  "0"
                ],
                [
                  "education-num",
                  "0"
                ],
                [
                  "marital-status",
                  "0"
                ],
                [
                  "occupation",
                  "0"
                ],
                [
                  "relationship",
                  "0"
                ],
                [
                  "race",
                  "0"
                ],
                [
                  "sex",
                  "0"
                ],
                [
                  "capital-gain",
                  "0"
                ],
                [
                  "capital-loss",
                  "0"
                ],
                [
                  "hours-per-week",
                  "0"
                ],
                [
                  "native-country",
                  "0"
                ],
                [
                  "income",
                  "0"
                ]
              ],
              "shape": {
                "columns": 1,
                "rows": 15
              }
            },
            "text/plain": [
              "age               0\n",
              "workclass         0\n",
              "fnlwgt            0\n",
              "education         0\n",
              "education-num     0\n",
              "marital-status    0\n",
              "occupation        0\n",
              "relationship      0\n",
              "race              0\n",
              "sex               0\n",
              "capital-gain      0\n",
              "capital-loss      0\n",
              "hours-per-week    0\n",
              "native-country    0\n",
              "income            0\n",
              "dtype: int64"
            ]
          },
          "execution_count": 102,
          "metadata": {},
          "output_type": "execute_result"
        }
      ],
      "source": [
        "# pengecekan data\n",
        "df.isnull().sum()"
      ]
    },
    {
      "cell_type": "markdown",
      "metadata": {},
      "source": [
        "Terlihat bahwa sudah tidak ada data yang memiliki nilai kosong yang ditunjukkan dari output yang ditampilkan berupa angka 0 semua."
      ]
    },
    {
      "cell_type": "markdown",
      "metadata": {
        "id": "9nhC1bdxAbqE"
      },
      "source": [
        "## Soal 3 (10 poin)\n",
        "Inspeksi semua fitur kualitatif. Jika terdapat value yang **tidak sesuai**, **ganti dengan 'Others'** atau yang sesuai atau jika terdapat duplikasi karena **kesalahan penulisan**, lakukan penyesuaian."
      ]
    },
    {
      "cell_type": "code",
      "execution_count": 103,
      "metadata": {
        "id": "caVHWj3pBDqa"
      },
      "outputs": [
        {
          "data": {
            "application/vnd.microsoft.datawrangler.viewer.v0+json": {
              "columns": [
                {
                  "name": "index",
                  "rawType": "int64",
                  "type": "integer"
                },
                {
                  "name": "workclass",
                  "rawType": "object",
                  "type": "string"
                },
                {
                  "name": "education",
                  "rawType": "object",
                  "type": "string"
                },
                {
                  "name": "marital-status",
                  "rawType": "object",
                  "type": "string"
                },
                {
                  "name": "occupation",
                  "rawType": "object",
                  "type": "string"
                },
                {
                  "name": "relationship",
                  "rawType": "object",
                  "type": "string"
                },
                {
                  "name": "race",
                  "rawType": "object",
                  "type": "string"
                },
                {
                  "name": "sex",
                  "rawType": "object",
                  "type": "string"
                },
                {
                  "name": "native-country",
                  "rawType": "object",
                  "type": "string"
                },
                {
                  "name": "income",
                  "rawType": "object",
                  "type": "string"
                }
              ],
              "ref": "775c1194-73bc-4b44-94c2-dc9e8b8ed530",
              "rows": [
                [
                  "0",
                  "State-gov",
                  "Bachelors",
                  "Never-married",
                  "Adm-clerical",
                  "Not-in-family",
                  "White",
                  "Male",
                  "United-States",
                  "<=50K"
                ],
                [
                  "1",
                  "Self-emp-not-inc",
                  "Bachelors",
                  "Married-civ-spouse",
                  "Exec-managerial",
                  "Husband",
                  "White",
                  "Male",
                  "United-States",
                  "<=50K"
                ],
                [
                  "2",
                  "Private",
                  "HS-grad",
                  "Divorced",
                  "Handlers-cleaners",
                  "Not-in-family",
                  "White",
                  "Male",
                  "United-States",
                  "<=50K"
                ],
                [
                  "3",
                  "Private",
                  "11th",
                  "Married-civ-spouse",
                  "Handlers-cleaners",
                  "Husband",
                  "Black",
                  "Male",
                  "United-States",
                  "<=50K"
                ],
                [
                  "4",
                  "Private",
                  "Bachelors",
                  "Married-civ-spouse",
                  "Prof-specialty",
                  "Wife",
                  "Black",
                  "Female",
                  "Cuba",
                  "<=50K"
                ],
                [
                  "5",
                  "Private",
                  "Masters",
                  "Married-civ-spouse",
                  "Exec-managerial",
                  "Wife",
                  "White",
                  "Female",
                  "United-States",
                  "<=50K"
                ],
                [
                  "6",
                  "Private",
                  "9th",
                  "Married-spouse-absent",
                  "Other-service",
                  "Not-in-family",
                  "Black",
                  "Female",
                  "Jamaica",
                  "<=50K"
                ],
                [
                  "7",
                  "Self-emp-not-inc",
                  "HS-grad",
                  "Married-civ-spouse",
                  "Exec-managerial",
                  "Husband",
                  "White",
                  "Male",
                  "United-States",
                  ">50K"
                ],
                [
                  "8",
                  "Private",
                  "Masters",
                  "Never-married",
                  "Prof-specialty",
                  "Not-in-family",
                  "White",
                  "Female",
                  "United-States",
                  ">50K"
                ],
                [
                  "9",
                  "Private",
                  "Bachelors",
                  "Married-civ-spouse",
                  "Exec-managerial",
                  "Husband",
                  "White",
                  "Male",
                  "United-States",
                  ">50K"
                ],
                [
                  "10",
                  "Private",
                  "Some-college",
                  "Married-civ-spouse",
                  "Exec-managerial",
                  "Husband",
                  "Black",
                  "Male",
                  "United-States",
                  ">50K"
                ],
                [
                  "11",
                  "State-gov",
                  "Bachelors",
                  "Married-civ-spouse",
                  "Prof-specialty",
                  "Husband",
                  "Asian-Pac-Islander",
                  "Male",
                  "India",
                  ">50K"
                ],
                [
                  "12",
                  "Private",
                  "Bachelors",
                  "Never-married",
                  "Adm-clerical",
                  "Own-child",
                  "White",
                  "Female",
                  "United-States",
                  "<=50K"
                ],
                [
                  "13",
                  "Private",
                  "Assoc-acdm",
                  "Never-married",
                  "Sales",
                  "Not-in-family",
                  "Black",
                  "Male",
                  "United-States",
                  "<=50K"
                ],
                [
                  "14",
                  "Private",
                  "Assoc-voc",
                  "Married-civ-spouse",
                  "Craft-repair",
                  "Husband",
                  "Asian-Pac-Islander",
                  "Male",
                  "?",
                  ">50K"
                ],
                [
                  "15",
                  "Private",
                  "7th-8th",
                  "Married-civ-spouse",
                  "Transport-moving",
                  "Husband",
                  "Amer-Indian-Eskimo",
                  "Male",
                  "Mexico",
                  "<=50K"
                ],
                [
                  "16",
                  "Self-emp-not-inc",
                  "HS-grad",
                  "Never-married",
                  "Farming-fishing",
                  "Own-child",
                  "White",
                  "Male",
                  "United-States",
                  "<=50K"
                ],
                [
                  "17",
                  "Private",
                  "HS-grad",
                  "Never-married",
                  "Machine-op-inspct",
                  "Unmarried",
                  "White",
                  "Male",
                  "United-States",
                  "<=50K"
                ],
                [
                  "18",
                  "Private",
                  "11th",
                  "Married-civ-spouse",
                  "Sales",
                  "Husband",
                  "White",
                  "Male",
                  "United-States",
                  "<=50K"
                ],
                [
                  "19",
                  "Self-emp-not-inc",
                  "Masters",
                  "Divorced",
                  "Exec-managerial",
                  "Unmarried",
                  "White",
                  "Female",
                  "United-States",
                  ">50K"
                ],
                [
                  "20",
                  "Private",
                  "Doctorate",
                  "Married-civ-spouse",
                  "Prof-specialty",
                  "Husband",
                  "White",
                  "Male",
                  "United-States",
                  ">50K"
                ],
                [
                  "21",
                  "Private",
                  "HS-grad",
                  "Separated",
                  "Other-service",
                  "Unmarried",
                  "Black",
                  "Female",
                  "United-States",
                  "<=50K"
                ],
                [
                  "22",
                  "Federal-gov",
                  "9th",
                  "Married-civ-spouse",
                  "Farming-fishing",
                  "Husband",
                  "Black",
                  "Male",
                  "United-States",
                  "<=50K"
                ],
                [
                  "23",
                  "Private",
                  "11th",
                  "Married-civ-spouse",
                  "Transport-moving",
                  "Husband",
                  "White",
                  "Male",
                  "United-States",
                  "<=50K"
                ],
                [
                  "24",
                  "Private",
                  "HS-grad",
                  "Divorced",
                  "Tech-support",
                  "Unmarried",
                  "White",
                  "Female",
                  "United-States",
                  "<=50K"
                ],
                [
                  "25",
                  "Local-gov",
                  "Bachelors",
                  "Married-civ-spouse",
                  "Tech-support",
                  "Husband",
                  "White",
                  "Male",
                  "United-States",
                  ">50K"
                ],
                [
                  "26",
                  "Private",
                  "HS-grad",
                  "Never-married",
                  "Craft-repair",
                  "Own-child",
                  "White",
                  "Male",
                  "United-States",
                  "<=50K"
                ],
                [
                  "27",
                  "?",
                  "Some-college",
                  "Married-civ-spouse",
                  "?",
                  "Husband",
                  "Asian-Pac-Islander",
                  "Male",
                  "South",
                  ">50K"
                ],
                [
                  "28",
                  "Private",
                  "HS-grad",
                  "Divorced",
                  "Exec-managerial",
                  "Not-in-family",
                  "White",
                  "Male",
                  "United-States",
                  "<=50K"
                ],
                [
                  "29",
                  "Private",
                  "HS-grad",
                  "Married-civ-spouse",
                  "Craft-repair",
                  "Husband",
                  "White",
                  "Male",
                  "United-States",
                  "<=50K"
                ],
                [
                  "30",
                  "Local-gov",
                  "Assoc-acdm",
                  "Never-married",
                  "Protective-serv",
                  "Not-in-family",
                  "White",
                  "Male",
                  "United-States",
                  "<=50K"
                ],
                [
                  "31",
                  "Private",
                  "Some-college",
                  "Never-married",
                  "Sales",
                  "Own-child",
                  "Black",
                  "Male",
                  "United-States",
                  "<=50K"
                ],
                [
                  "32",
                  "Private",
                  "Bachelors",
                  "Divorced",
                  "Exec-managerial",
                  "Own-child",
                  "White",
                  "Male",
                  "United-States",
                  "<=50K"
                ],
                [
                  "33",
                  "Federal-gov",
                  "Some-college",
                  "Married-civ-spouse",
                  "Adm-clerical",
                  "Own-child",
                  "White",
                  "Male",
                  "United-States",
                  "<=50K"
                ],
                [
                  "34",
                  "State-gov",
                  "Some-college",
                  "Married-civ-spouse",
                  "Other-service",
                  "Husband",
                  "Black",
                  "Male",
                  "United-States",
                  "<=50K"
                ],
                [
                  "35",
                  "Private",
                  "11th",
                  "Never-married",
                  "Machine-op-inspct",
                  "Unmarried",
                  "White",
                  "Male",
                  "Puerto-Rico",
                  "<=50K"
                ],
                [
                  "36",
                  "Private",
                  "Some-college",
                  "Never-married",
                  "Machine-op-inspct",
                  "Own-child",
                  "White",
                  "Male",
                  "United-States",
                  "<=50K"
                ],
                [
                  "37",
                  "Private",
                  "HS-grad",
                  "Married-AF-spouse",
                  "Adm-clerical",
                  "Wife",
                  "White",
                  "Female",
                  "United-States",
                  "<=50K"
                ],
                [
                  "38",
                  "Private",
                  "Some-college",
                  "Married-civ-spouse",
                  "Sales",
                  "Husband",
                  "White",
                  "Male",
                  "?",
                  ">50K"
                ],
                [
                  "39",
                  "Self-emp-not-inc",
                  "Assoc-acdm",
                  "Married-civ-spouse",
                  "Prof-specialty",
                  "Husband",
                  "White",
                  "Male",
                  "United-States",
                  "<=50K"
                ],
                [
                  "40",
                  "Private",
                  "9th",
                  "Married-civ-spouse",
                  "Machine-op-inspct",
                  "Husband",
                  "White",
                  "Male",
                  "United-States",
                  "<=50K"
                ],
                [
                  "41",
                  "Self-emp-not-inc",
                  "Bachelors",
                  "Married-civ-spouse",
                  "Prof-specialty",
                  "Husband",
                  "White",
                  "Male",
                  "United-States",
                  "<=50K"
                ],
                [
                  "42",
                  "Private",
                  "Bachelors",
                  "Married-civ-spouse",
                  "Tech-support",
                  "Husband",
                  "White",
                  "Male",
                  "United-States",
                  "<=50K"
                ],
                [
                  "43",
                  "Private",
                  "HS-grad",
                  "Separated",
                  "Adm-clerical",
                  "Unmarried",
                  "White",
                  "Female",
                  "United-States",
                  "<=50K"
                ],
                [
                  "44",
                  "Private",
                  "HS-grad",
                  "Never-married",
                  "Handlers-cleaners",
                  "Not-in-family",
                  "White",
                  "Male",
                  "United-States",
                  "<=50K"
                ],
                [
                  "45",
                  "Federal-gov",
                  "Bachelors",
                  "Married-civ-spouse",
                  "Prof-specialty",
                  "Husband",
                  "Black",
                  "Male",
                  "United-States",
                  ">50K"
                ],
                [
                  "46",
                  "Private",
                  "HS-grad",
                  "Married-civ-spouse",
                  "Machine-op-inspct",
                  "Husband",
                  "White",
                  "Male",
                  "United-States",
                  "<=50K"
                ],
                [
                  "47",
                  "Private",
                  "Masters",
                  "Divorced",
                  "Exec-managerial",
                  "Unmarried",
                  "White",
                  "Female",
                  "United-States",
                  "<=50K"
                ],
                [
                  "48",
                  "State-gov",
                  "Assoc-voc",
                  "Married-civ-spouse",
                  "Craft-repair",
                  "Husband",
                  "White",
                  "Male",
                  "United-States",
                  "<=50K"
                ],
                [
                  "49",
                  "Private",
                  "Assoc-voc",
                  "Never-married",
                  "Prof-specialty",
                  "Not-in-family",
                  "White",
                  "Male",
                  "United-States",
                  "<=50K"
                ]
              ],
              "shape": {
                "columns": 9,
                "rows": 48842
              }
            },
            "text/html": [
              "<div>\n",
              "<style scoped>\n",
              "    .dataframe tbody tr th:only-of-type {\n",
              "        vertical-align: middle;\n",
              "    }\n",
              "\n",
              "    .dataframe tbody tr th {\n",
              "        vertical-align: top;\n",
              "    }\n",
              "\n",
              "    .dataframe thead th {\n",
              "        text-align: right;\n",
              "    }\n",
              "</style>\n",
              "<table border=\"1\" class=\"dataframe\">\n",
              "  <thead>\n",
              "    <tr style=\"text-align: right;\">\n",
              "      <th></th>\n",
              "      <th>workclass</th>\n",
              "      <th>education</th>\n",
              "      <th>marital-status</th>\n",
              "      <th>occupation</th>\n",
              "      <th>relationship</th>\n",
              "      <th>race</th>\n",
              "      <th>sex</th>\n",
              "      <th>native-country</th>\n",
              "      <th>income</th>\n",
              "    </tr>\n",
              "  </thead>\n",
              "  <tbody>\n",
              "    <tr>\n",
              "      <th>0</th>\n",
              "      <td>State-gov</td>\n",
              "      <td>Bachelors</td>\n",
              "      <td>Never-married</td>\n",
              "      <td>Adm-clerical</td>\n",
              "      <td>Not-in-family</td>\n",
              "      <td>White</td>\n",
              "      <td>Male</td>\n",
              "      <td>United-States</td>\n",
              "      <td>&lt;=50K</td>\n",
              "    </tr>\n",
              "    <tr>\n",
              "      <th>1</th>\n",
              "      <td>Self-emp-not-inc</td>\n",
              "      <td>Bachelors</td>\n",
              "      <td>Married-civ-spouse</td>\n",
              "      <td>Exec-managerial</td>\n",
              "      <td>Husband</td>\n",
              "      <td>White</td>\n",
              "      <td>Male</td>\n",
              "      <td>United-States</td>\n",
              "      <td>&lt;=50K</td>\n",
              "    </tr>\n",
              "    <tr>\n",
              "      <th>2</th>\n",
              "      <td>Private</td>\n",
              "      <td>HS-grad</td>\n",
              "      <td>Divorced</td>\n",
              "      <td>Handlers-cleaners</td>\n",
              "      <td>Not-in-family</td>\n",
              "      <td>White</td>\n",
              "      <td>Male</td>\n",
              "      <td>United-States</td>\n",
              "      <td>&lt;=50K</td>\n",
              "    </tr>\n",
              "    <tr>\n",
              "      <th>3</th>\n",
              "      <td>Private</td>\n",
              "      <td>11th</td>\n",
              "      <td>Married-civ-spouse</td>\n",
              "      <td>Handlers-cleaners</td>\n",
              "      <td>Husband</td>\n",
              "      <td>Black</td>\n",
              "      <td>Male</td>\n",
              "      <td>United-States</td>\n",
              "      <td>&lt;=50K</td>\n",
              "    </tr>\n",
              "    <tr>\n",
              "      <th>4</th>\n",
              "      <td>Private</td>\n",
              "      <td>Bachelors</td>\n",
              "      <td>Married-civ-spouse</td>\n",
              "      <td>Prof-specialty</td>\n",
              "      <td>Wife</td>\n",
              "      <td>Black</td>\n",
              "      <td>Female</td>\n",
              "      <td>Cuba</td>\n",
              "      <td>&lt;=50K</td>\n",
              "    </tr>\n",
              "    <tr>\n",
              "      <th>...</th>\n",
              "      <td>...</td>\n",
              "      <td>...</td>\n",
              "      <td>...</td>\n",
              "      <td>...</td>\n",
              "      <td>...</td>\n",
              "      <td>...</td>\n",
              "      <td>...</td>\n",
              "      <td>...</td>\n",
              "      <td>...</td>\n",
              "    </tr>\n",
              "    <tr>\n",
              "      <th>48837</th>\n",
              "      <td>Private</td>\n",
              "      <td>Bachelors</td>\n",
              "      <td>Divorced</td>\n",
              "      <td>Prof-specialty</td>\n",
              "      <td>Not-in-family</td>\n",
              "      <td>White</td>\n",
              "      <td>Female</td>\n",
              "      <td>United-States</td>\n",
              "      <td>&lt;=50K.</td>\n",
              "    </tr>\n",
              "    <tr>\n",
              "      <th>48838</th>\n",
              "      <td>Private</td>\n",
              "      <td>HS-grad</td>\n",
              "      <td>Widowed</td>\n",
              "      <td>Prof-specialty</td>\n",
              "      <td>Other-relative</td>\n",
              "      <td>Black</td>\n",
              "      <td>Male</td>\n",
              "      <td>United-States</td>\n",
              "      <td>&lt;=50K.</td>\n",
              "    </tr>\n",
              "    <tr>\n",
              "      <th>48839</th>\n",
              "      <td>Private</td>\n",
              "      <td>Bachelors</td>\n",
              "      <td>Married-civ-spouse</td>\n",
              "      <td>Prof-specialty</td>\n",
              "      <td>Husband</td>\n",
              "      <td>White</td>\n",
              "      <td>Male</td>\n",
              "      <td>United-States</td>\n",
              "      <td>&lt;=50K.</td>\n",
              "    </tr>\n",
              "    <tr>\n",
              "      <th>48840</th>\n",
              "      <td>Private</td>\n",
              "      <td>Bachelors</td>\n",
              "      <td>Divorced</td>\n",
              "      <td>Adm-clerical</td>\n",
              "      <td>Own-child</td>\n",
              "      <td>Asian-Pac-Islander</td>\n",
              "      <td>Male</td>\n",
              "      <td>United-States</td>\n",
              "      <td>&lt;=50K.</td>\n",
              "    </tr>\n",
              "    <tr>\n",
              "      <th>48841</th>\n",
              "      <td>Self-emp-inc</td>\n",
              "      <td>Bachelors</td>\n",
              "      <td>Married-civ-spouse</td>\n",
              "      <td>Exec-managerial</td>\n",
              "      <td>Husband</td>\n",
              "      <td>White</td>\n",
              "      <td>Male</td>\n",
              "      <td>United-States</td>\n",
              "      <td>&gt;50K.</td>\n",
              "    </tr>\n",
              "  </tbody>\n",
              "</table>\n",
              "<p>48842 rows × 9 columns</p>\n",
              "</div>"
            ],
            "text/plain": [
              "              workclass  education      marital-status         occupation  \\\n",
              "0             State-gov  Bachelors       Never-married       Adm-clerical   \n",
              "1      Self-emp-not-inc  Bachelors  Married-civ-spouse    Exec-managerial   \n",
              "2               Private    HS-grad            Divorced  Handlers-cleaners   \n",
              "3               Private       11th  Married-civ-spouse  Handlers-cleaners   \n",
              "4               Private  Bachelors  Married-civ-spouse     Prof-specialty   \n",
              "...                 ...        ...                 ...                ...   \n",
              "48837           Private  Bachelors            Divorced     Prof-specialty   \n",
              "48838           Private    HS-grad             Widowed     Prof-specialty   \n",
              "48839           Private  Bachelors  Married-civ-spouse     Prof-specialty   \n",
              "48840           Private  Bachelors            Divorced       Adm-clerical   \n",
              "48841      Self-emp-inc  Bachelors  Married-civ-spouse    Exec-managerial   \n",
              "\n",
              "         relationship                race     sex native-country  income  \n",
              "0       Not-in-family               White    Male  United-States   <=50K  \n",
              "1             Husband               White    Male  United-States   <=50K  \n",
              "2       Not-in-family               White    Male  United-States   <=50K  \n",
              "3             Husband               Black    Male  United-States   <=50K  \n",
              "4                Wife               Black  Female           Cuba   <=50K  \n",
              "...               ...                 ...     ...            ...     ...  \n",
              "48837   Not-in-family               White  Female  United-States  <=50K.  \n",
              "48838  Other-relative               Black    Male  United-States  <=50K.  \n",
              "48839         Husband               White    Male  United-States  <=50K.  \n",
              "48840       Own-child  Asian-Pac-Islander    Male  United-States  <=50K.  \n",
              "48841         Husband               White    Male  United-States   >50K.  \n",
              "\n",
              "[48842 rows x 9 columns]"
            ]
          },
          "execution_count": 103,
          "metadata": {},
          "output_type": "execute_result"
        }
      ],
      "source": [
        "non_numeric_cols = df.select_dtypes(exclude=['number'])\n",
        "non_numeric_cols"
      ]
    },
    {
      "cell_type": "markdown",
      "metadata": {},
      "source": [
        "Berdasarkan pengmatan yang ada, berikut ketidaksesuian data yang ada:\n",
        "- Kolom `workclass` memiliki nilai `?`\n",
        "- Kolom `native-country` memiliki nilai `?`\n",
        "- Kolom `occupation` memiliki nilai `?`"
      ]
    },
    {
      "cell_type": "code",
      "execution_count": 104,
      "metadata": {},
      "outputs": [
        {
          "data": {
            "application/vnd.microsoft.datawrangler.viewer.v0+json": {
              "columns": [
                {
                  "name": "index",
                  "rawType": "int64",
                  "type": "integer"
                },
                {
                  "name": "age",
                  "rawType": "int64",
                  "type": "integer"
                },
                {
                  "name": "workclass",
                  "rawType": "object",
                  "type": "string"
                },
                {
                  "name": "fnlwgt",
                  "rawType": "int64",
                  "type": "integer"
                },
                {
                  "name": "education",
                  "rawType": "object",
                  "type": "string"
                },
                {
                  "name": "education-num",
                  "rawType": "int64",
                  "type": "integer"
                },
                {
                  "name": "marital-status",
                  "rawType": "object",
                  "type": "string"
                },
                {
                  "name": "occupation",
                  "rawType": "object",
                  "type": "string"
                },
                {
                  "name": "relationship",
                  "rawType": "object",
                  "type": "string"
                },
                {
                  "name": "race",
                  "rawType": "object",
                  "type": "string"
                },
                {
                  "name": "sex",
                  "rawType": "object",
                  "type": "string"
                },
                {
                  "name": "capital-gain",
                  "rawType": "int64",
                  "type": "integer"
                },
                {
                  "name": "capital-loss",
                  "rawType": "int64",
                  "type": "integer"
                },
                {
                  "name": "hours-per-week",
                  "rawType": "int64",
                  "type": "integer"
                },
                {
                  "name": "native-country",
                  "rawType": "object",
                  "type": "string"
                },
                {
                  "name": "income",
                  "rawType": "object",
                  "type": "string"
                }
              ],
              "ref": "2c83f146-dbc1-4d09-bf71-080136604240",
              "rows": [
                [
                  "14",
                  "40",
                  "Private",
                  "121772",
                  "Assoc-voc",
                  "11",
                  "Married-civ-spouse",
                  "Craft-repair",
                  "Husband",
                  "Asian-Pac-Islander",
                  "Male",
                  "0",
                  "0",
                  "40",
                  "?",
                  ">50K"
                ],
                [
                  "27",
                  "54",
                  "?",
                  "180211",
                  "Some-college",
                  "10",
                  "Married-civ-spouse",
                  "?",
                  "Husband",
                  "Asian-Pac-Islander",
                  "Male",
                  "0",
                  "0",
                  "60",
                  "South",
                  ">50K"
                ],
                [
                  "38",
                  "31",
                  "Private",
                  "84154",
                  "Some-college",
                  "10",
                  "Married-civ-spouse",
                  "Sales",
                  "Husband",
                  "White",
                  "Male",
                  "0",
                  "0",
                  "38",
                  "?",
                  ">50K"
                ],
                [
                  "51",
                  "18",
                  "Private",
                  "226956",
                  "HS-grad",
                  "9",
                  "Never-married",
                  "Other-service",
                  "Own-child",
                  "White",
                  "Female",
                  "0",
                  "0",
                  "30",
                  "?",
                  "<=50K"
                ],
                [
                  "61",
                  "32",
                  "?",
                  "293936",
                  "7th-8th",
                  "4",
                  "Married-spouse-absent",
                  "?",
                  "Not-in-family",
                  "White",
                  "Male",
                  "0",
                  "0",
                  "40",
                  "?",
                  "<=50K"
                ],
                [
                  "69",
                  "25",
                  "?",
                  "200681",
                  "Some-college",
                  "10",
                  "Never-married",
                  "?",
                  "Own-child",
                  "White",
                  "Male",
                  "0",
                  "0",
                  "40",
                  "United-States",
                  "<=50K"
                ],
                [
                  "77",
                  "67",
                  "?",
                  "212759",
                  "10th",
                  "6",
                  "Married-civ-spouse",
                  "?",
                  "Husband",
                  "White",
                  "Male",
                  "0",
                  "0",
                  "2",
                  "United-States",
                  "<=50K"
                ],
                [
                  "93",
                  "30",
                  "Private",
                  "117747",
                  "HS-grad",
                  "9",
                  "Married-civ-spouse",
                  "Sales",
                  "Wife",
                  "Asian-Pac-Islander",
                  "Female",
                  "0",
                  "1573",
                  "35",
                  "?",
                  "<=50K"
                ],
                [
                  "106",
                  "17",
                  "?",
                  "304873",
                  "10th",
                  "6",
                  "Never-married",
                  "?",
                  "Own-child",
                  "White",
                  "Female",
                  "34095",
                  "0",
                  "32",
                  "United-States",
                  "<=50K"
                ],
                [
                  "128",
                  "35",
                  "?",
                  "129305",
                  "HS-grad",
                  "9",
                  "Married-civ-spouse",
                  "?",
                  "Husband",
                  "White",
                  "Male",
                  "0",
                  "0",
                  "40",
                  "United-States",
                  "<=50K"
                ],
                [
                  "149",
                  "43",
                  "?",
                  "174662",
                  "Some-college",
                  "10",
                  "Divorced",
                  "?",
                  "Not-in-family",
                  "White",
                  "Female",
                  "0",
                  "0",
                  "40",
                  "United-States",
                  "<=50K"
                ],
                [
                  "154",
                  "52",
                  "?",
                  "252903",
                  "HS-grad",
                  "9",
                  "Divorced",
                  "?",
                  "Not-in-family",
                  "White",
                  "Male",
                  "0",
                  "0",
                  "45",
                  "United-States",
                  ">50K"
                ],
                [
                  "160",
                  "68",
                  "?",
                  "38317",
                  "1st-4th",
                  "2",
                  "Divorced",
                  "?",
                  "Not-in-family",
                  "White",
                  "Female",
                  "0",
                  "0",
                  "20",
                  "United-States",
                  "<=50K"
                ],
                [
                  "187",
                  "53",
                  "?",
                  "135105",
                  "Bachelors",
                  "13",
                  "Divorced",
                  "?",
                  "Not-in-family",
                  "White",
                  "Female",
                  "0",
                  "0",
                  "50",
                  "United-States",
                  "<=50K"
                ],
                [
                  "201",
                  "19",
                  "?",
                  "170653",
                  "HS-grad",
                  "9",
                  "Never-married",
                  "?",
                  "Own-child",
                  "White",
                  "Male",
                  "0",
                  "0",
                  "40",
                  "Italy",
                  "<=50K"
                ],
                [
                  "221",
                  "64",
                  "?",
                  "187656",
                  "1st-4th",
                  "2",
                  "Divorced",
                  "?",
                  "Not-in-family",
                  "White",
                  "Male",
                  "0",
                  "0",
                  "40",
                  "United-States",
                  "<=50K"
                ],
                [
                  "226",
                  "60",
                  "?",
                  "24215",
                  "10th",
                  "6",
                  "Divorced",
                  "?",
                  "Not-in-family",
                  "Amer-Indian-Eskimo",
                  "Female",
                  "0",
                  "0",
                  "10",
                  "United-States",
                  "<=50K"
                ],
                [
                  "243",
                  "20",
                  "?",
                  "119156",
                  "Some-college",
                  "10",
                  "Never-married",
                  "?",
                  "Own-child",
                  "White",
                  "Male",
                  "0",
                  "0",
                  "20",
                  "United-States",
                  "<=50K"
                ],
                [
                  "245",
                  "56",
                  "Private",
                  "203580",
                  "HS-grad",
                  "9",
                  "Married-civ-spouse",
                  "Adm-clerical",
                  "Husband",
                  "White",
                  "Male",
                  "0",
                  "0",
                  "35",
                  "?",
                  "<=50K"
                ],
                [
                  "249",
                  "45",
                  "Private",
                  "153141",
                  "HS-grad",
                  "9",
                  "Married-civ-spouse",
                  "Adm-clerical",
                  "Husband",
                  "White",
                  "Male",
                  "0",
                  "0",
                  "40",
                  "?",
                  "<=50K"
                ],
                [
                  "266",
                  "19",
                  "?",
                  "218956",
                  "Some-college",
                  "10",
                  "Never-married",
                  "?",
                  "Own-child",
                  "White",
                  "Male",
                  "0",
                  "0",
                  "24",
                  "Canada",
                  "<=50K"
                ],
                [
                  "297",
                  "39",
                  "?",
                  "157443",
                  "Masters",
                  "14",
                  "Married-civ-spouse",
                  "?",
                  "Wife",
                  "Asian-Pac-Islander",
                  "Female",
                  "3464",
                  "0",
                  "40",
                  "?",
                  "<=50K"
                ],
                [
                  "312",
                  "19",
                  "?",
                  "860348",
                  "Some-college",
                  "10",
                  "Never-married",
                  "?",
                  "Own-child",
                  "Black",
                  "Female",
                  "0",
                  "0",
                  "25",
                  "United-States",
                  "<=50K"
                ],
                [
                  "326",
                  "23",
                  "?",
                  "211601",
                  "Assoc-voc",
                  "11",
                  "Never-married",
                  "?",
                  "Own-child",
                  "Black",
                  "Female",
                  "0",
                  "0",
                  "15",
                  "United-States",
                  "<=50K"
                ],
                [
                  "346",
                  "67",
                  "?",
                  "36135",
                  "11th",
                  "7",
                  "Married-civ-spouse",
                  "?",
                  "Husband",
                  "White",
                  "Male",
                  "0",
                  "0",
                  "8",
                  "United-States",
                  "<=50K"
                ],
                [
                  "347",
                  "30",
                  "?",
                  "151989",
                  "Assoc-voc",
                  "11",
                  "Divorced",
                  "?",
                  "Unmarried",
                  "White",
                  "Female",
                  "0",
                  "0",
                  "40",
                  "United-States",
                  "<=50K"
                ],
                [
                  "354",
                  "59",
                  "?",
                  "372020",
                  "Bachelors",
                  "13",
                  "Married-civ-spouse",
                  "?",
                  "Husband",
                  "White",
                  "Male",
                  "0",
                  "0",
                  "40",
                  "United-States",
                  ">50K"
                ],
                [
                  "393",
                  "34",
                  "State-gov",
                  "98101",
                  "Bachelors",
                  "13",
                  "Married-civ-spouse",
                  "Exec-managerial",
                  "Husband",
                  "White",
                  "Male",
                  "7688",
                  "0",
                  "45",
                  "?",
                  ">50K"
                ],
                [
                  "397",
                  "20",
                  "?",
                  "137300",
                  "HS-grad",
                  "9",
                  "Never-married",
                  "?",
                  "Other-relative",
                  "White",
                  "Female",
                  "0",
                  "0",
                  "35",
                  "United-States",
                  "<=50K"
                ],
                [
                  "408",
                  "28",
                  "?",
                  "123147",
                  "Some-college",
                  "10",
                  "Married-civ-spouse",
                  "?",
                  "Wife",
                  "White",
                  "Female",
                  "0",
                  "1887",
                  "40",
                  "United-States",
                  ">50K"
                ],
                [
                  "430",
                  "80",
                  "?",
                  "107762",
                  "HS-grad",
                  "9",
                  "Widowed",
                  "?",
                  "Not-in-family",
                  "White",
                  "Male",
                  "0",
                  "0",
                  "24",
                  "United-States",
                  "<=50K"
                ],
                [
                  "431",
                  "17",
                  "?",
                  "202521",
                  "11th",
                  "7",
                  "Never-married",
                  "?",
                  "Own-child",
                  "White",
                  "Male",
                  "0",
                  "0",
                  "40",
                  "United-States",
                  "<=50K"
                ],
                [
                  "449",
                  "17",
                  "?",
                  "258872",
                  "11th",
                  "7",
                  "Never-married",
                  "?",
                  "Own-child",
                  "White",
                  "Female",
                  "0",
                  "0",
                  "5",
                  "United-States",
                  "<=50K"
                ],
                [
                  "453",
                  "42",
                  "Private",
                  "197583",
                  "Assoc-acdm",
                  "12",
                  "Married-civ-spouse",
                  "Exec-managerial",
                  "Husband",
                  "Black",
                  "Male",
                  "0",
                  "0",
                  "40",
                  "?",
                  ">50K"
                ],
                [
                  "459",
                  "32",
                  "?",
                  "115745",
                  "Some-college",
                  "10",
                  "Married-civ-spouse",
                  "?",
                  "Husband",
                  "White",
                  "Male",
                  "0",
                  "0",
                  "40",
                  "United-States",
                  "<=50K"
                ],
                [
                  "471",
                  "22",
                  "?",
                  "139883",
                  "Some-college",
                  "10",
                  "Never-married",
                  "?",
                  "Own-child",
                  "White",
                  "Male",
                  "0",
                  "0",
                  "40",
                  "United-States",
                  "<=50K"
                ],
                [
                  "484",
                  "52",
                  "?",
                  "271749",
                  "12th",
                  "8",
                  "Never-married",
                  "?",
                  "Other-relative",
                  "Black",
                  "Male",
                  "594",
                  "0",
                  "40",
                  "United-States",
                  "<=50K"
                ],
                [
                  "486",
                  "63",
                  "?",
                  "401531",
                  "1st-4th",
                  "2",
                  "Married-civ-spouse",
                  "?",
                  "Husband",
                  "White",
                  "Male",
                  "0",
                  "0",
                  "35",
                  "United-States",
                  "<=50K"
                ],
                [
                  "499",
                  "72",
                  "?",
                  "303588",
                  "HS-grad",
                  "9",
                  "Married-civ-spouse",
                  "?",
                  "Husband",
                  "White",
                  "Male",
                  "0",
                  "0",
                  "20",
                  "United-States",
                  "<=50K"
                ],
                [
                  "511",
                  "53",
                  "?",
                  "251804",
                  "5th-6th",
                  "3",
                  "Widowed",
                  "?",
                  "Unmarried",
                  "Black",
                  "Female",
                  "0",
                  "0",
                  "30",
                  "United-States",
                  "<=50K"
                ],
                [
                  "515",
                  "57",
                  "?",
                  "222216",
                  "Assoc-voc",
                  "11",
                  "Widowed",
                  "?",
                  "Unmarried",
                  "White",
                  "Female",
                  "0",
                  "0",
                  "38",
                  "United-States",
                  "<=50K"
                ],
                [
                  "517",
                  "20",
                  "?",
                  "214635",
                  "Some-college",
                  "10",
                  "Never-married",
                  "?",
                  "Own-child",
                  "White",
                  "Male",
                  "0",
                  "0",
                  "24",
                  "United-States",
                  "<=50K"
                ],
                [
                  "518",
                  "21",
                  "?",
                  "204226",
                  "Some-college",
                  "10",
                  "Never-married",
                  "?",
                  "Unmarried",
                  "White",
                  "Female",
                  "0",
                  "0",
                  "35",
                  "United-States",
                  "<=50K"
                ],
                [
                  "539",
                  "34",
                  "?",
                  "190027",
                  "HS-grad",
                  "9",
                  "Never-married",
                  "?",
                  "Unmarried",
                  "Black",
                  "Female",
                  "0",
                  "0",
                  "40",
                  "United-States",
                  "<=50K"
                ],
                [
                  "557",
                  "31",
                  "Private",
                  "323069",
                  "HS-grad",
                  "9",
                  "Separated",
                  "Adm-clerical",
                  "Unmarried",
                  "White",
                  "Female",
                  "0",
                  "0",
                  "20",
                  "?",
                  "<=50K"
                ],
                [
                  "576",
                  "18",
                  "?",
                  "165532",
                  "12th",
                  "8",
                  "Never-married",
                  "?",
                  "Own-child",
                  "White",
                  "Male",
                  "0",
                  "0",
                  "25",
                  "United-States",
                  "<=50K"
                ],
                [
                  "580",
                  "65",
                  "?",
                  "195733",
                  "Some-college",
                  "10",
                  "Married-civ-spouse",
                  "?",
                  "Husband",
                  "White",
                  "Male",
                  "0",
                  "0",
                  "30",
                  "United-States",
                  ">50K"
                ],
                [
                  "590",
                  "42",
                  "?",
                  "137390",
                  "HS-grad",
                  "9",
                  "Married-civ-spouse",
                  "?",
                  "Husband",
                  "White",
                  "Male",
                  "0",
                  "0",
                  "40",
                  "United-States",
                  "<=50K"
                ],
                [
                  "591",
                  "55",
                  "?",
                  "105138",
                  "HS-grad",
                  "9",
                  "Married-civ-spouse",
                  "?",
                  "Wife",
                  "Asian-Pac-Islander",
                  "Female",
                  "0",
                  "0",
                  "40",
                  "United-States",
                  "<=50K"
                ],
                [
                  "596",
                  "23",
                  "?",
                  "99399",
                  "Some-college",
                  "10",
                  "Never-married",
                  "?",
                  "Unmarried",
                  "Amer-Indian-Eskimo",
                  "Female",
                  "0",
                  "0",
                  "25",
                  "United-States",
                  "<=50K"
                ]
              ],
              "shape": {
                "columns": 15,
                "rows": 2399
              }
            },
            "text/html": [
              "<div>\n",
              "<style scoped>\n",
              "    .dataframe tbody tr th:only-of-type {\n",
              "        vertical-align: middle;\n",
              "    }\n",
              "\n",
              "    .dataframe tbody tr th {\n",
              "        vertical-align: top;\n",
              "    }\n",
              "\n",
              "    .dataframe thead th {\n",
              "        text-align: right;\n",
              "    }\n",
              "</style>\n",
              "<table border=\"1\" class=\"dataframe\">\n",
              "  <thead>\n",
              "    <tr style=\"text-align: right;\">\n",
              "      <th></th>\n",
              "      <th>age</th>\n",
              "      <th>workclass</th>\n",
              "      <th>fnlwgt</th>\n",
              "      <th>education</th>\n",
              "      <th>education-num</th>\n",
              "      <th>marital-status</th>\n",
              "      <th>occupation</th>\n",
              "      <th>relationship</th>\n",
              "      <th>race</th>\n",
              "      <th>sex</th>\n",
              "      <th>capital-gain</th>\n",
              "      <th>capital-loss</th>\n",
              "      <th>hours-per-week</th>\n",
              "      <th>native-country</th>\n",
              "      <th>income</th>\n",
              "    </tr>\n",
              "  </thead>\n",
              "  <tbody>\n",
              "    <tr>\n",
              "      <th>14</th>\n",
              "      <td>40</td>\n",
              "      <td>Private</td>\n",
              "      <td>121772</td>\n",
              "      <td>Assoc-voc</td>\n",
              "      <td>11</td>\n",
              "      <td>Married-civ-spouse</td>\n",
              "      <td>Craft-repair</td>\n",
              "      <td>Husband</td>\n",
              "      <td>Asian-Pac-Islander</td>\n",
              "      <td>Male</td>\n",
              "      <td>0</td>\n",
              "      <td>0</td>\n",
              "      <td>40</td>\n",
              "      <td>?</td>\n",
              "      <td>&gt;50K</td>\n",
              "    </tr>\n",
              "    <tr>\n",
              "      <th>27</th>\n",
              "      <td>54</td>\n",
              "      <td>?</td>\n",
              "      <td>180211</td>\n",
              "      <td>Some-college</td>\n",
              "      <td>10</td>\n",
              "      <td>Married-civ-spouse</td>\n",
              "      <td>?</td>\n",
              "      <td>Husband</td>\n",
              "      <td>Asian-Pac-Islander</td>\n",
              "      <td>Male</td>\n",
              "      <td>0</td>\n",
              "      <td>0</td>\n",
              "      <td>60</td>\n",
              "      <td>South</td>\n",
              "      <td>&gt;50K</td>\n",
              "    </tr>\n",
              "    <tr>\n",
              "      <th>38</th>\n",
              "      <td>31</td>\n",
              "      <td>Private</td>\n",
              "      <td>84154</td>\n",
              "      <td>Some-college</td>\n",
              "      <td>10</td>\n",
              "      <td>Married-civ-spouse</td>\n",
              "      <td>Sales</td>\n",
              "      <td>Husband</td>\n",
              "      <td>White</td>\n",
              "      <td>Male</td>\n",
              "      <td>0</td>\n",
              "      <td>0</td>\n",
              "      <td>38</td>\n",
              "      <td>?</td>\n",
              "      <td>&gt;50K</td>\n",
              "    </tr>\n",
              "    <tr>\n",
              "      <th>51</th>\n",
              "      <td>18</td>\n",
              "      <td>Private</td>\n",
              "      <td>226956</td>\n",
              "      <td>HS-grad</td>\n",
              "      <td>9</td>\n",
              "      <td>Never-married</td>\n",
              "      <td>Other-service</td>\n",
              "      <td>Own-child</td>\n",
              "      <td>White</td>\n",
              "      <td>Female</td>\n",
              "      <td>0</td>\n",
              "      <td>0</td>\n",
              "      <td>30</td>\n",
              "      <td>?</td>\n",
              "      <td>&lt;=50K</td>\n",
              "    </tr>\n",
              "    <tr>\n",
              "      <th>61</th>\n",
              "      <td>32</td>\n",
              "      <td>?</td>\n",
              "      <td>293936</td>\n",
              "      <td>7th-8th</td>\n",
              "      <td>4</td>\n",
              "      <td>Married-spouse-absent</td>\n",
              "      <td>?</td>\n",
              "      <td>Not-in-family</td>\n",
              "      <td>White</td>\n",
              "      <td>Male</td>\n",
              "      <td>0</td>\n",
              "      <td>0</td>\n",
              "      <td>40</td>\n",
              "      <td>?</td>\n",
              "      <td>&lt;=50K</td>\n",
              "    </tr>\n",
              "    <tr>\n",
              "      <th>...</th>\n",
              "      <td>...</td>\n",
              "      <td>...</td>\n",
              "      <td>...</td>\n",
              "      <td>...</td>\n",
              "      <td>...</td>\n",
              "      <td>...</td>\n",
              "      <td>...</td>\n",
              "      <td>...</td>\n",
              "      <td>...</td>\n",
              "      <td>...</td>\n",
              "      <td>...</td>\n",
              "      <td>...</td>\n",
              "      <td>...</td>\n",
              "      <td>...</td>\n",
              "      <td>...</td>\n",
              "    </tr>\n",
              "    <tr>\n",
              "      <th>32530</th>\n",
              "      <td>35</td>\n",
              "      <td>?</td>\n",
              "      <td>320084</td>\n",
              "      <td>Bachelors</td>\n",
              "      <td>13</td>\n",
              "      <td>Married-civ-spouse</td>\n",
              "      <td>?</td>\n",
              "      <td>Wife</td>\n",
              "      <td>White</td>\n",
              "      <td>Female</td>\n",
              "      <td>0</td>\n",
              "      <td>0</td>\n",
              "      <td>55</td>\n",
              "      <td>United-States</td>\n",
              "      <td>&gt;50K</td>\n",
              "    </tr>\n",
              "    <tr>\n",
              "      <th>32531</th>\n",
              "      <td>30</td>\n",
              "      <td>?</td>\n",
              "      <td>33811</td>\n",
              "      <td>Bachelors</td>\n",
              "      <td>13</td>\n",
              "      <td>Never-married</td>\n",
              "      <td>?</td>\n",
              "      <td>Not-in-family</td>\n",
              "      <td>Asian-Pac-Islander</td>\n",
              "      <td>Female</td>\n",
              "      <td>0</td>\n",
              "      <td>0</td>\n",
              "      <td>99</td>\n",
              "      <td>United-States</td>\n",
              "      <td>&lt;=50K</td>\n",
              "    </tr>\n",
              "    <tr>\n",
              "      <th>32539</th>\n",
              "      <td>71</td>\n",
              "      <td>?</td>\n",
              "      <td>287372</td>\n",
              "      <td>Doctorate</td>\n",
              "      <td>16</td>\n",
              "      <td>Married-civ-spouse</td>\n",
              "      <td>?</td>\n",
              "      <td>Husband</td>\n",
              "      <td>White</td>\n",
              "      <td>Male</td>\n",
              "      <td>0</td>\n",
              "      <td>0</td>\n",
              "      <td>10</td>\n",
              "      <td>United-States</td>\n",
              "      <td>&gt;50K</td>\n",
              "    </tr>\n",
              "    <tr>\n",
              "      <th>32541</th>\n",
              "      <td>41</td>\n",
              "      <td>?</td>\n",
              "      <td>202822</td>\n",
              "      <td>HS-grad</td>\n",
              "      <td>9</td>\n",
              "      <td>Separated</td>\n",
              "      <td>?</td>\n",
              "      <td>Not-in-family</td>\n",
              "      <td>Black</td>\n",
              "      <td>Female</td>\n",
              "      <td>0</td>\n",
              "      <td>0</td>\n",
              "      <td>32</td>\n",
              "      <td>United-States</td>\n",
              "      <td>&lt;=50K</td>\n",
              "    </tr>\n",
              "    <tr>\n",
              "      <th>32542</th>\n",
              "      <td>72</td>\n",
              "      <td>?</td>\n",
              "      <td>129912</td>\n",
              "      <td>HS-grad</td>\n",
              "      <td>9</td>\n",
              "      <td>Married-civ-spouse</td>\n",
              "      <td>?</td>\n",
              "      <td>Husband</td>\n",
              "      <td>White</td>\n",
              "      <td>Male</td>\n",
              "      <td>0</td>\n",
              "      <td>0</td>\n",
              "      <td>25</td>\n",
              "      <td>United-States</td>\n",
              "      <td>&lt;=50K</td>\n",
              "    </tr>\n",
              "  </tbody>\n",
              "</table>\n",
              "<p>2399 rows × 15 columns</p>\n",
              "</div>"
            ],
            "text/plain": [
              "       age workclass  fnlwgt     education  education-num  \\\n",
              "14      40   Private  121772     Assoc-voc             11   \n",
              "27      54         ?  180211  Some-college             10   \n",
              "38      31   Private   84154  Some-college             10   \n",
              "51      18   Private  226956       HS-grad              9   \n",
              "61      32         ?  293936       7th-8th              4   \n",
              "...    ...       ...     ...           ...            ...   \n",
              "32530   35         ?  320084     Bachelors             13   \n",
              "32531   30         ?   33811     Bachelors             13   \n",
              "32539   71         ?  287372     Doctorate             16   \n",
              "32541   41         ?  202822       HS-grad              9   \n",
              "32542   72         ?  129912       HS-grad              9   \n",
              "\n",
              "              marital-status     occupation   relationship  \\\n",
              "14        Married-civ-spouse   Craft-repair        Husband   \n",
              "27        Married-civ-spouse              ?        Husband   \n",
              "38        Married-civ-spouse          Sales        Husband   \n",
              "51             Never-married  Other-service      Own-child   \n",
              "61     Married-spouse-absent              ?  Not-in-family   \n",
              "...                      ...            ...            ...   \n",
              "32530     Married-civ-spouse              ?           Wife   \n",
              "32531          Never-married              ?  Not-in-family   \n",
              "32539     Married-civ-spouse              ?        Husband   \n",
              "32541              Separated              ?  Not-in-family   \n",
              "32542     Married-civ-spouse              ?        Husband   \n",
              "\n",
              "                     race     sex  capital-gain  capital-loss  hours-per-week  \\\n",
              "14     Asian-Pac-Islander    Male             0             0              40   \n",
              "27     Asian-Pac-Islander    Male             0             0              60   \n",
              "38                  White    Male             0             0              38   \n",
              "51                  White  Female             0             0              30   \n",
              "61                  White    Male             0             0              40   \n",
              "...                   ...     ...           ...           ...             ...   \n",
              "32530               White  Female             0             0              55   \n",
              "32531  Asian-Pac-Islander  Female             0             0              99   \n",
              "32539               White    Male             0             0              10   \n",
              "32541               Black  Female             0             0              32   \n",
              "32542               White    Male             0             0              25   \n",
              "\n",
              "      native-country income  \n",
              "14                 ?   >50K  \n",
              "27             South   >50K  \n",
              "38                 ?   >50K  \n",
              "51                 ?  <=50K  \n",
              "61                 ?  <=50K  \n",
              "...              ...    ...  \n",
              "32530  United-States   >50K  \n",
              "32531  United-States  <=50K  \n",
              "32539  United-States   >50K  \n",
              "32541  United-States  <=50K  \n",
              "32542  United-States  <=50K  \n",
              "\n",
              "[2399 rows x 15 columns]"
            ]
          },
          "execution_count": 104,
          "metadata": {},
          "output_type": "execute_result"
        }
      ],
      "source": [
        "mask = (df == \"?\").any(axis=1)\n",
        "\n",
        "rows_with_question = df[mask]\n",
        "rows_with_question"
      ]
    },
    {
      "cell_type": "markdown",
      "metadata": {},
      "source": [
        "Mengubah nilai `?` menjadi `Others`"
      ]
    },
    {
      "cell_type": "code",
      "execution_count": 105,
      "metadata": {},
      "outputs": [
        {
          "data": {
            "application/vnd.microsoft.datawrangler.viewer.v0+json": {
              "columns": [
                {
                  "name": "index",
                  "rawType": "int64",
                  "type": "integer"
                },
                {
                  "name": "age",
                  "rawType": "int64",
                  "type": "integer"
                },
                {
                  "name": "workclass",
                  "rawType": "object",
                  "type": "string"
                },
                {
                  "name": "fnlwgt",
                  "rawType": "int64",
                  "type": "integer"
                },
                {
                  "name": "education",
                  "rawType": "object",
                  "type": "string"
                },
                {
                  "name": "education-num",
                  "rawType": "int64",
                  "type": "integer"
                },
                {
                  "name": "marital-status",
                  "rawType": "object",
                  "type": "string"
                },
                {
                  "name": "occupation",
                  "rawType": "object",
                  "type": "string"
                },
                {
                  "name": "relationship",
                  "rawType": "object",
                  "type": "string"
                },
                {
                  "name": "race",
                  "rawType": "object",
                  "type": "string"
                },
                {
                  "name": "sex",
                  "rawType": "object",
                  "type": "string"
                },
                {
                  "name": "capital-gain",
                  "rawType": "int64",
                  "type": "integer"
                },
                {
                  "name": "capital-loss",
                  "rawType": "int64",
                  "type": "integer"
                },
                {
                  "name": "hours-per-week",
                  "rawType": "int64",
                  "type": "integer"
                },
                {
                  "name": "native-country",
                  "rawType": "object",
                  "type": "string"
                },
                {
                  "name": "income",
                  "rawType": "object",
                  "type": "string"
                }
              ],
              "ref": "1de8ba0d-32c8-4cdf-96c1-08b8c41ed43f",
              "rows": [],
              "shape": {
                "columns": 15,
                "rows": 0
              }
            },
            "text/html": [
              "<div>\n",
              "<style scoped>\n",
              "    .dataframe tbody tr th:only-of-type {\n",
              "        vertical-align: middle;\n",
              "    }\n",
              "\n",
              "    .dataframe tbody tr th {\n",
              "        vertical-align: top;\n",
              "    }\n",
              "\n",
              "    .dataframe thead th {\n",
              "        text-align: right;\n",
              "    }\n",
              "</style>\n",
              "<table border=\"1\" class=\"dataframe\">\n",
              "  <thead>\n",
              "    <tr style=\"text-align: right;\">\n",
              "      <th></th>\n",
              "      <th>age</th>\n",
              "      <th>workclass</th>\n",
              "      <th>fnlwgt</th>\n",
              "      <th>education</th>\n",
              "      <th>education-num</th>\n",
              "      <th>marital-status</th>\n",
              "      <th>occupation</th>\n",
              "      <th>relationship</th>\n",
              "      <th>race</th>\n",
              "      <th>sex</th>\n",
              "      <th>capital-gain</th>\n",
              "      <th>capital-loss</th>\n",
              "      <th>hours-per-week</th>\n",
              "      <th>native-country</th>\n",
              "      <th>income</th>\n",
              "    </tr>\n",
              "  </thead>\n",
              "  <tbody>\n",
              "  </tbody>\n",
              "</table>\n",
              "</div>"
            ],
            "text/plain": [
              "Empty DataFrame\n",
              "Columns: [age, workclass, fnlwgt, education, education-num, marital-status, occupation, relationship, race, sex, capital-gain, capital-loss, hours-per-week, native-country, income]\n",
              "Index: []"
            ]
          },
          "execution_count": 105,
          "metadata": {},
          "output_type": "execute_result"
        }
      ],
      "source": [
        "df = df.replace(\"?\", \"Others\")\n",
        "\n",
        "mask = (df == \"?\").any(axis=1)\n",
        "\n",
        "rows_with_question = df[mask]\n",
        "rows_with_question"
      ]
    },
    {
      "cell_type": "markdown",
      "metadata": {},
      "source": [
        "Dari hasil tersebut, sudah ditemukan lagi data yang bernilai `?`"
      ]
    },
    {
      "cell_type": "markdown",
      "metadata": {
        "id": "uKyrwokjSzHX"
      },
      "source": [
        "# Bagian 2 - Visual Inspection\n",
        "\n"
      ]
    },
    {
      "cell_type": "markdown",
      "metadata": {
        "id": "OrSvvhQuBb4M"
      },
      "source": [
        "## Soal 1 - Visualisasi Data (20 poin)\n",
        "Lakukan inspeksi visual pada,\n",
        "1. Pada kolom 'age' dengan menggunakan histrogram\n",
        "2. Pada kolom 'education' education menggunakan barchart\n",
        "3. Pada kolom 'income' terhadap 'hours_per_week' menggunakan boxplot (kelompokkan berdasarkan kelompok income)\n",
        "4. Pada kolom 'age' terhadap 'capital-gain' dan 'capital-loss' dengan lineplot (1 lineplot 2 data)"
      ]
    },
    {
      "cell_type": "code",
      "execution_count": 106,
      "metadata": {
        "id": "UsGKNL4ABkFK"
      },
      "outputs": [
        {
          "data": {
            "image/png": "[encoded data removed]",
            "text/plain": [
              "<Figure size 1000x600 with 1 Axes>"
            ]
          },
          "metadata": {},
          "output_type": "display_data"
        }
      ],
      "source": [
        "# Jawab 1.1 - Histogram\n",
        "plt.figure(figsize=(10, 6))\n",
        "plt.hist(\n",
        "    x=df['age'], \n",
        "    bins=30, \n",
        "    color='skyblue', \n",
        "    alpha=0.7, \n",
        "    edgecolor='black'\n",
        ")\n",
        "plt.title('Distribusi umur')\n",
        "plt.xlabel('Umur')\n",
        "plt.ylabel('Frekuensi')\n",
        "plt.show()"
      ]
    },
    {
      "cell_type": "code",
      "execution_count": 107,
      "metadata": {
        "id": "AGJfM-6FBowp"
      },
      "outputs": [
        {
          "data": {
            "image/png": "[encoded data removed]",
            "text/plain": [
              "<Figure size 1200x600 with 1 Axes>"
            ]
          },
          "metadata": {},
          "output_type": "display_data"
        }
      ],
      "source": [
        "# Jawab 1.2 - Barchart\n",
        "plt.figure(figsize=(12, 6))\n",
        "education_counts = df['education'].value_counts()\n",
        "education_counts.plot(\n",
        "    kind='bar',\n",
        "    color='skyblue',\n",
        "    edgecolor='black',\n",
        "    alpha=0.7\n",
        ")\n",
        "plt.title('Distribusi pendidikan')\n",
        "plt.xlabel('Tingkatan pendidikan')\n",
        "plt.ylabel('Jumlah')\n",
        "plt.xticks(rotation=45, ha='right')\n",
        "plt.tight_layout()\n",
        "plt.show()"
      ]
    },
    {
      "cell_type": "code",
      "execution_count": 108,
      "metadata": {
        "id": "ihlAJdGTBqml"
      },
      "outputs": [
        {
          "name": "stderr",
          "output_type": "stream",
          "text": [
            "C:\\Users\\KarlSchmidt\\AppData\\Local\\Temp\\ipykernel_22072\\1080401757.py:6: MatplotlibDeprecationWarning: The 'labels' parameter of boxplot() has been renamed 'tick_labels' since Matplotlib 3.9; support for the old name will be dropped in 3.11.\n",
            "  plt.boxplot(hours_data, labels=income_categories)\n"
          ]
        },
        {
          "data": {
            "image/png": "[encoded data removed]",
            "text/plain": [
              "<Figure size 1000x600 with 1 Axes>"
            ]
          },
          "metadata": {},
          "output_type": "display_data"
        }
      ],
      "source": [
        "# Jawab 1.3 - Boxplot\n",
        "plt.figure(figsize=(10, 6))\n",
        "income_categories = df['income'].unique()\n",
        "hours_data = [df[df['income'] == cat]['hours-per-week'] for cat in income_categories]\n",
        "\n",
        "plt.boxplot(hours_data, labels=income_categories)\n",
        "plt.title('Distribution of Hours per Week by Income Category')\n",
        "plt.xlabel('Income Category')\n",
        "plt.ylabel('Hours per Week')\n",
        "plt.show()"
      ]
    },
    {
      "cell_type": "code",
      "execution_count": 109,
      "metadata": {
        "id": "5LZc4KA5BsTK"
      },
      "outputs": [
        {
          "data": {
            "image/png": "[encoded data removed]",
            "text/plain": [
              "<Figure size 1200x600 with 1 Axes>"
            ]
          },
          "metadata": {},
          "output_type": "display_data"
        }
      ],
      "source": [
        "# Jawab 1.4 - Lineplot\n",
        "plt.figure(figsize=(12, 6))\n",
        "\n",
        "# Group data by age and calculate mean values\n",
        "age_grouped = df.groupby('age').agg({\n",
        "    'capital-gain': 'mean',\n",
        "    'capital-loss': 'mean'\n",
        "}).reset_index()\n",
        "\n",
        "# Create lineplot with both capital-gain and capital-loss\n",
        "plt.plot(\n",
        "    age_grouped['age'], \n",
        "    age_grouped['capital-gain'], \n",
        "    label='Capital Gain', \n",
        "    color='green', \n",
        "    linewidth=2, \n",
        "    marker='o', \n",
        "    markersize=4\n",
        ")\n",
        "plt.plot(\n",
        "    age_grouped['age'], \n",
        "    age_grouped['capital-loss'], \n",
        "    label='Capital Loss', \n",
        "    color='red', \n",
        "    linewidth=2, \n",
        "    marker='s', \n",
        "    markersize=4\n",
        ")\n",
        "\n",
        "plt.title('Average Capital Gain and Capital Loss by Age')\n",
        "plt.xlabel('Age')\n",
        "plt.ylabel('Average amount')\n",
        "plt.legend()\n",
        "plt.grid(True, alpha=0.3)\n",
        "plt.tight_layout()\n",
        "plt.show()"
      ]
    },
    {
      "cell_type": "markdown",
      "metadata": {
        "id": "RY2K5QWJB2kQ"
      },
      "source": [
        "## Soal 2 - Analisis Visual (15 poin)\n",
        "1. Fenomena apa yang terjadi pada distribusi data 'age'?\n",
        "2. Jika terdapat data yang hilang pada variabel 'age', strategi apa yang Anda terapkan? Mengapa?\n",
        "3. Berapa jumlah outlier pada setiap kategori 'income' berkaitan dengan 'hour-per-week'? Kategori apa yang paling banyak memiliki outlier?"
      ]
    },
    {
      "cell_type": "code",
      "execution_count": 110,
      "metadata": {},
      "outputs": [
        {
          "data": {
            "application/vnd.microsoft.datawrangler.viewer.v0+json": {
              "columns": [
                {
                  "name": "index",
                  "rawType": "object",
                  "type": "string"
                },
                {
                  "name": "age",
                  "rawType": "float64",
                  "type": "float"
                }
              ],
              "ref": "d25a8dc6-1684-4774-985b-d923df5c1475",
              "rows": [
                [
                  "count",
                  "48842.0"
                ],
                [
                  "mean",
                  "38.64358543876172"
                ],
                [
                  "std",
                  "13.710509934443177"
                ],
                [
                  "min",
                  "17.0"
                ],
                [
                  "25%",
                  "28.0"
                ],
                [
                  "50%",
                  "37.0"
                ],
                [
                  "75%",
                  "48.0"
                ],
                [
                  "max",
                  "90.0"
                ]
              ],
              "shape": {
                "columns": 1,
                "rows": 8
              }
            },
            "text/plain": [
              "count    48842.000000\n",
              "mean        38.643585\n",
              "std         13.710510\n",
              "min         17.000000\n",
              "25%         28.000000\n",
              "50%         37.000000\n",
              "75%         48.000000\n",
              "max         90.000000\n",
              "Name: age, dtype: float64"
            ]
          },
          "execution_count": 110,
          "metadata": {},
          "output_type": "execute_result"
        }
      ],
      "source": [
        "df['age'].describe()"
      ]
    },
    {
      "cell_type": "code",
      "execution_count": 111,
      "metadata": {},
      "outputs": [
        {
          "data": {
            "application/vnd.microsoft.datawrangler.viewer.v0+json": {
              "columns": [
                {
                  "name": "index",
                  "rawType": "object",
                  "type": "string"
                },
                {
                  "name": "capital-loss",
                  "rawType": "float64",
                  "type": "float"
                }
              ],
              "ref": "2d8b0a20-08a6-4136-a10a-dc67ccde8fb2",
              "rows": [
                [
                  "count",
                  "48842.0"
                ],
                [
                  "mean",
                  "87.50231358257237"
                ],
                [
                  "std",
                  "403.0045521244541"
                ],
                [
                  "min",
                  "0.0"
                ],
                [
                  "25%",
                  "0.0"
                ],
                [
                  "50%",
                  "0.0"
                ],
                [
                  "75%",
                  "0.0"
                ],
                [
                  "max",
                  "4356.0"
                ]
              ],
              "shape": {
                "columns": 1,
                "rows": 8
              }
            },
            "text/plain": [
              "count    48842.000000\n",
              "mean        87.502314\n",
              "std        403.004552\n",
              "min          0.000000\n",
              "25%          0.000000\n",
              "50%          0.000000\n",
              "75%          0.000000\n",
              "max       4356.000000\n",
              "Name: capital-loss, dtype: float64"
            ]
          },
          "execution_count": 111,
          "metadata": {},
          "output_type": "execute_result"
        }
      ],
      "source": [
        "df['capital-loss'].describe()"
      ]
    },
    {
      "cell_type": "code",
      "execution_count": 112,
      "metadata": {},
      "outputs": [
        {
          "data": {
            "application/vnd.microsoft.datawrangler.viewer.v0+json": {
              "columns": [
                {
                  "name": "index",
                  "rawType": "int64",
                  "type": "integer"
                },
                {
                  "name": "Income Category",
                  "rawType": "object",
                  "type": "string"
                },
                {
                  "name": "Total Count",
                  "rawType": "int64",
                  "type": "integer"
                },
                {
                  "name": "Outlier Count",
                  "rawType": "int64",
                  "type": "integer"
                },
                {
                  "name": "Outlier Percentage",
                  "rawType": "float64",
                  "type": "float"
                },
                {
                  "name": "Q1",
                  "rawType": "float64",
                  "type": "float"
                },
                {
                  "name": "Q3",
                  "rawType": "float64",
                  "type": "float"
                },
                {
                  "name": "IQR",
                  "rawType": "float64",
                  "type": "float"
                },
                {
                  "name": "Lower Bound",
                  "rawType": "float64",
                  "type": "float"
                },
                {
                  "name": "Upper Bound",
                  "rawType": "float64",
                  "type": "float"
                }
              ],
              "ref": "73b19626-939d-4222-9175-4c591e3f6b55",
              "rows": [
                [
                  "0",
                  "<=50K",
                  "24720",
                  "7809",
                  "31.589805825242717",
                  "35.0",
                  "40.0",
                  "5.0",
                  "27.5",
                  "47.5"
                ],
                [
                  "1",
                  ">50K",
                  "7841",
                  "510",
                  "6.5042724142328785",
                  "40.0",
                  "50.0",
                  "10.0",
                  "25.0",
                  "65.0"
                ],
                [
                  "2",
                  "<=50K.",
                  "12435",
                  "3897",
                  "31.338962605548854",
                  "35.0",
                  "40.0",
                  "5.0",
                  "27.5",
                  "47.5"
                ],
                [
                  "3",
                  ">50K.",
                  "3846",
                  "271",
                  "7.046281851274052",
                  "40.0",
                  "50.0",
                  "10.0",
                  "25.0",
                  "65.0"
                ]
              ],
              "shape": {
                "columns": 9,
                "rows": 4
              }
            },
            "text/html": [
              "<div>\n",
              "<style scoped>\n",
              "    .dataframe tbody tr th:only-of-type {\n",
              "        vertical-align: middle;\n",
              "    }\n",
              "\n",
              "    .dataframe tbody tr th {\n",
              "        vertical-align: top;\n",
              "    }\n",
              "\n",
              "    .dataframe thead th {\n",
              "        text-align: right;\n",
              "    }\n",
              "</style>\n",
              "<table border=\"1\" class=\"dataframe\">\n",
              "  <thead>\n",
              "    <tr style=\"text-align: right;\">\n",
              "      <th></th>\n",
              "      <th>Income Category</th>\n",
              "      <th>Total Count</th>\n",
              "      <th>Outlier Count</th>\n",
              "      <th>Outlier Percentage</th>\n",
              "      <th>Q1</th>\n",
              "      <th>Q3</th>\n",
              "      <th>IQR</th>\n",
              "      <th>Lower Bound</th>\n",
              "      <th>Upper Bound</th>\n",
              "    </tr>\n",
              "  </thead>\n",
              "  <tbody>\n",
              "    <tr>\n",
              "      <th>0</th>\n",
              "      <td>&lt;=50K</td>\n",
              "      <td>24720</td>\n",
              "      <td>7809</td>\n",
              "      <td>31.589806</td>\n",
              "      <td>35.0</td>\n",
              "      <td>40.0</td>\n",
              "      <td>5.0</td>\n",
              "      <td>27.5</td>\n",
              "      <td>47.5</td>\n",
              "    </tr>\n",
              "    <tr>\n",
              "      <th>1</th>\n",
              "      <td>&gt;50K</td>\n",
              "      <td>7841</td>\n",
              "      <td>510</td>\n",
              "      <td>6.504272</td>\n",
              "      <td>40.0</td>\n",
              "      <td>50.0</td>\n",
              "      <td>10.0</td>\n",
              "      <td>25.0</td>\n",
              "      <td>65.0</td>\n",
              "    </tr>\n",
              "    <tr>\n",
              "      <th>2</th>\n",
              "      <td>&lt;=50K.</td>\n",
              "      <td>12435</td>\n",
              "      <td>3897</td>\n",
              "      <td>31.338963</td>\n",
              "      <td>35.0</td>\n",
              "      <td>40.0</td>\n",
              "      <td>5.0</td>\n",
              "      <td>27.5</td>\n",
              "      <td>47.5</td>\n",
              "    </tr>\n",
              "    <tr>\n",
              "      <th>3</th>\n",
              "      <td>&gt;50K.</td>\n",
              "      <td>3846</td>\n",
              "      <td>271</td>\n",
              "      <td>7.046282</td>\n",
              "      <td>40.0</td>\n",
              "      <td>50.0</td>\n",
              "      <td>10.0</td>\n",
              "      <td>25.0</td>\n",
              "      <td>65.0</td>\n",
              "    </tr>\n",
              "  </tbody>\n",
              "</table>\n",
              "</div>"
            ],
            "text/plain": [
              "  Income Category  Total Count  Outlier Count  Outlier Percentage    Q1    Q3  \\\n",
              "0           <=50K        24720           7809           31.589806  35.0  40.0   \n",
              "1            >50K         7841            510            6.504272  40.0  50.0   \n",
              "2          <=50K.        12435           3897           31.338963  35.0  40.0   \n",
              "3           >50K.         3846            271            7.046282  40.0  50.0   \n",
              "\n",
              "    IQR  Lower Bound  Upper Bound  \n",
              "0   5.0         27.5         47.5  \n",
              "1  10.0         25.0         65.0  \n",
              "2   5.0         27.5         47.5  \n",
              "3  10.0         25.0         65.0  "
            ]
          },
          "execution_count": 112,
          "metadata": {},
          "output_type": "execute_result"
        }
      ],
      "source": [
        "outlier_analysis = []\n",
        "for category in df['income'].unique():\n",
        "    subset = df[df['income'] == category]['hours-per-week']\n",
        "    Q1 = subset.quantile(0.25)\n",
        "    Q3 = subset.quantile(0.75)\n",
        "    IQR = Q3 - Q1\n",
        "    lower_bound = Q1 - 1.5 * IQR\n",
        "    upper_bound = Q3 + 1.5 * IQR\n",
        "    \n",
        "    outliers = subset[(subset < lower_bound) | (subset > upper_bound)]\n",
        "    \n",
        "    outlier_analysis.append({\n",
        "        'Income Category': category,\n",
        "        'Total Count': len(subset),\n",
        "        'Outlier Count': len(outliers),\n",
        "        'Outlier Percentage': (len(outliers) / len(subset)) * 100,\n",
        "        'Q1': Q1,\n",
        "        'Q3': Q3,\n",
        "        'IQR': IQR,\n",
        "        'Lower Bound': lower_bound,\n",
        "        'Upper Bound': upper_bound\n",
        "    })\n",
        "\n",
        "outlier_df = pd.DataFrame(outlier_analysis)\n",
        "outlier_df"
      ]
    },
    {
      "cell_type": "code",
      "execution_count": 113,
      "metadata": {
        "colab": {
          "base_uri": "https://localhost:8080/",
          "height": 35
        },
        "id": "81Vx8FsKCFdX",
        "outputId": "1b273b0c-3830-4cc8-a394-e9fbf74cacde"
      },
      "outputs": [
        {
          "data": {
            "text/plain": [
              "'\\n1. Pada data yang ditampilkan melalui visualisasi data `age` terlihat bahwa nilai capital gain cenderung fluktuatif seiring bertambahnya umur. Namun, nilai capital gain cenderung naik pada umur 17 hingga sekitar 50 an tahun. Namun, untuk umur setelahnya, nilai capital gain cenderung menurun meski terkadang terdapat beberapa kemungkinan ada lonjakan naikan capital gain.\\n\\nSedangkan nilai `capital-loss` untuk seluruh umur cenderung konsisten tidak terlalu banyak berubah\\n\\n\\n2. Menggunakan data-data yang berkaitan dengan data capital-gain karena nilai capital gain pada usia tertentu cenderung memiliki pola yang sama. Contohnya, pada manusia yang berumur 30 an, seharusnya dia memiliki nilai capital gain sekitar 1000\\n\\n3. Berdasarkan perhitungan yang ada pada cell 35, semua data memiliki outlier. Dengan kategori `<=50K` yang menjadi kategori dengan nilai outlier tertinggi sebanyak 2.4720\\n'"
            ]
          },
          "execution_count": 113,
          "metadata": {},
          "output_type": "execute_result"
        }
      ],
      "source": [
        "# Jawab dengan komentar python\n",
        "\n",
        "'''\n",
        "1. Pada data yang ditampilkan melalui visualisasi data `age` terlihat bahwa nilai capital gain cenderung fluktuatif seiring bertambahnya umur. Namun, nilai capital gain cenderung naik pada umur 17 hingga sekitar 50 an tahun. Namun, untuk umur setelahnya, nilai capital gain cenderung menurun meski terkadang terdapat beberapa kemungkinan ada lonjakan naikan capital gain.\n",
        "\n",
        "Sedangkan nilai `capital-loss` untuk seluruh umur cenderung konsisten tidak terlalu banyak berubah\n",
        "\n",
        "\n",
        "2. Menggunakan data-data yang berkaitan dengan data capital-gain karena nilai capital gain pada usia tertentu cenderung memiliki pola yang sama. Contohnya, pada manusia yang berumur 30 an, seharusnya dia memiliki nilai capital gain sekitar 1000\n",
        "\n",
        "3. Berdasarkan perhitungan yang ada pada cell 35, semua data memiliki outlier. Dengan kategori `<=50K` yang menjadi kategori dengan nilai outlier tertinggi sebanyak 2.4720\n",
        "'''"
      ]
    },
    {
      "cell_type": "markdown",
      "metadata": {
        "id": "ZfbK3ZM6w3gx"
      },
      "source": [
        "# Bagian 3 - Encoding Variabel Kategorical"
      ]
    },
    {
      "cell_type": "markdown",
      "metadata": {
        "id": "8H4vA1kqC37P"
      },
      "source": [
        "## Soal 1 (5 poin)\n",
        "Lakukan encoding pada 'Sex' dan 'Income'. 'Income' merupakan variabel target"
      ]
    },
    {
      "cell_type": "markdown",
      "metadata": {},
      "source": [
        "Preview data sex dan income sebelum di encoding"
      ]
    },
    {
      "cell_type": "code",
      "execution_count": 114,
      "metadata": {},
      "outputs": [
        {
          "data": {
            "application/vnd.microsoft.datawrangler.viewer.v0+json": {
              "columns": [
                {
                  "name": "index",
                  "rawType": "int64",
                  "type": "integer"
                },
                {
                  "name": "sex",
                  "rawType": "object",
                  "type": "string"
                },
                {
                  "name": "income",
                  "rawType": "object",
                  "type": "string"
                }
              ],
              "ref": "c71972f4-f49c-46bc-aa76-708d17f1c6e4",
              "rows": [
                [
                  "0",
                  "Male",
                  "<=50K"
                ],
                [
                  "1",
                  "Male",
                  "<=50K"
                ],
                [
                  "2",
                  "Male",
                  "<=50K"
                ],
                [
                  "3",
                  "Male",
                  "<=50K"
                ],
                [
                  "4",
                  "Female",
                  "<=50K"
                ],
                [
                  "5",
                  "Female",
                  "<=50K"
                ],
                [
                  "6",
                  "Female",
                  "<=50K"
                ],
                [
                  "7",
                  "Male",
                  ">50K"
                ],
                [
                  "8",
                  "Female",
                  ">50K"
                ],
                [
                  "9",
                  "Male",
                  ">50K"
                ]
              ],
              "shape": {
                "columns": 2,
                "rows": 10
              }
            },
            "text/html": [
              "<div>\n",
              "<style scoped>\n",
              "    .dataframe tbody tr th:only-of-type {\n",
              "        vertical-align: middle;\n",
              "    }\n",
              "\n",
              "    .dataframe tbody tr th {\n",
              "        vertical-align: top;\n",
              "    }\n",
              "\n",
              "    .dataframe thead th {\n",
              "        text-align: right;\n",
              "    }\n",
              "</style>\n",
              "<table border=\"1\" class=\"dataframe\">\n",
              "  <thead>\n",
              "    <tr style=\"text-align: right;\">\n",
              "      <th></th>\n",
              "      <th>sex</th>\n",
              "      <th>income</th>\n",
              "    </tr>\n",
              "  </thead>\n",
              "  <tbody>\n",
              "    <tr>\n",
              "      <th>0</th>\n",
              "      <td>Male</td>\n",
              "      <td>&lt;=50K</td>\n",
              "    </tr>\n",
              "    <tr>\n",
              "      <th>1</th>\n",
              "      <td>Male</td>\n",
              "      <td>&lt;=50K</td>\n",
              "    </tr>\n",
              "    <tr>\n",
              "      <th>2</th>\n",
              "      <td>Male</td>\n",
              "      <td>&lt;=50K</td>\n",
              "    </tr>\n",
              "    <tr>\n",
              "      <th>3</th>\n",
              "      <td>Male</td>\n",
              "      <td>&lt;=50K</td>\n",
              "    </tr>\n",
              "    <tr>\n",
              "      <th>4</th>\n",
              "      <td>Female</td>\n",
              "      <td>&lt;=50K</td>\n",
              "    </tr>\n",
              "    <tr>\n",
              "      <th>5</th>\n",
              "      <td>Female</td>\n",
              "      <td>&lt;=50K</td>\n",
              "    </tr>\n",
              "    <tr>\n",
              "      <th>6</th>\n",
              "      <td>Female</td>\n",
              "      <td>&lt;=50K</td>\n",
              "    </tr>\n",
              "    <tr>\n",
              "      <th>7</th>\n",
              "      <td>Male</td>\n",
              "      <td>&gt;50K</td>\n",
              "    </tr>\n",
              "    <tr>\n",
              "      <th>8</th>\n",
              "      <td>Female</td>\n",
              "      <td>&gt;50K</td>\n",
              "    </tr>\n",
              "    <tr>\n",
              "      <th>9</th>\n",
              "      <td>Male</td>\n",
              "      <td>&gt;50K</td>\n",
              "    </tr>\n",
              "  </tbody>\n",
              "</table>\n",
              "</div>"
            ],
            "text/plain": [
              "      sex income\n",
              "0    Male  <=50K\n",
              "1    Male  <=50K\n",
              "2    Male  <=50K\n",
              "3    Male  <=50K\n",
              "4  Female  <=50K\n",
              "5  Female  <=50K\n",
              "6  Female  <=50K\n",
              "7    Male   >50K\n",
              "8  Female   >50K\n",
              "9    Male   >50K"
            ]
          },
          "execution_count": 114,
          "metadata": {},
          "output_type": "execute_result"
        }
      ],
      "source": [
        "df[['sex', 'income']].head(10)"
      ]
    },
    {
      "cell_type": "code",
      "execution_count": 115,
      "metadata": {},
      "outputs": [
        {
          "data": {
            "application/vnd.microsoft.datawrangler.viewer.v0+json": {
              "columns": [
                {
                  "name": "index",
                  "rawType": "object",
                  "type": "string"
                },
                {
                  "name": "sex",
                  "rawType": "object",
                  "type": "unknown"
                },
                {
                  "name": "income",
                  "rawType": "object",
                  "type": "unknown"
                }
              ],
              "ref": "edad0bac-98d1-43eb-9dc2-b02ba55c46ae",
              "rows": [
                [
                  "count",
                  "48842",
                  "48842"
                ],
                [
                  "unique",
                  "2",
                  "4"
                ],
                [
                  "top",
                  "Male",
                  "<=50K"
                ],
                [
                  "freq",
                  "32650",
                  "24720"
                ]
              ],
              "shape": {
                "columns": 2,
                "rows": 4
              }
            },
            "text/html": [
              "<div>\n",
              "<style scoped>\n",
              "    .dataframe tbody tr th:only-of-type {\n",
              "        vertical-align: middle;\n",
              "    }\n",
              "\n",
              "    .dataframe tbody tr th {\n",
              "        vertical-align: top;\n",
              "    }\n",
              "\n",
              "    .dataframe thead th {\n",
              "        text-align: right;\n",
              "    }\n",
              "</style>\n",
              "<table border=\"1\" class=\"dataframe\">\n",
              "  <thead>\n",
              "    <tr style=\"text-align: right;\">\n",
              "      <th></th>\n",
              "      <th>sex</th>\n",
              "      <th>income</th>\n",
              "    </tr>\n",
              "  </thead>\n",
              "  <tbody>\n",
              "    <tr>\n",
              "      <th>count</th>\n",
              "      <td>48842</td>\n",
              "      <td>48842</td>\n",
              "    </tr>\n",
              "    <tr>\n",
              "      <th>unique</th>\n",
              "      <td>2</td>\n",
              "      <td>4</td>\n",
              "    </tr>\n",
              "    <tr>\n",
              "      <th>top</th>\n",
              "      <td>Male</td>\n",
              "      <td>&lt;=50K</td>\n",
              "    </tr>\n",
              "    <tr>\n",
              "      <th>freq</th>\n",
              "      <td>32650</td>\n",
              "      <td>24720</td>\n",
              "    </tr>\n",
              "  </tbody>\n",
              "</table>\n",
              "</div>"
            ],
            "text/plain": [
              "          sex income\n",
              "count   48842  48842\n",
              "unique      2      4\n",
              "top      Male  <=50K\n",
              "freq    32650  24720"
            ]
          },
          "execution_count": 115,
          "metadata": {},
          "output_type": "execute_result"
        }
      ],
      "source": [
        "df[['sex', 'income']].describe()"
      ]
    },
    {
      "cell_type": "code",
      "execution_count": 116,
      "metadata": {},
      "outputs": [],
      "source": [
        "from sklearn.preprocessing import LabelEncoder"
      ]
    },
    {
      "cell_type": "code",
      "execution_count": 117,
      "metadata": {
        "id": "0gZd8-W2DBXX"
      },
      "outputs": [],
      "source": [
        "le = LabelEncoder() \n",
        "df['sex'] = le.fit_transform(df['sex']) \n",
        "df['income'] = le.fit_transform(df['income'])"
      ]
    },
    {
      "cell_type": "markdown",
      "metadata": {},
      "source": [
        "Preview hasil setelah di encoding"
      ]
    },
    {
      "cell_type": "code",
      "execution_count": 118,
      "metadata": {},
      "outputs": [
        {
          "data": {
            "application/vnd.microsoft.datawrangler.viewer.v0+json": {
              "columns": [
                {
                  "name": "index",
                  "rawType": "int64",
                  "type": "integer"
                },
                {
                  "name": "sex",
                  "rawType": "int64",
                  "type": "integer"
                },
                {
                  "name": "income",
                  "rawType": "int64",
                  "type": "integer"
                }
              ],
              "ref": "ec699266-89b3-406d-be14-29b18242e53e",
              "rows": [
                [
                  "0",
                  "1",
                  "0"
                ],
                [
                  "1",
                  "1",
                  "0"
                ],
                [
                  "2",
                  "1",
                  "0"
                ],
                [
                  "3",
                  "1",
                  "0"
                ],
                [
                  "4",
                  "0",
                  "0"
                ],
                [
                  "5",
                  "0",
                  "0"
                ],
                [
                  "6",
                  "0",
                  "0"
                ],
                [
                  "7",
                  "1",
                  "2"
                ],
                [
                  "8",
                  "0",
                  "2"
                ],
                [
                  "9",
                  "1",
                  "2"
                ]
              ],
              "shape": {
                "columns": 2,
                "rows": 10
              }
            },
            "text/html": [
              "<div>\n",
              "<style scoped>\n",
              "    .dataframe tbody tr th:only-of-type {\n",
              "        vertical-align: middle;\n",
              "    }\n",
              "\n",
              "    .dataframe tbody tr th {\n",
              "        vertical-align: top;\n",
              "    }\n",
              "\n",
              "    .dataframe thead th {\n",
              "        text-align: right;\n",
              "    }\n",
              "</style>\n",
              "<table border=\"1\" class=\"dataframe\">\n",
              "  <thead>\n",
              "    <tr style=\"text-align: right;\">\n",
              "      <th></th>\n",
              "      <th>sex</th>\n",
              "      <th>income</th>\n",
              "    </tr>\n",
              "  </thead>\n",
              "  <tbody>\n",
              "    <tr>\n",
              "      <th>0</th>\n",
              "      <td>1</td>\n",
              "      <td>0</td>\n",
              "    </tr>\n",
              "    <tr>\n",
              "      <th>1</th>\n",
              "      <td>1</td>\n",
              "      <td>0</td>\n",
              "    </tr>\n",
              "    <tr>\n",
              "      <th>2</th>\n",
              "      <td>1</td>\n",
              "      <td>0</td>\n",
              "    </tr>\n",
              "    <tr>\n",
              "      <th>3</th>\n",
              "      <td>1</td>\n",
              "      <td>0</td>\n",
              "    </tr>\n",
              "    <tr>\n",
              "      <th>4</th>\n",
              "      <td>0</td>\n",
              "      <td>0</td>\n",
              "    </tr>\n",
              "    <tr>\n",
              "      <th>5</th>\n",
              "      <td>0</td>\n",
              "      <td>0</td>\n",
              "    </tr>\n",
              "    <tr>\n",
              "      <th>6</th>\n",
              "      <td>0</td>\n",
              "      <td>0</td>\n",
              "    </tr>\n",
              "    <tr>\n",
              "      <th>7</th>\n",
              "      <td>1</td>\n",
              "      <td>2</td>\n",
              "    </tr>\n",
              "    <tr>\n",
              "      <th>8</th>\n",
              "      <td>0</td>\n",
              "      <td>2</td>\n",
              "    </tr>\n",
              "    <tr>\n",
              "      <th>9</th>\n",
              "      <td>1</td>\n",
              "      <td>2</td>\n",
              "    </tr>\n",
              "  </tbody>\n",
              "</table>\n",
              "</div>"
            ],
            "text/plain": [
              "   sex  income\n",
              "0    1       0\n",
              "1    1       0\n",
              "2    1       0\n",
              "3    1       0\n",
              "4    0       0\n",
              "5    0       0\n",
              "6    0       0\n",
              "7    1       2\n",
              "8    0       2\n",
              "9    1       2"
            ]
          },
          "execution_count": 118,
          "metadata": {},
          "output_type": "execute_result"
        }
      ],
      "source": [
        "df[['sex', 'income']].head(10)"
      ]
    },
    {
      "cell_type": "markdown",
      "metadata": {
        "id": "4VnpInIXzHZF"
      },
      "source": [
        "# Bagian 4 - Analisis Korelasi"
      ]
    },
    {
      "cell_type": "markdown",
      "metadata": {
        "id": "gaxpyTMpDJBe"
      },
      "source": [
        "## Soal 1 (10 poin)\n",
        "1. Lakukan analisis korelasi pada variabel 'age', 'education-num', 'hours-per-week', 'capital-gain', 'capital-loss', dan 'income' (yang sudah di-encoding)\n",
        "2. Berdasarkan hasil korelasi, informasi apa yang dapat Anda interpretasikan?"
      ]
    },
    {
      "cell_type": "code",
      "execution_count": 119,
      "metadata": {
        "id": "eG9utxYEzKcP"
      },
      "outputs": [
        {
          "data": {
            "application/vnd.microsoft.datawrangler.viewer.v0+json": {
              "columns": [
                {
                  "name": "index",
                  "rawType": "int64",
                  "type": "integer"
                },
                {
                  "name": "age",
                  "rawType": "int64",
                  "type": "integer"
                },
                {
                  "name": "education-num",
                  "rawType": "int64",
                  "type": "integer"
                },
                {
                  "name": "hours-per-week",
                  "rawType": "int64",
                  "type": "integer"
                },
                {
                  "name": "capital-gain",
                  "rawType": "int64",
                  "type": "integer"
                },
                {
                  "name": "capital-loss",
                  "rawType": "int64",
                  "type": "integer"
                },
                {
                  "name": "income",
                  "rawType": "int64",
                  "type": "integer"
                }
              ],
              "ref": "53e190ee-fc1b-4c43-ad0c-eeeafd71bc6b",
              "rows": [
                [
                  "0",
                  "39",
                  "13",
                  "40",
                  "2174",
                  "0",
                  "0"
                ],
                [
                  "1",
                  "50",
                  "13",
                  "13",
                  "0",
                  "0",
                  "0"
                ],
                [
                  "2",
                  "38",
                  "9",
                  "40",
                  "0",
                  "0",
                  "0"
                ],
                [
                  "3",
                  "53",
                  "7",
                  "40",
                  "0",
                  "0",
                  "0"
                ],
                [
                  "4",
                  "28",
                  "13",
                  "40",
                  "0",
                  "0",
                  "0"
                ],
                [
                  "5",
                  "37",
                  "14",
                  "40",
                  "0",
                  "0",
                  "0"
                ],
                [
                  "6",
                  "49",
                  "5",
                  "16",
                  "0",
                  "0",
                  "0"
                ],
                [
                  "7",
                  "52",
                  "9",
                  "45",
                  "0",
                  "0",
                  "2"
                ],
                [
                  "8",
                  "31",
                  "14",
                  "50",
                  "14084",
                  "0",
                  "2"
                ],
                [
                  "9",
                  "42",
                  "13",
                  "40",
                  "5178",
                  "0",
                  "2"
                ]
              ],
              "shape": {
                "columns": 6,
                "rows": 10
              }
            },
            "text/html": [
              "<div>\n",
              "<style scoped>\n",
              "    .dataframe tbody tr th:only-of-type {\n",
              "        vertical-align: middle;\n",
              "    }\n",
              "\n",
              "    .dataframe tbody tr th {\n",
              "        vertical-align: top;\n",
              "    }\n",
              "\n",
              "    .dataframe thead th {\n",
              "        text-align: right;\n",
              "    }\n",
              "</style>\n",
              "<table border=\"1\" class=\"dataframe\">\n",
              "  <thead>\n",
              "    <tr style=\"text-align: right;\">\n",
              "      <th></th>\n",
              "      <th>age</th>\n",
              "      <th>education-num</th>\n",
              "      <th>hours-per-week</th>\n",
              "      <th>capital-gain</th>\n",
              "      <th>capital-loss</th>\n",
              "      <th>income</th>\n",
              "    </tr>\n",
              "  </thead>\n",
              "  <tbody>\n",
              "    <tr>\n",
              "      <th>0</th>\n",
              "      <td>39</td>\n",
              "      <td>13</td>\n",
              "      <td>40</td>\n",
              "      <td>2174</td>\n",
              "      <td>0</td>\n",
              "      <td>0</td>\n",
              "    </tr>\n",
              "    <tr>\n",
              "      <th>1</th>\n",
              "      <td>50</td>\n",
              "      <td>13</td>\n",
              "      <td>13</td>\n",
              "      <td>0</td>\n",
              "      <td>0</td>\n",
              "      <td>0</td>\n",
              "    </tr>\n",
              "    <tr>\n",
              "      <th>2</th>\n",
              "      <td>38</td>\n",
              "      <td>9</td>\n",
              "      <td>40</td>\n",
              "      <td>0</td>\n",
              "      <td>0</td>\n",
              "      <td>0</td>\n",
              "    </tr>\n",
              "    <tr>\n",
              "      <th>3</th>\n",
              "      <td>53</td>\n",
              "      <td>7</td>\n",
              "      <td>40</td>\n",
              "      <td>0</td>\n",
              "      <td>0</td>\n",
              "      <td>0</td>\n",
              "    </tr>\n",
              "    <tr>\n",
              "      <th>4</th>\n",
              "      <td>28</td>\n",
              "      <td>13</td>\n",
              "      <td>40</td>\n",
              "      <td>0</td>\n",
              "      <td>0</td>\n",
              "      <td>0</td>\n",
              "    </tr>\n",
              "    <tr>\n",
              "      <th>5</th>\n",
              "      <td>37</td>\n",
              "      <td>14</td>\n",
              "      <td>40</td>\n",
              "      <td>0</td>\n",
              "      <td>0</td>\n",
              "      <td>0</td>\n",
              "    </tr>\n",
              "    <tr>\n",
              "      <th>6</th>\n",
              "      <td>49</td>\n",
              "      <td>5</td>\n",
              "      <td>16</td>\n",
              "      <td>0</td>\n",
              "      <td>0</td>\n",
              "      <td>0</td>\n",
              "    </tr>\n",
              "    <tr>\n",
              "      <th>7</th>\n",
              "      <td>52</td>\n",
              "      <td>9</td>\n",
              "      <td>45</td>\n",
              "      <td>0</td>\n",
              "      <td>0</td>\n",
              "      <td>2</td>\n",
              "    </tr>\n",
              "    <tr>\n",
              "      <th>8</th>\n",
              "      <td>31</td>\n",
              "      <td>14</td>\n",
              "      <td>50</td>\n",
              "      <td>14084</td>\n",
              "      <td>0</td>\n",
              "      <td>2</td>\n",
              "    </tr>\n",
              "    <tr>\n",
              "      <th>9</th>\n",
              "      <td>42</td>\n",
              "      <td>13</td>\n",
              "      <td>40</td>\n",
              "      <td>5178</td>\n",
              "      <td>0</td>\n",
              "      <td>2</td>\n",
              "    </tr>\n",
              "  </tbody>\n",
              "</table>\n",
              "</div>"
            ],
            "text/plain": [
              "   age  education-num  hours-per-week  capital-gain  capital-loss  income\n",
              "0   39             13              40          2174             0       0\n",
              "1   50             13              13             0             0       0\n",
              "2   38              9              40             0             0       0\n",
              "3   53              7              40             0             0       0\n",
              "4   28             13              40             0             0       0\n",
              "5   37             14              40             0             0       0\n",
              "6   49              5              16             0             0       0\n",
              "7   52              9              45             0             0       2\n",
              "8   31             14              50         14084             0       2\n",
              "9   42             13              40          5178             0       2"
            ]
          },
          "execution_count": 119,
          "metadata": {},
          "output_type": "execute_result"
        }
      ],
      "source": [
        "# Jawab Soal 1\n",
        "# Kerjakan pada cell ini\n",
        "# Anda diperbolehkan menambah cell jika diperlukan\n",
        "\n",
        "cols = ['age', 'education-num', 'hours-per-week', 'capital-gain', 'capital-loss', 'income']\n",
        "df_subset = df[cols]\n",
        "\n",
        "df_subset.head(10)"
      ]
    },
    {
      "cell_type": "code",
      "execution_count": 120,
      "metadata": {},
      "outputs": [
        {
          "data": {
            "application/vnd.microsoft.datawrangler.viewer.v0+json": {
              "columns": [
                {
                  "name": "index",
                  "rawType": "object",
                  "type": "string"
                },
                {
                  "name": "age",
                  "rawType": "float64",
                  "type": "float"
                },
                {
                  "name": "education-num",
                  "rawType": "float64",
                  "type": "float"
                },
                {
                  "name": "hours-per-week",
                  "rawType": "float64",
                  "type": "float"
                },
                {
                  "name": "capital-gain",
                  "rawType": "float64",
                  "type": "float"
                },
                {
                  "name": "capital-loss",
                  "rawType": "float64",
                  "type": "float"
                },
                {
                  "name": "income",
                  "rawType": "float64",
                  "type": "float"
                }
              ],
              "ref": "cd0ae676-be09-4968-a35f-6210e05bfec2",
              "rows": [
                [
                  "age",
                  "1.0",
                  "0.030940375874513776",
                  "0.07155833852698297",
                  "0.07722902236437941",
                  "0.056943826105611134",
                  "0.2051734498710571"
                ],
                [
                  "education-num",
                  "0.030940375874513776",
                  "1.0",
                  "0.1436889093924796",
                  "0.12514645910571992",
                  "0.08097193774847238",
                  "0.29107366461615375"
                ],
                [
                  "hours-per-week",
                  "0.07155833852698297",
                  "0.1436889093924796",
                  "1.0",
                  "0.08215727805587907",
                  "0.05446721609518729",
                  "0.19889044996119992"
                ],
                [
                  "capital-gain",
                  "0.07722902236437941",
                  "0.12514645910571992",
                  "0.08215727805587907",
                  "1.0",
                  "-0.03144077064746322",
                  "0.19575485581781718"
                ],
                [
                  "capital-loss",
                  "0.056943826105611134",
                  "0.08097193774847238",
                  "0.05446721609518729",
                  "-0.03144077064746322",
                  "1.0",
                  "0.12977058167724742"
                ],
                [
                  "income",
                  "0.2051734498710571",
                  "0.29107366461615375",
                  "0.19889044996119992",
                  "0.19575485581781718",
                  "0.12977058167724742",
                  "1.0"
                ]
              ],
              "shape": {
                "columns": 6,
                "rows": 6
              }
            },
            "text/html": [
              "<div>\n",
              "<style scoped>\n",
              "    .dataframe tbody tr th:only-of-type {\n",
              "        vertical-align: middle;\n",
              "    }\n",
              "\n",
              "    .dataframe tbody tr th {\n",
              "        vertical-align: top;\n",
              "    }\n",
              "\n",
              "    .dataframe thead th {\n",
              "        text-align: right;\n",
              "    }\n",
              "</style>\n",
              "<table border=\"1\" class=\"dataframe\">\n",
              "  <thead>\n",
              "    <tr style=\"text-align: right;\">\n",
              "      <th></th>\n",
              "      <th>age</th>\n",
              "      <th>education-num</th>\n",
              "      <th>hours-per-week</th>\n",
              "      <th>capital-gain</th>\n",
              "      <th>capital-loss</th>\n",
              "      <th>income</th>\n",
              "    </tr>\n",
              "  </thead>\n",
              "  <tbody>\n",
              "    <tr>\n",
              "      <th>age</th>\n",
              "      <td>1.000000</td>\n",
              "      <td>0.030940</td>\n",
              "      <td>0.071558</td>\n",
              "      <td>0.077229</td>\n",
              "      <td>0.056944</td>\n",
              "      <td>0.205173</td>\n",
              "    </tr>\n",
              "    <tr>\n",
              "      <th>education-num</th>\n",
              "      <td>0.030940</td>\n",
              "      <td>1.000000</td>\n",
              "      <td>0.143689</td>\n",
              "      <td>0.125146</td>\n",
              "      <td>0.080972</td>\n",
              "      <td>0.291074</td>\n",
              "    </tr>\n",
              "    <tr>\n",
              "      <th>hours-per-week</th>\n",
              "      <td>0.071558</td>\n",
              "      <td>0.143689</td>\n",
              "      <td>1.000000</td>\n",
              "      <td>0.082157</td>\n",
              "      <td>0.054467</td>\n",
              "      <td>0.198890</td>\n",
              "    </tr>\n",
              "    <tr>\n",
              "      <th>capital-gain</th>\n",
              "      <td>0.077229</td>\n",
              "      <td>0.125146</td>\n",
              "      <td>0.082157</td>\n",
              "      <td>1.000000</td>\n",
              "      <td>-0.031441</td>\n",
              "      <td>0.195755</td>\n",
              "    </tr>\n",
              "    <tr>\n",
              "      <th>capital-loss</th>\n",
              "      <td>0.056944</td>\n",
              "      <td>0.080972</td>\n",
              "      <td>0.054467</td>\n",
              "      <td>-0.031441</td>\n",
              "      <td>1.000000</td>\n",
              "      <td>0.129771</td>\n",
              "    </tr>\n",
              "    <tr>\n",
              "      <th>income</th>\n",
              "      <td>0.205173</td>\n",
              "      <td>0.291074</td>\n",
              "      <td>0.198890</td>\n",
              "      <td>0.195755</td>\n",
              "      <td>0.129771</td>\n",
              "      <td>1.000000</td>\n",
              "    </tr>\n",
              "  </tbody>\n",
              "</table>\n",
              "</div>"
            ],
            "text/plain": [
              "                     age  education-num  hours-per-week  capital-gain  \\\n",
              "age             1.000000       0.030940        0.071558      0.077229   \n",
              "education-num   0.030940       1.000000        0.143689      0.125146   \n",
              "hours-per-week  0.071558       0.143689        1.000000      0.082157   \n",
              "capital-gain    0.077229       0.125146        0.082157      1.000000   \n",
              "capital-loss    0.056944       0.080972        0.054467     -0.031441   \n",
              "income          0.205173       0.291074        0.198890      0.195755   \n",
              "\n",
              "                capital-loss    income  \n",
              "age                 0.056944  0.205173  \n",
              "education-num       0.080972  0.291074  \n",
              "hours-per-week      0.054467  0.198890  \n",
              "capital-gain       -0.031441  0.195755  \n",
              "capital-loss        1.000000  0.129771  \n",
              "income              0.129771  1.000000  "
            ]
          },
          "execution_count": 120,
          "metadata": {},
          "output_type": "execute_result"
        }
      ],
      "source": [
        "corr_matrix = df_subset.corr(method='pearson')\n",
        "corr_matrix"
      ]
    },
    {
      "cell_type": "code",
      "execution_count": 121,
      "metadata": {},
      "outputs": [
        {
          "data": {
            "image/png": "[encoded data removed]",
            "text/plain": [
              "<Figure size 640x480 with 2 Axes>"
            ]
          },
          "metadata": {},
          "output_type": "display_data"
        }
      ],
      "source": [
        "sns.heatmap(corr_matrix, annot=True, cmap=\"coolwarm\")\n",
        "plt.show()"
      ]
    },
    {
      "cell_type": "code",
      "execution_count": 122,
      "metadata": {
        "id": "E6Ffw5czDuvg"
      },
      "outputs": [
        {
          "data": {
            "text/plain": [
              "'\\nDari visualisasi heatmap tersebut, terdapat beberapa fitur yang berkorelasi cukup kuat seperti `education-num` dengan `income`. Nilai yang ditunjukkan adalah 0.29. Meski itu sebenarnya masih tergolong rendah karena jauh dari nilai positif 1 atau negatif 1. Namun, nilai itu cenderung yang paling tinggi daripada yang lain. \\n\\nKemudian untuk perbandingan antara fitur yang kurang berkolerasi adalah `education-num` dengan `age`. Nilai yang diperoleh adalah `0.031`. Nilai tersebut sangat mendekati dengan nilai 0. Nilai yang semakin mendekati nilai 0, maka itu memiliki hubungan yang sangat lemah satu sama lain.\\n'"
            ]
          },
          "execution_count": 122,
          "metadata": {},
          "output_type": "execute_result"
        }
      ],
      "source": [
        "# Hasil analisis jelaskan pada cell ini\n",
        "\n",
        "'''\n",
        "Dari visualisasi heatmap tersebut, terdapat beberapa fitur yang berkorelasi cukup kuat seperti `education-num` dengan `income`. Nilai yang ditunjukkan adalah 0.29. Meski itu sebenarnya masih tergolong rendah karena jauh dari nilai positif 1 atau negatif 1. Namun, nilai itu cenderung yang paling tinggi daripada yang lain. \n",
        "\n",
        "Kemudian untuk perbandingan antara fitur yang kurang berkolerasi adalah `education-num` dengan `age`. Nilai yang diperoleh adalah `0.031`. Nilai tersebut sangat mendekati dengan nilai 0. Nilai yang semakin mendekati nilai 0, maka itu memiliki hubungan yang sangat lemah satu sama lain.\n",
        "'''"
      ]
    },
    {
      "cell_type": "markdown",
      "metadata": {
        "id": "mNXOAokpEtu_"
      },
      "source": [
        "# Bagian 5 - Pra Pengolahan Data Pada Dataset MNIST\n",
        "\n",
        "Pada bagian ini, Anda diminta untuk melakukan proses EDA dan pra pengolahan data sederhana pada dataset MNIST. Dataset MNIST merupakan data citra tulisan tangan untuk digil 0 hingga 9. Sebelum melakukan proses pengolahan, Anda akan dibantu dengan proses loading data dan inspeksi data.\n",
        "\n",
        "Hints:\n",
        "1. Hanya gunakan data **Test**\n",
        "2. Anda perlu melakukan pengolahan terhadap semua data test (total 10k data). Anda dapat menggunakan function untuk mempermudah pekerjaan."
      ]
    },
    {
      "cell_type": "code",
      "execution_count": 123,
      "metadata": {
        "colab": {
          "base_uri": "https://localhost:8080/"
        },
        "id": "10nzXV3OFwy5",
        "outputId": "e39af326-0659-4b80-a7fe-d3e71a5da2a3"
      },
      "outputs": [
        {
          "ename": "ModuleNotFoundError",
          "evalue": "No module named 'tensorflow'",
          "output_type": "error",
          "traceback": [
            "\u001b[31m---------------------------------------------------------------------------\u001b[39m",
            "\u001b[31mModuleNotFoundError\u001b[39m                       Traceback (most recent call last)",
            "\u001b[36mCell\u001b[39m\u001b[36m \u001b[39m\u001b[32mIn[123]\u001b[39m\u001b[32m, line 2\u001b[39m\n\u001b[32m      1\u001b[39m \u001b[38;5;66;03m# Fetch data and inspect data shape\u001b[39;00m\n\u001b[32m----> \u001b[39m\u001b[32m2\u001b[39m \u001b[38;5;28;01mfrom\u001b[39;00m\u001b[38;5;250m \u001b[39m\u001b[34;01mtensorflow\u001b[39;00m\u001b[34;01m.\u001b[39;00m\u001b[34;01mkeras\u001b[39;00m\u001b[34;01m.\u001b[39;00m\u001b[34;01mdatasets\u001b[39;00m\u001b[38;5;250m \u001b[39m\u001b[38;5;28;01mimport\u001b[39;00m mnist\n\u001b[32m      3\u001b[39m \u001b[38;5;28;01mimport\u001b[39;00m\u001b[38;5;250m \u001b[39m\u001b[34;01mnumpy\u001b[39;00m\u001b[38;5;250m \u001b[39m\u001b[38;5;28;01mas\u001b[39;00m\u001b[38;5;250m \u001b[39m\u001b[34;01mnp\u001b[39;00m\n\u001b[32m      4\u001b[39m \u001b[38;5;28;01mimport\u001b[39;00m\u001b[38;5;250m \u001b[39m\u001b[34;01mmatplotlib\u001b[39;00m\u001b[34;01m.\u001b[39;00m\u001b[34;01mpyplot\u001b[39;00m\u001b[38;5;250m \u001b[39m\u001b[38;5;28;01mas\u001b[39;00m\u001b[38;5;250m \u001b[39m\u001b[34;01mplt\u001b[39;00m\n",
            "\u001b[31mModuleNotFoundError\u001b[39m: No module named 'tensorflow'"
          ]
        }
      ],
      "source": [
        "# Fetch data and inspect data shape\n",
        "from tensorflow.keras.datasets import mnist\n",
        "import numpy as np\n",
        "import matplotlib.pyplot as plt\n",
        "\n",
        "# Load train & test split\n",
        "(X_train, y_train), (X_test, y_test) = mnist.load_da.ta()\n",
        "\n",
        "print(\"Train shape:\", X_train.shape)\n",
        "print(\"Test shape:\", X_test.shape)"
      ]
    },
    {
      "cell_type": "code",
      "execution_count": null,
      "metadata": {
        "colab": {
          "base_uri": "https://localhost:8080/",
          "height": 444
        },
        "id": "EDPxprvVGfs9",
        "outputId": "0481d0b0-1500-43d5-9616-b593e1b7594e"
      },
      "outputs": [
        {
          "data": {
            "image/png": "[encoded data removed]",
            "text/plain": [
              "<Figure size 500x500 with 9 Axes>"
            ]
          },
          "metadata": {},
          "output_type": "display_data"
        }
      ],
      "source": [
        "# Inspeksi Visual\n",
        "plt.figure(figsize=(5,5))\n",
        "for i in range(9):\n",
        "    plt.subplot(3,3,i+1)\n",
        "    plt.imshow(X_train[i], cmap=\"gray\")\n",
        "    plt.title(f\"Label: {y_train[i]}\")\n",
        "    plt.axis(\"off\")\n",
        "plt.show()"
      ]
    },
    {
      "cell_type": "markdown",
      "metadata": {
        "id": "SPmLKWBxG7j1"
      },
      "source": [
        "## Soal 1 (10 poin)\n",
        "1. Lakukan proses **upsampling** citra menjadi ukuran 32x32\n",
        "2. Tampilakan 5 data hasil proses **upsampling**\n",
        "\n",
        "Hint: Anda harus membuat array kosong untuk menampung hasil upsampling. Replace pada array X_test tidak dapat dilakukan karena data disimpan dalam bentuk ndarray yang memiliki ukuran fix (10000, (28,28))"
      ]
    },
    {
      "cell_type": "code",
      "execution_count": null,
      "metadata": {
        "id": "zBOU7EelHAAQ"
      },
      "outputs": [],
      "source": [
        "# Jawab Soal 1\n",
        "# Kerjakan pada cell ini\n",
        "# Anda diperbolehkan menambah cell jika diperlukan"
      ]
    },
    {
      "cell_type": "markdown",
      "metadata": {
        "id": "lB-S2cDIHCN6"
      },
      "source": [
        "## Soal 2 (10 poin)\n",
        "Lakukan normalisasi nilai citra tiap piksel menjadi rentang 0-1"
      ]
    },
    {
      "cell_type": "code",
      "execution_count": null,
      "metadata": {
        "id": "QIRvhAZ0HKWN"
      },
      "outputs": [],
      "source": [
        "# Jawab Soal 2\n",
        "# Kerjakan pada cell ini\n",
        "# Anda diperbolehkan menambah cell jika diperlukan"
      ]
    },
    {
      "cell_type": "markdown",
      "metadata": {
        "id": "qly7StpYHLM-"
      },
      "source": [
        "## Soal 3 (10 poin)\n",
        "Ubah metriks citra menjadi array 1 dimensi. Lakukan pada semua data test yang sudah di resize dan normalisasi.\n",
        "\n",
        "Hint: Anda harus membuat holder array kosong untuk menampung hasilnya."
      ]
    },
    {
      "cell_type": "code",
      "execution_count": null,
      "metadata": {
        "id": "3l32YphnHZ8H"
      },
      "outputs": [],
      "source": [
        "# Jawab Soal 3\n",
        "# Kerjakan pada cell ini\n",
        "# Anda diperbolehkan menambah cell jika diperlukan"
      ]
    }
  ],
  "metadata": {
    "colab": {
      "provenance": []
    },
    "kernelspec": {
      "display_name": "gideon",
      "language": "python",
      "name": "python3"
    },
    "language_info": {
      "codemirror_mode": {
        "name": "ipython",
        "version": 3
      },
      "file_extension": ".py",
      "mimetype": "text/x-python",
      "name": "python",
      "nbconvert_exporter": "python",
      "pygments_lexer": "ipython3",
      "version": "3.13.0"
    }
  },
  "nbformat": 4,
  "nbformat_minor": 0
}
