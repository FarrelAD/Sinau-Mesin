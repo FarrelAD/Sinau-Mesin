{
 "cells": [
  {
   "cell_type": "markdown",
   "id": "a090af76",
   "metadata": {
    "papermill": {
     "duration": 0.00732,
     "end_time": "2025-10-21T03:30:01.997536",
     "exception": false,
     "start_time": "2025-10-21T03:30:01.990216",
     "status": "completed"
    },
    "tags": []
   },
   "source": [
    "# Persiapan"
   ]
  },
  {
   "cell_type": "code",
   "execution_count": 1,
   "id": "10bdb7a1",
   "metadata": {
    "execution": {
     "iopub.execute_input": "2025-10-21T03:30:02.011823Z",
     "iopub.status.busy": "2025-10-21T03:30:02.011409Z",
     "iopub.status.idle": "2025-10-21T03:30:06.292432Z",
     "shell.execute_reply": "2025-10-21T03:30:06.291271Z"
    },
    "papermill": {
     "duration": 4.289941,
     "end_time": "2025-10-21T03:30:06.294339",
     "exception": false,
     "start_time": "2025-10-21T03:30:02.004398",
     "status": "completed"
    },
    "tags": []
   },
   "outputs": [],
   "source": [
    "import pandas as pd\n",
    "import numpy as np\n",
    "import random\n",
    "from sklearn.cluster import KMeans, DBSCAN\n",
    "from sklearn.metrics import silhouette_score, davies_bouldin_score\n",
    "from sklearn.decomposition import PCA\n",
    "from sklearn.neighbors import NearestNeighbors\n",
    "from sklearn.preprocessing import StandardScaler\n",
    "import matplotlib.pyplot as plt\n",
    "from annoy import AnnoyIndex\n",
    "from IPython.display import display\n",
    "\n",
    "import warnings\n",
    "warnings.filterwarnings('ignore')"
   ]
  },
  {
   "cell_type": "code",
   "execution_count": 2,
   "id": "89ad66b2",
   "metadata": {
    "execution": {
     "iopub.execute_input": "2025-10-21T03:30:06.309286Z",
     "iopub.status.busy": "2025-10-21T03:30:06.308766Z",
     "iopub.status.idle": "2025-10-21T03:30:06.314737Z",
     "shell.execute_reply": "2025-10-21T03:30:06.313546Z"
    },
    "papermill": {
     "duration": 0.014732,
     "end_time": "2025-10-21T03:30:06.316352",
     "exception": false,
     "start_time": "2025-10-21T03:30:06.301620",
     "status": "completed"
    },
    "tags": []
   },
   "outputs": [],
   "source": [
    "# setup random seed\n",
    "\n",
    "RANDOM_SEED = 24\n",
    "random.seed(RANDOM_SEED)\n",
    "np.random.seed(RANDOM_SEED)"
   ]
  },
  {
   "cell_type": "markdown",
   "id": "33f2c697",
   "metadata": {
    "papermill": {
     "duration": 0.006447,
     "end_time": "2025-10-21T03:30:06.330100",
     "exception": false,
     "start_time": "2025-10-21T03:30:06.323653",
     "status": "completed"
    },
    "tags": []
   },
   "source": [
    "# 1. Data Preprocessing"
   ]
  },
  {
   "cell_type": "code",
   "execution_count": 3,
   "id": "6f36fe78",
   "metadata": {
    "execution": {
     "iopub.execute_input": "2025-10-21T03:30:06.343568Z",
     "iopub.status.busy": "2025-10-21T03:30:06.343069Z",
     "iopub.status.idle": "2025-10-21T03:30:06.455744Z",
     "shell.execute_reply": "2025-10-21T03:30:06.454122Z"
    },
    "papermill": {
     "duration": 0.121487,
     "end_time": "2025-10-21T03:30:06.457550",
     "exception": false,
     "start_time": "2025-10-21T03:30:06.336063",
     "status": "completed"
    },
    "tags": []
   },
   "outputs": [
    {
     "data": {
      "text/html": [
       "<div>\n",
       "<style scoped>\n",
       "    .dataframe tbody tr th:only-of-type {\n",
       "        vertical-align: middle;\n",
       "    }\n",
       "\n",
       "    .dataframe tbody tr th {\n",
       "        vertical-align: top;\n",
       "    }\n",
       "\n",
       "    .dataframe thead th {\n",
       "        text-align: right;\n",
       "    }\n",
       "</style>\n",
       "<table border=\"1\" class=\"dataframe\">\n",
       "  <thead>\n",
       "    <tr style=\"text-align: right;\">\n",
       "      <th></th>\n",
       "      <th>age</th>\n",
       "      <th>sex</th>\n",
       "      <th>cp</th>\n",
       "      <th>trestbps</th>\n",
       "      <th>chol</th>\n",
       "      <th>fbs</th>\n",
       "      <th>restecg</th>\n",
       "      <th>thalach</th>\n",
       "      <th>exang</th>\n",
       "      <th>oldpeak</th>\n",
       "      <th>slope</th>\n",
       "      <th>ca</th>\n",
       "      <th>thal</th>\n",
       "      <th>target</th>\n",
       "    </tr>\n",
       "  </thead>\n",
       "  <tbody>\n",
       "    <tr>\n",
       "      <th>0</th>\n",
       "      <td>52</td>\n",
       "      <td>1</td>\n",
       "      <td>0</td>\n",
       "      <td>125</td>\n",
       "      <td>212</td>\n",
       "      <td>0</td>\n",
       "      <td>1</td>\n",
       "      <td>168</td>\n",
       "      <td>0</td>\n",
       "      <td>1.0</td>\n",
       "      <td>2</td>\n",
       "      <td>2</td>\n",
       "      <td>3</td>\n",
       "      <td>0</td>\n",
       "    </tr>\n",
       "    <tr>\n",
       "      <th>1</th>\n",
       "      <td>53</td>\n",
       "      <td>1</td>\n",
       "      <td>0</td>\n",
       "      <td>140</td>\n",
       "      <td>203</td>\n",
       "      <td>1</td>\n",
       "      <td>0</td>\n",
       "      <td>155</td>\n",
       "      <td>1</td>\n",
       "      <td>3.1</td>\n",
       "      <td>0</td>\n",
       "      <td>0</td>\n",
       "      <td>3</td>\n",
       "      <td>0</td>\n",
       "    </tr>\n",
       "    <tr>\n",
       "      <th>2</th>\n",
       "      <td>70</td>\n",
       "      <td>1</td>\n",
       "      <td>0</td>\n",
       "      <td>145</td>\n",
       "      <td>174</td>\n",
       "      <td>0</td>\n",
       "      <td>1</td>\n",
       "      <td>125</td>\n",
       "      <td>1</td>\n",
       "      <td>2.6</td>\n",
       "      <td>0</td>\n",
       "      <td>0</td>\n",
       "      <td>3</td>\n",
       "      <td>0</td>\n",
       "    </tr>\n",
       "    <tr>\n",
       "      <th>3</th>\n",
       "      <td>61</td>\n",
       "      <td>1</td>\n",
       "      <td>0</td>\n",
       "      <td>148</td>\n",
       "      <td>203</td>\n",
       "      <td>0</td>\n",
       "      <td>1</td>\n",
       "      <td>161</td>\n",
       "      <td>0</td>\n",
       "      <td>0.0</td>\n",
       "      <td>2</td>\n",
       "      <td>1</td>\n",
       "      <td>3</td>\n",
       "      <td>0</td>\n",
       "    </tr>\n",
       "    <tr>\n",
       "      <th>4</th>\n",
       "      <td>62</td>\n",
       "      <td>0</td>\n",
       "      <td>0</td>\n",
       "      <td>138</td>\n",
       "      <td>294</td>\n",
       "      <td>1</td>\n",
       "      <td>1</td>\n",
       "      <td>106</td>\n",
       "      <td>0</td>\n",
       "      <td>1.9</td>\n",
       "      <td>1</td>\n",
       "      <td>3</td>\n",
       "      <td>2</td>\n",
       "      <td>0</td>\n",
       "    </tr>\n",
       "    <tr>\n",
       "      <th>5</th>\n",
       "      <td>58</td>\n",
       "      <td>0</td>\n",
       "      <td>0</td>\n",
       "      <td>100</td>\n",
       "      <td>248</td>\n",
       "      <td>0</td>\n",
       "      <td>0</td>\n",
       "      <td>122</td>\n",
       "      <td>0</td>\n",
       "      <td>1.0</td>\n",
       "      <td>1</td>\n",
       "      <td>0</td>\n",
       "      <td>2</td>\n",
       "      <td>1</td>\n",
       "    </tr>\n",
       "    <tr>\n",
       "      <th>6</th>\n",
       "      <td>58</td>\n",
       "      <td>1</td>\n",
       "      <td>0</td>\n",
       "      <td>114</td>\n",
       "      <td>318</td>\n",
       "      <td>0</td>\n",
       "      <td>2</td>\n",
       "      <td>140</td>\n",
       "      <td>0</td>\n",
       "      <td>4.4</td>\n",
       "      <td>0</td>\n",
       "      <td>3</td>\n",
       "      <td>1</td>\n",
       "      <td>0</td>\n",
       "    </tr>\n",
       "    <tr>\n",
       "      <th>7</th>\n",
       "      <td>55</td>\n",
       "      <td>1</td>\n",
       "      <td>0</td>\n",
       "      <td>160</td>\n",
       "      <td>289</td>\n",
       "      <td>0</td>\n",
       "      <td>0</td>\n",
       "      <td>145</td>\n",
       "      <td>1</td>\n",
       "      <td>0.8</td>\n",
       "      <td>1</td>\n",
       "      <td>1</td>\n",
       "      <td>3</td>\n",
       "      <td>0</td>\n",
       "    </tr>\n",
       "    <tr>\n",
       "      <th>8</th>\n",
       "      <td>46</td>\n",
       "      <td>1</td>\n",
       "      <td>0</td>\n",
       "      <td>120</td>\n",
       "      <td>249</td>\n",
       "      <td>0</td>\n",
       "      <td>0</td>\n",
       "      <td>144</td>\n",
       "      <td>0</td>\n",
       "      <td>0.8</td>\n",
       "      <td>2</td>\n",
       "      <td>0</td>\n",
       "      <td>3</td>\n",
       "      <td>0</td>\n",
       "    </tr>\n",
       "    <tr>\n",
       "      <th>9</th>\n",
       "      <td>54</td>\n",
       "      <td>1</td>\n",
       "      <td>0</td>\n",
       "      <td>122</td>\n",
       "      <td>286</td>\n",
       "      <td>0</td>\n",
       "      <td>0</td>\n",
       "      <td>116</td>\n",
       "      <td>1</td>\n",
       "      <td>3.2</td>\n",
       "      <td>1</td>\n",
       "      <td>2</td>\n",
       "      <td>2</td>\n",
       "      <td>0</td>\n",
       "    </tr>\n",
       "    <tr>\n",
       "      <th>10</th>\n",
       "      <td>71</td>\n",
       "      <td>0</td>\n",
       "      <td>0</td>\n",
       "      <td>112</td>\n",
       "      <td>149</td>\n",
       "      <td>0</td>\n",
       "      <td>1</td>\n",
       "      <td>125</td>\n",
       "      <td>0</td>\n",
       "      <td>1.6</td>\n",
       "      <td>1</td>\n",
       "      <td>0</td>\n",
       "      <td>2</td>\n",
       "      <td>1</td>\n",
       "    </tr>\n",
       "    <tr>\n",
       "      <th>11</th>\n",
       "      <td>43</td>\n",
       "      <td>0</td>\n",
       "      <td>0</td>\n",
       "      <td>132</td>\n",
       "      <td>341</td>\n",
       "      <td>1</td>\n",
       "      <td>0</td>\n",
       "      <td>136</td>\n",
       "      <td>1</td>\n",
       "      <td>3.0</td>\n",
       "      <td>1</td>\n",
       "      <td>0</td>\n",
       "      <td>3</td>\n",
       "      <td>0</td>\n",
       "    </tr>\n",
       "    <tr>\n",
       "      <th>12</th>\n",
       "      <td>34</td>\n",
       "      <td>0</td>\n",
       "      <td>1</td>\n",
       "      <td>118</td>\n",
       "      <td>210</td>\n",
       "      <td>0</td>\n",
       "      <td>1</td>\n",
       "      <td>192</td>\n",
       "      <td>0</td>\n",
       "      <td>0.7</td>\n",
       "      <td>2</td>\n",
       "      <td>0</td>\n",
       "      <td>2</td>\n",
       "      <td>1</td>\n",
       "    </tr>\n",
       "    <tr>\n",
       "      <th>13</th>\n",
       "      <td>51</td>\n",
       "      <td>1</td>\n",
       "      <td>0</td>\n",
       "      <td>140</td>\n",
       "      <td>298</td>\n",
       "      <td>0</td>\n",
       "      <td>1</td>\n",
       "      <td>122</td>\n",
       "      <td>1</td>\n",
       "      <td>4.2</td>\n",
       "      <td>1</td>\n",
       "      <td>3</td>\n",
       "      <td>3</td>\n",
       "      <td>0</td>\n",
       "    </tr>\n",
       "    <tr>\n",
       "      <th>14</th>\n",
       "      <td>52</td>\n",
       "      <td>1</td>\n",
       "      <td>0</td>\n",
       "      <td>128</td>\n",
       "      <td>204</td>\n",
       "      <td>1</td>\n",
       "      <td>1</td>\n",
       "      <td>156</td>\n",
       "      <td>1</td>\n",
       "      <td>1.0</td>\n",
       "      <td>1</td>\n",
       "      <td>0</td>\n",
       "      <td>0</td>\n",
       "      <td>0</td>\n",
       "    </tr>\n",
       "    <tr>\n",
       "      <th>15</th>\n",
       "      <td>34</td>\n",
       "      <td>0</td>\n",
       "      <td>1</td>\n",
       "      <td>118</td>\n",
       "      <td>210</td>\n",
       "      <td>0</td>\n",
       "      <td>1</td>\n",
       "      <td>192</td>\n",
       "      <td>0</td>\n",
       "      <td>0.7</td>\n",
       "      <td>2</td>\n",
       "      <td>0</td>\n",
       "      <td>2</td>\n",
       "      <td>1</td>\n",
       "    </tr>\n",
       "    <tr>\n",
       "      <th>16</th>\n",
       "      <td>51</td>\n",
       "      <td>0</td>\n",
       "      <td>2</td>\n",
       "      <td>140</td>\n",
       "      <td>308</td>\n",
       "      <td>0</td>\n",
       "      <td>0</td>\n",
       "      <td>142</td>\n",
       "      <td>0</td>\n",
       "      <td>1.5</td>\n",
       "      <td>2</td>\n",
       "      <td>1</td>\n",
       "      <td>2</td>\n",
       "      <td>1</td>\n",
       "    </tr>\n",
       "    <tr>\n",
       "      <th>17</th>\n",
       "      <td>54</td>\n",
       "      <td>1</td>\n",
       "      <td>0</td>\n",
       "      <td>124</td>\n",
       "      <td>266</td>\n",
       "      <td>0</td>\n",
       "      <td>0</td>\n",
       "      <td>109</td>\n",
       "      <td>1</td>\n",
       "      <td>2.2</td>\n",
       "      <td>1</td>\n",
       "      <td>1</td>\n",
       "      <td>3</td>\n",
       "      <td>0</td>\n",
       "    </tr>\n",
       "    <tr>\n",
       "      <th>18</th>\n",
       "      <td>50</td>\n",
       "      <td>0</td>\n",
       "      <td>1</td>\n",
       "      <td>120</td>\n",
       "      <td>244</td>\n",
       "      <td>0</td>\n",
       "      <td>1</td>\n",
       "      <td>162</td>\n",
       "      <td>0</td>\n",
       "      <td>1.1</td>\n",
       "      <td>2</td>\n",
       "      <td>0</td>\n",
       "      <td>2</td>\n",
       "      <td>1</td>\n",
       "    </tr>\n",
       "    <tr>\n",
       "      <th>19</th>\n",
       "      <td>58</td>\n",
       "      <td>1</td>\n",
       "      <td>2</td>\n",
       "      <td>140</td>\n",
       "      <td>211</td>\n",
       "      <td>1</td>\n",
       "      <td>0</td>\n",
       "      <td>165</td>\n",
       "      <td>0</td>\n",
       "      <td>0.0</td>\n",
       "      <td>2</td>\n",
       "      <td>0</td>\n",
       "      <td>2</td>\n",
       "      <td>1</td>\n",
       "    </tr>\n",
       "  </tbody>\n",
       "</table>\n",
       "</div>"
      ],
      "text/plain": [
       "    age  sex  cp  trestbps  chol  fbs  restecg  thalach  exang  oldpeak  \\\n",
       "0    52    1   0       125   212    0        1      168      0      1.0   \n",
       "1    53    1   0       140   203    1        0      155      1      3.1   \n",
       "2    70    1   0       145   174    0        1      125      1      2.6   \n",
       "3    61    1   0       148   203    0        1      161      0      0.0   \n",
       "4    62    0   0       138   294    1        1      106      0      1.9   \n",
       "5    58    0   0       100   248    0        0      122      0      1.0   \n",
       "6    58    1   0       114   318    0        2      140      0      4.4   \n",
       "7    55    1   0       160   289    0        0      145      1      0.8   \n",
       "8    46    1   0       120   249    0        0      144      0      0.8   \n",
       "9    54    1   0       122   286    0        0      116      1      3.2   \n",
       "10   71    0   0       112   149    0        1      125      0      1.6   \n",
       "11   43    0   0       132   341    1        0      136      1      3.0   \n",
       "12   34    0   1       118   210    0        1      192      0      0.7   \n",
       "13   51    1   0       140   298    0        1      122      1      4.2   \n",
       "14   52    1   0       128   204    1        1      156      1      1.0   \n",
       "15   34    0   1       118   210    0        1      192      0      0.7   \n",
       "16   51    0   2       140   308    0        0      142      0      1.5   \n",
       "17   54    1   0       124   266    0        0      109      1      2.2   \n",
       "18   50    0   1       120   244    0        1      162      0      1.1   \n",
       "19   58    1   2       140   211    1        0      165      0      0.0   \n",
       "\n",
       "    slope  ca  thal  target  \n",
       "0       2   2     3       0  \n",
       "1       0   0     3       0  \n",
       "2       0   0     3       0  \n",
       "3       2   1     3       0  \n",
       "4       1   3     2       0  \n",
       "5       1   0     2       1  \n",
       "6       0   3     1       0  \n",
       "7       1   1     3       0  \n",
       "8       2   0     3       0  \n",
       "9       1   2     2       0  \n",
       "10      1   0     2       1  \n",
       "11      1   0     3       0  \n",
       "12      2   0     2       1  \n",
       "13      1   3     3       0  \n",
       "14      1   0     0       0  \n",
       "15      2   0     2       1  \n",
       "16      2   1     2       1  \n",
       "17      1   1     3       0  \n",
       "18      2   0     2       1  \n",
       "19      2   0     2       1  "
      ]
     },
     "metadata": {},
     "output_type": "display_data"
    },
    {
     "data": {
      "text/html": [
       "<div>\n",
       "<style scoped>\n",
       "    .dataframe tbody tr th:only-of-type {\n",
       "        vertical-align: middle;\n",
       "    }\n",
       "\n",
       "    .dataframe tbody tr th {\n",
       "        vertical-align: top;\n",
       "    }\n",
       "\n",
       "    .dataframe thead th {\n",
       "        text-align: right;\n",
       "    }\n",
       "</style>\n",
       "<table border=\"1\" class=\"dataframe\">\n",
       "  <thead>\n",
       "    <tr style=\"text-align: right;\">\n",
       "      <th></th>\n",
       "      <th>age</th>\n",
       "      <th>sex</th>\n",
       "      <th>cp</th>\n",
       "      <th>trestbps</th>\n",
       "      <th>chol</th>\n",
       "      <th>fbs</th>\n",
       "      <th>restecg</th>\n",
       "      <th>thalach</th>\n",
       "      <th>exang</th>\n",
       "      <th>oldpeak</th>\n",
       "      <th>slope</th>\n",
       "      <th>ca</th>\n",
       "      <th>thal</th>\n",
       "      <th>target</th>\n",
       "    </tr>\n",
       "  </thead>\n",
       "  <tbody>\n",
       "    <tr>\n",
       "      <th>count</th>\n",
       "      <td>1025.000000</td>\n",
       "      <td>1025.000000</td>\n",
       "      <td>1025.000000</td>\n",
       "      <td>1025.000000</td>\n",
       "      <td>1025.00000</td>\n",
       "      <td>1025.000000</td>\n",
       "      <td>1025.000000</td>\n",
       "      <td>1025.000000</td>\n",
       "      <td>1025.000000</td>\n",
       "      <td>1025.000000</td>\n",
       "      <td>1025.000000</td>\n",
       "      <td>1025.000000</td>\n",
       "      <td>1025.000000</td>\n",
       "      <td>1025.000000</td>\n",
       "    </tr>\n",
       "    <tr>\n",
       "      <th>mean</th>\n",
       "      <td>54.434146</td>\n",
       "      <td>0.695610</td>\n",
       "      <td>0.942439</td>\n",
       "      <td>131.611707</td>\n",
       "      <td>246.00000</td>\n",
       "      <td>0.149268</td>\n",
       "      <td>0.529756</td>\n",
       "      <td>149.114146</td>\n",
       "      <td>0.336585</td>\n",
       "      <td>1.071512</td>\n",
       "      <td>1.385366</td>\n",
       "      <td>0.754146</td>\n",
       "      <td>2.323902</td>\n",
       "      <td>0.513171</td>\n",
       "    </tr>\n",
       "    <tr>\n",
       "      <th>std</th>\n",
       "      <td>9.072290</td>\n",
       "      <td>0.460373</td>\n",
       "      <td>1.029641</td>\n",
       "      <td>17.516718</td>\n",
       "      <td>51.59251</td>\n",
       "      <td>0.356527</td>\n",
       "      <td>0.527878</td>\n",
       "      <td>23.005724</td>\n",
       "      <td>0.472772</td>\n",
       "      <td>1.175053</td>\n",
       "      <td>0.617755</td>\n",
       "      <td>1.030798</td>\n",
       "      <td>0.620660</td>\n",
       "      <td>0.500070</td>\n",
       "    </tr>\n",
       "    <tr>\n",
       "      <th>min</th>\n",
       "      <td>29.000000</td>\n",
       "      <td>0.000000</td>\n",
       "      <td>0.000000</td>\n",
       "      <td>94.000000</td>\n",
       "      <td>126.00000</td>\n",
       "      <td>0.000000</td>\n",
       "      <td>0.000000</td>\n",
       "      <td>71.000000</td>\n",
       "      <td>0.000000</td>\n",
       "      <td>0.000000</td>\n",
       "      <td>0.000000</td>\n",
       "      <td>0.000000</td>\n",
       "      <td>0.000000</td>\n",
       "      <td>0.000000</td>\n",
       "    </tr>\n",
       "    <tr>\n",
       "      <th>25%</th>\n",
       "      <td>48.000000</td>\n",
       "      <td>0.000000</td>\n",
       "      <td>0.000000</td>\n",
       "      <td>120.000000</td>\n",
       "      <td>211.00000</td>\n",
       "      <td>0.000000</td>\n",
       "      <td>0.000000</td>\n",
       "      <td>132.000000</td>\n",
       "      <td>0.000000</td>\n",
       "      <td>0.000000</td>\n",
       "      <td>1.000000</td>\n",
       "      <td>0.000000</td>\n",
       "      <td>2.000000</td>\n",
       "      <td>0.000000</td>\n",
       "    </tr>\n",
       "    <tr>\n",
       "      <th>50%</th>\n",
       "      <td>56.000000</td>\n",
       "      <td>1.000000</td>\n",
       "      <td>1.000000</td>\n",
       "      <td>130.000000</td>\n",
       "      <td>240.00000</td>\n",
       "      <td>0.000000</td>\n",
       "      <td>1.000000</td>\n",
       "      <td>152.000000</td>\n",
       "      <td>0.000000</td>\n",
       "      <td>0.800000</td>\n",
       "      <td>1.000000</td>\n",
       "      <td>0.000000</td>\n",
       "      <td>2.000000</td>\n",
       "      <td>1.000000</td>\n",
       "    </tr>\n",
       "    <tr>\n",
       "      <th>75%</th>\n",
       "      <td>61.000000</td>\n",
       "      <td>1.000000</td>\n",
       "      <td>2.000000</td>\n",
       "      <td>140.000000</td>\n",
       "      <td>275.00000</td>\n",
       "      <td>0.000000</td>\n",
       "      <td>1.000000</td>\n",
       "      <td>166.000000</td>\n",
       "      <td>1.000000</td>\n",
       "      <td>1.800000</td>\n",
       "      <td>2.000000</td>\n",
       "      <td>1.000000</td>\n",
       "      <td>3.000000</td>\n",
       "      <td>1.000000</td>\n",
       "    </tr>\n",
       "    <tr>\n",
       "      <th>max</th>\n",
       "      <td>77.000000</td>\n",
       "      <td>1.000000</td>\n",
       "      <td>3.000000</td>\n",
       "      <td>200.000000</td>\n",
       "      <td>564.00000</td>\n",
       "      <td>1.000000</td>\n",
       "      <td>2.000000</td>\n",
       "      <td>202.000000</td>\n",
       "      <td>1.000000</td>\n",
       "      <td>6.200000</td>\n",
       "      <td>2.000000</td>\n",
       "      <td>4.000000</td>\n",
       "      <td>3.000000</td>\n",
       "      <td>1.000000</td>\n",
       "    </tr>\n",
       "  </tbody>\n",
       "</table>\n",
       "</div>"
      ],
      "text/plain": [
       "               age          sex           cp     trestbps        chol  \\\n",
       "count  1025.000000  1025.000000  1025.000000  1025.000000  1025.00000   \n",
       "mean     54.434146     0.695610     0.942439   131.611707   246.00000   \n",
       "std       9.072290     0.460373     1.029641    17.516718    51.59251   \n",
       "min      29.000000     0.000000     0.000000    94.000000   126.00000   \n",
       "25%      48.000000     0.000000     0.000000   120.000000   211.00000   \n",
       "50%      56.000000     1.000000     1.000000   130.000000   240.00000   \n",
       "75%      61.000000     1.000000     2.000000   140.000000   275.00000   \n",
       "max      77.000000     1.000000     3.000000   200.000000   564.00000   \n",
       "\n",
       "               fbs      restecg      thalach        exang      oldpeak  \\\n",
       "count  1025.000000  1025.000000  1025.000000  1025.000000  1025.000000   \n",
       "mean      0.149268     0.529756   149.114146     0.336585     1.071512   \n",
       "std       0.356527     0.527878    23.005724     0.472772     1.175053   \n",
       "min       0.000000     0.000000    71.000000     0.000000     0.000000   \n",
       "25%       0.000000     0.000000   132.000000     0.000000     0.000000   \n",
       "50%       0.000000     1.000000   152.000000     0.000000     0.800000   \n",
       "75%       0.000000     1.000000   166.000000     1.000000     1.800000   \n",
       "max       1.000000     2.000000   202.000000     1.000000     6.200000   \n",
       "\n",
       "             slope           ca         thal       target  \n",
       "count  1025.000000  1025.000000  1025.000000  1025.000000  \n",
       "mean      1.385366     0.754146     2.323902     0.513171  \n",
       "std       0.617755     1.030798     0.620660     0.500070  \n",
       "min       0.000000     0.000000     0.000000     0.000000  \n",
       "25%       1.000000     0.000000     2.000000     0.000000  \n",
       "50%       1.000000     0.000000     2.000000     1.000000  \n",
       "75%       2.000000     1.000000     3.000000     1.000000  \n",
       "max       2.000000     4.000000     3.000000     1.000000  "
      ]
     },
     "metadata": {},
     "output_type": "display_data"
    },
    {
     "name": "stdout",
     "output_type": "stream",
     "text": [
      "<class 'pandas.core.frame.DataFrame'>\n",
      "RangeIndex: 1025 entries, 0 to 1024\n",
      "Data columns (total 14 columns):\n",
      " #   Column    Non-Null Count  Dtype  \n",
      "---  ------    --------------  -----  \n",
      " 0   age       1025 non-null   int64  \n",
      " 1   sex       1025 non-null   int64  \n",
      " 2   cp        1025 non-null   int64  \n",
      " 3   trestbps  1025 non-null   int64  \n",
      " 4   chol      1025 non-null   int64  \n",
      " 5   fbs       1025 non-null   int64  \n",
      " 6   restecg   1025 non-null   int64  \n",
      " 7   thalach   1025 non-null   int64  \n",
      " 8   exang     1025 non-null   int64  \n",
      " 9   oldpeak   1025 non-null   float64\n",
      " 10  slope     1025 non-null   int64  \n",
      " 11  ca        1025 non-null   int64  \n",
      " 12  thal      1025 non-null   int64  \n",
      " 13  target    1025 non-null   int64  \n",
      "dtypes: float64(1), int64(13)\n",
      "memory usage: 112.2 KB\n"
     ]
    },
    {
     "data": {
      "text/plain": [
       "None"
      ]
     },
     "metadata": {},
     "output_type": "display_data"
    }
   ],
   "source": [
    "df = pd.read_csv('/kaggle/input/heart-disease-dataset/heart.csv')\n",
    "\n",
    "display(df.head(20))\n",
    "display(df.describe())\n",
    "display(df.info())"
   ]
  },
  {
   "cell_type": "markdown",
   "id": "62bbbfdb",
   "metadata": {
    "papermill": {
     "duration": 0.006837,
     "end_time": "2025-10-21T03:30:06.471485",
     "exception": false,
     "start_time": "2025-10-21T03:30:06.464648",
     "status": "completed"
    },
    "tags": []
   },
   "source": [
    "## 1.1 Mengatasi Data Kosong (*Missing Values*)"
   ]
  },
  {
   "cell_type": "code",
   "execution_count": 4,
   "id": "32ec514a",
   "metadata": {
    "execution": {
     "iopub.execute_input": "2025-10-21T03:30:06.487545Z",
     "iopub.status.busy": "2025-10-21T03:30:06.487196Z",
     "iopub.status.idle": "2025-10-21T03:30:06.495961Z",
     "shell.execute_reply": "2025-10-21T03:30:06.494790Z"
    },
    "papermill": {
     "duration": 0.01859,
     "end_time": "2025-10-21T03:30:06.497585",
     "exception": false,
     "start_time": "2025-10-21T03:30:06.478995",
     "status": "completed"
    },
    "tags": []
   },
   "outputs": [
    {
     "data": {
      "text/plain": [
       "age         0\n",
       "sex         0\n",
       "cp          0\n",
       "trestbps    0\n",
       "chol        0\n",
       "fbs         0\n",
       "restecg     0\n",
       "thalach     0\n",
       "exang       0\n",
       "oldpeak     0\n",
       "slope       0\n",
       "ca          0\n",
       "thal        0\n",
       "target      0\n",
       "dtype: int64"
      ]
     },
     "execution_count": 4,
     "metadata": {},
     "output_type": "execute_result"
    }
   ],
   "source": [
    "df.isnull().sum()"
   ]
  },
  {
   "cell_type": "markdown",
   "id": "68489455",
   "metadata": {
    "papermill": {
     "duration": 0.006527,
     "end_time": "2025-10-21T03:30:06.511642",
     "exception": false,
     "start_time": "2025-10-21T03:30:06.505115",
     "status": "completed"
    },
    "tags": []
   },
   "source": [
    "Berdasarkan pengamatan pada dataset yang ada, tidak ditemukan data yang kosong. Dengan demikian tidak diperlukan proses data imputation yang bertujuan untuk mengisi data kosong."
   ]
  },
  {
   "cell_type": "markdown",
   "id": "3c5d7428",
   "metadata": {
    "papermill": {
     "duration": 0.006443,
     "end_time": "2025-10-21T03:30:06.524839",
     "exception": false,
     "start_time": "2025-10-21T03:30:06.518396",
     "status": "completed"
    },
    "tags": []
   },
   "source": [
    "## 1.2 Membuat 1 Fitur Baru"
   ]
  },
  {
   "cell_type": "code",
   "execution_count": 5,
   "id": "9bb50bfc",
   "metadata": {
    "execution": {
     "iopub.execute_input": "2025-10-21T03:30:06.540945Z",
     "iopub.status.busy": "2025-10-21T03:30:06.540541Z",
     "iopub.status.idle": "2025-10-21T03:30:06.555175Z",
     "shell.execute_reply": "2025-10-21T03:30:06.554178Z"
    },
    "papermill": {
     "duration": 0.024075,
     "end_time": "2025-10-21T03:30:06.556754",
     "exception": false,
     "start_time": "2025-10-21T03:30:06.532679",
     "status": "completed"
    },
    "tags": []
   },
   "outputs": [
    {
     "data": {
      "text/plain": [
       "count     1025.000000\n",
       "mean     13493.590244\n",
       "std       4017.462610\n",
       "min       5916.000000\n",
       "25%      10660.000000\n",
       "50%      13053.000000\n",
       "75%      15860.000000\n",
       "max      37788.000000\n",
       "Name: chol_age, dtype: float64"
      ]
     },
     "metadata": {},
     "output_type": "display_data"
    },
    {
     "name": "stdout",
     "output_type": "stream",
     "text": [
      "\n",
      "\n"
     ]
    },
    {
     "data": {
      "text/plain": [
       "0     11024\n",
       "1     10759\n",
       "2     12180\n",
       "3     12383\n",
       "4     18228\n",
       "5     14384\n",
       "6     18444\n",
       "7     15895\n",
       "8     11454\n",
       "9     15444\n",
       "10    10579\n",
       "11    14663\n",
       "12     7140\n",
       "13    15198\n",
       "14    10608\n",
       "15     7140\n",
       "16    15708\n",
       "17    14364\n",
       "18    12200\n",
       "19    12238\n",
       "Name: chol_age, dtype: int64"
      ]
     },
     "metadata": {},
     "output_type": "display_data"
    }
   ],
   "source": [
    "# add new column [CholAge] (cholesterol * age)\n",
    "df['chol_age'] = df['chol'] * df['age']\n",
    "\n",
    "display(df['chol_age'].describe())\n",
    "print('\\n')\n",
    "display(df['chol_age'].head(20))"
   ]
  },
  {
   "cell_type": "markdown",
   "id": "8afe9ff6",
   "metadata": {
    "papermill": {
     "duration": 0.006695,
     "end_time": "2025-10-21T03:30:06.570849",
     "exception": false,
     "start_time": "2025-10-21T03:30:06.564154",
     "status": "completed"
    },
    "tags": []
   },
   "source": [
    "## 1.3 Normalisasi / Standardisasi"
   ]
  },
  {
   "cell_type": "code",
   "execution_count": 6,
   "id": "e87bb677",
   "metadata": {
    "execution": {
     "iopub.execute_input": "2025-10-21T03:30:06.586659Z",
     "iopub.status.busy": "2025-10-21T03:30:06.586355Z",
     "iopub.status.idle": "2025-10-21T03:30:06.603594Z",
     "shell.execute_reply": "2025-10-21T03:30:06.602476Z"
    },
    "papermill": {
     "duration": 0.027717,
     "end_time": "2025-10-21T03:30:06.605608",
     "exception": false,
     "start_time": "2025-10-21T03:30:06.577891",
     "status": "completed"
    },
    "tags": []
   },
   "outputs": [],
   "source": [
    "num_cols = [\"age\", \"trestbps\", \"chol\", \"thalach\", \"oldpeak\", \"chol_age\"]\n",
    "\n",
    "scaler = StandardScaler()\n",
    "df[num_cols] = scaler.fit_transform(df[num_cols])"
   ]
  },
  {
   "cell_type": "markdown",
   "id": "ae3e43e2",
   "metadata": {
    "papermill": {
     "duration": 0.00674,
     "end_time": "2025-10-21T03:30:06.619613",
     "exception": false,
     "start_time": "2025-10-21T03:30:06.612873",
     "status": "completed"
    },
    "tags": []
   },
   "source": [
    "# 2. Klusterisasi"
   ]
  },
  {
   "cell_type": "markdown",
   "id": "c09bbacc",
   "metadata": {
    "papermill": {
     "duration": 0.006993,
     "end_time": "2025-10-21T03:30:06.634044",
     "exception": false,
     "start_time": "2025-10-21T03:30:06.627051",
     "status": "completed"
    },
    "tags": []
   },
   "source": [
    "## 2.1 k-Means"
   ]
  },
  {
   "cell_type": "markdown",
   "id": "a1712607",
   "metadata": {
    "papermill": {
     "duration": 0.007293,
     "end_time": "2025-10-21T03:30:06.648277",
     "exception": false,
     "start_time": "2025-10-21T03:30:06.640984",
     "status": "completed"
    },
    "tags": []
   },
   "source": [
    "### 2.1.1 Menemukan nilai k terbaik\n",
    "\n",
    "Untuk melakukan proses k-Means, perlu ditentukan nilai k yang paling terbaik. Metode yang bisa dilakukan adalah melalui **Elbow method** dan juga **Silhouette score**."
   ]
  },
  {
   "cell_type": "markdown",
   "id": "52c9628f",
   "metadata": {
    "papermill": {
     "duration": 0.007588,
     "end_time": "2025-10-21T03:30:06.663014",
     "exception": false,
     "start_time": "2025-10-21T03:30:06.655426",
     "status": "completed"
    },
    "tags": []
   },
   "source": [
    "#### 2.1.1.1 Elbow method"
   ]
  },
  {
   "cell_type": "code",
   "execution_count": 7,
   "id": "e9d77a55",
   "metadata": {
    "execution": {
     "iopub.execute_input": "2025-10-21T03:30:06.679152Z",
     "iopub.status.busy": "2025-10-21T03:30:06.678771Z",
     "iopub.status.idle": "2025-10-21T03:30:08.148678Z",
     "shell.execute_reply": "2025-10-21T03:30:08.147677Z"
    },
    "papermill": {
     "duration": 1.479833,
     "end_time": "2025-10-21T03:30:08.150526",
     "exception": false,
     "start_time": "2025-10-21T03:30:06.670693",
     "status": "completed"
    },
    "tags": []
   },
   "outputs": [
    {
     "name": "stdout",
     "output_type": "stream",
     "text": [
      "k=1, inertia=10226.3785\n",
      "k=2, inertia=8240.6847\n",
      "k=3, inertia=7394.5221\n",
      "k=4, inertia=6923.2949\n",
      "k=5, inertia=6508.9218\n",
      "k=6, inertia=6163.7421\n",
      "k=7, inertia=5889.9304\n",
      "k=8, inertia=5722.2563\n",
      "k=9, inertia=5482.7010\n",
      "k=10, inertia=5331.9870\n",
      "k=11, inertia=5149.5627\n",
      "k=12, inertia=5031.2539\n",
      "k=13, inertia=4877.2206\n",
      "k=14, inertia=4758.2343\n",
      "k=15, inertia=4641.1436\n",
      "k=16, inertia=4614.3871\n",
      "k=17, inertia=4492.3137\n",
      "k=18, inertia=4394.7379\n",
      "k=19, inertia=4305.2476\n"
     ]
    },
    {
     "data": {
      "image/png": "[encoded data removed]",
      "text/plain": [
       "<Figure size 640x480 with 1 Axes>"
      ]
     },
     "metadata": {},
     "output_type": "display_data"
    }
   ],
   "source": [
    "wcss = []\n",
    "K = range(1, 20)\n",
    "\n",
    "for k in K:\n",
    "    kmeans = KMeans(n_clusters=k, random_state=RANDOM_SEED)\n",
    "    kmeans.fit(df)\n",
    "    inertia = kmeans.inertia_ # inertia_ = WCSS\n",
    "    print(f\"k={k}, inertia={inertia:.4f}\")\n",
    "    wcss.append(inertia)  \n",
    "\n",
    "# Plot the elbow\n",
    "plt.plot(K, wcss, 'bo-')\n",
    "plt.xlabel('Number of clusters (k)')\n",
    "plt.ylabel('WCSS (Inertia)')\n",
    "plt.title('Elbow Method for Optimal k')\n",
    "plt.show()"
   ]
  },
  {
   "cell_type": "markdown",
   "id": "19cf4cb9",
   "metadata": {
    "papermill": {
     "duration": 0.008214,
     "end_time": "2025-10-21T03:30:08.167366",
     "exception": false,
     "start_time": "2025-10-21T03:30:08.159152",
     "status": "completed"
    },
    "tags": []
   },
   "source": [
    "Dengan menggunakan elbow method di atas, grafik cenderung kondisi yang terus menurun setelah nilai `k=2`. Dengan demikian, nilai `k` yang paling baik adalah pada `k=2`."
   ]
  },
  {
   "cell_type": "markdown",
   "id": "73f0a159",
   "metadata": {
    "papermill": {
     "duration": 0.007528,
     "end_time": "2025-10-21T03:30:08.182727",
     "exception": false,
     "start_time": "2025-10-21T03:30:08.175199",
     "status": "completed"
    },
    "tags": []
   },
   "source": [
    "#### 2.1.1.2 Silhouette score"
   ]
  },
  {
   "cell_type": "code",
   "execution_count": 8,
   "id": "582db95d",
   "metadata": {
    "execution": {
     "iopub.execute_input": "2025-10-21T03:30:08.202984Z",
     "iopub.status.busy": "2025-10-21T03:30:08.202530Z",
     "iopub.status.idle": "2025-10-21T03:30:10.132614Z",
     "shell.execute_reply": "2025-10-21T03:30:10.131426Z"
    },
    "papermill": {
     "duration": 1.942464,
     "end_time": "2025-10-21T03:30:10.134740",
     "exception": false,
     "start_time": "2025-10-21T03:30:08.192276",
     "status": "completed"
    },
    "tags": []
   },
   "outputs": [
    {
     "name": "stdout",
     "output_type": "stream",
     "text": [
      "k=2, silhouette score=0.1847\n",
      "k=3, silhouette score=0.1688\n",
      "k=4, silhouette score=0.1375\n",
      "k=5, silhouette score=0.1313\n",
      "k=6, silhouette score=0.1417\n",
      "k=7, silhouette score=0.1335\n",
      "k=8, silhouette score=0.1223\n",
      "k=9, silhouette score=0.1267\n",
      "k=10, silhouette score=0.1234\n",
      "k=11, silhouette score=0.1342\n",
      "k=12, silhouette score=0.1351\n",
      "k=13, silhouette score=0.1337\n",
      "k=14, silhouette score=0.1365\n",
      "k=15, silhouette score=0.1445\n",
      "k=16, silhouette score=0.1317\n",
      "k=17, silhouette score=0.1418\n",
      "k=18, silhouette score=0.1366\n",
      "k=19, silhouette score=0.1528\n"
     ]
    },
    {
     "data": {
      "image/png": "[encoded data removed]",
      "text/plain": [
       "<Figure size 640x480 with 1 Axes>"
      ]
     },
     "metadata": {},
     "output_type": "display_data"
    }
   ],
   "source": [
    "s_scores = []\n",
    "K = range(2, 20)\n",
    "\n",
    "for k in K:\n",
    "    kmeans = KMeans(n_clusters=k, random_state=RANDOM_SEED)\n",
    "    labels = kmeans.fit_predict(df)\n",
    "    score = silhouette_score(df, labels)\n",
    "    print(f\"k={k}, silhouette score={score:.4f}\")\n",
    "    s_scores.append(score)\n",
    "    \n",
    "# Plot\n",
    "plt.plot(K, s_scores, 'bo-')\n",
    "plt.xlabel('Number of clusters (k)')\n",
    "plt.ylabel('Silhouette Score')\n",
    "plt.title('Silhouette Method for Optimal k')\n",
    "plt.show()"
   ]
  },
  {
   "cell_type": "markdown",
   "id": "c3a838b5",
   "metadata": {
    "papermill": {
     "duration": 0.008911,
     "end_time": "2025-10-21T03:30:10.152956",
     "exception": false,
     "start_time": "2025-10-21T03:30:10.144045",
     "status": "completed"
    },
    "tags": []
   },
   "source": [
    "Berdassarkan metode yang dilakukan dari elbow method, nilai k terbaik terletak pada `k=2`. Pada `k=2`, didapatkan nilai silhouette score tertinggi ($0.1847$)"
   ]
  },
  {
   "cell_type": "markdown",
   "id": "21fd9378",
   "metadata": {
    "papermill": {
     "duration": 0.008499,
     "end_time": "2025-10-21T03:30:10.170372",
     "exception": false,
     "start_time": "2025-10-21T03:30:10.161873",
     "status": "completed"
    },
    "tags": []
   },
   "source": [
    "### 2.1.2 Model training\n",
    "\n",
    "Proses training dilakukan dengan memanfaatkan library dari library **Scikit-learn** pada modul `sklearn.cluster`. Untuk menggunakannya, maka bisa menambahkan parameter `n_clusters` dengan nilai `2` yang didapat dari proses penentuan `k` sebelumnya (elbow method dan juga silhouette score)."
   ]
  },
  {
   "cell_type": "code",
   "execution_count": 9,
   "id": "e477c81a",
   "metadata": {
    "execution": {
     "iopub.execute_input": "2025-10-21T03:30:10.190616Z",
     "iopub.status.busy": "2025-10-21T03:30:10.190138Z",
     "iopub.status.idle": "2025-10-21T03:30:10.232877Z",
     "shell.execute_reply": "2025-10-21T03:30:10.231884Z"
    },
    "papermill": {
     "duration": 0.05847,
     "end_time": "2025-10-21T03:30:10.238032",
     "exception": false,
     "start_time": "2025-10-21T03:30:10.179562",
     "status": "completed"
    },
    "tags": []
   },
   "outputs": [
    {
     "data": {
      "text/plain": [
       "array([0, 1, 1, ..., 1, 0, 0], dtype=int32)"
      ]
     },
     "execution_count": 9,
     "metadata": {},
     "output_type": "execute_result"
    }
   ],
   "source": [
    "kmeans = KMeans(n_clusters=2, random_state=RANDOM_SEED)\n",
    "kmeans_labels = kmeans.fit_predict(df)\n",
    "\n",
    "kmeans_labels"
   ]
  },
  {
   "cell_type": "markdown",
   "id": "175d5fde",
   "metadata": {
    "papermill": {
     "duration": 0.008935,
     "end_time": "2025-10-21T03:30:10.258960",
     "exception": false,
     "start_time": "2025-10-21T03:30:10.250025",
     "status": "completed"
    },
    "tags": []
   },
   "source": [
    "### 2.1.3 Visualisasi"
   ]
  },
  {
   "cell_type": "code",
   "execution_count": 10,
   "id": "0dcf475a",
   "metadata": {
    "execution": {
     "iopub.execute_input": "2025-10-21T03:30:10.278970Z",
     "iopub.status.busy": "2025-10-21T03:30:10.278521Z",
     "iopub.status.idle": "2025-10-21T03:30:10.483922Z",
     "shell.execute_reply": "2025-10-21T03:30:10.482804Z"
    },
    "papermill": {
     "duration": 0.217543,
     "end_time": "2025-10-21T03:30:10.485590",
     "exception": false,
     "start_time": "2025-10-21T03:30:10.268047",
     "status": "completed"
    },
    "tags": []
   },
   "outputs": [
    {
     "data": {
      "image/png": "[encoded data removed]",
      "text/plain": [
       "<Figure size 640x480 with 1 Axes>"
      ]
     },
     "metadata": {},
     "output_type": "display_data"
    }
   ],
   "source": [
    "pca = PCA(n_components=2)\n",
    "reduced = pca.fit_transform(df)\n",
    "\n",
    "plt.scatter(\n",
    "    reduced[:, 0], \n",
    "    reduced[:, 1], \n",
    "    c=kmeans_labels, \n",
    "    cmap='viridis', \n",
    "    s=1\n",
    ")\n",
    "plt.title(\"K-Means Clustering Visualization (PCA-reduced)\")\n",
    "plt.show()"
   ]
  },
  {
   "cell_type": "markdown",
   "id": "15decf8c",
   "metadata": {
    "papermill": {
     "duration": 0.009365,
     "end_time": "2025-10-21T03:30:10.504962",
     "exception": false,
     "start_time": "2025-10-21T03:30:10.495597",
     "status": "completed"
    },
    "tags": []
   },
   "source": [
    "## 2.2 DBSCAN"
   ]
  },
  {
   "cell_type": "markdown",
   "id": "2dc7bf37",
   "metadata": {
    "papermill": {
     "duration": 0.009551,
     "end_time": "2025-10-21T03:30:10.524046",
     "exception": false,
     "start_time": "2025-10-21T03:30:10.514495",
     "status": "completed"
    },
    "tags": []
   },
   "source": [
    "### 2.2.1 Konfigurasi Awal DBSCAN"
   ]
  },
  {
   "cell_type": "code",
   "execution_count": 11,
   "id": "01ccff24",
   "metadata": {
    "execution": {
     "iopub.execute_input": "2025-10-21T03:30:10.544740Z",
     "iopub.status.busy": "2025-10-21T03:30:10.544344Z",
     "iopub.status.idle": "2025-10-21T03:30:10.749498Z",
     "shell.execute_reply": "2025-10-21T03:30:10.748152Z"
    },
    "papermill": {
     "duration": 0.217729,
     "end_time": "2025-10-21T03:30:10.751370",
     "exception": false,
     "start_time": "2025-10-21T03:30:10.533641",
     "status": "completed"
    },
    "tags": []
   },
   "outputs": [
    {
     "data": {
      "image/png": "[encoded data removed]",
      "text/plain": [
       "<Figure size 640x480 with 1 Axes>"
      ]
     },
     "metadata": {},
     "output_type": "display_data"
    }
   ],
   "source": [
    "neigh = NearestNeighbors(n_neighbors=5)\n",
    "nbrs = neigh.fit(df)\n",
    "distances, indices = nbrs.kneighbors(df)\n",
    "\n",
    "distances = np.sort(distances[:, 4])\n",
    "\n",
    "# Plot\n",
    "plt.plot(distances)\n",
    "plt.ylabel(\"5th Nearest Neighbor Distance\")\n",
    "plt.xlabel(\"Points sorted by distance\")\n",
    "plt.title(\"Find epsilon\")\n",
    "plt.show()"
   ]
  },
  {
   "cell_type": "markdown",
   "id": "73b1377a",
   "metadata": {
    "papermill": {
     "duration": 0.0099,
     "end_time": "2025-10-21T03:30:10.771454",
     "exception": false,
     "start_time": "2025-10-21T03:30:10.761554",
     "status": "completed"
    },
    "tags": []
   },
   "source": [
    "### 2.2.2 Model training"
   ]
  },
  {
   "cell_type": "code",
   "execution_count": 12,
   "id": "19be0870",
   "metadata": {
    "execution": {
     "iopub.execute_input": "2025-10-21T03:30:10.793601Z",
     "iopub.status.busy": "2025-10-21T03:30:10.793242Z",
     "iopub.status.idle": "2025-10-21T03:30:10.860030Z",
     "shell.execute_reply": "2025-10-21T03:30:10.858944Z"
    },
    "papermill": {
     "duration": 0.080318,
     "end_time": "2025-10-21T03:30:10.861820",
     "exception": false,
     "start_time": "2025-10-21T03:30:10.781502",
     "status": "completed"
    },
    "tags": []
   },
   "outputs": [
    {
     "data": {
      "text/plain": [
       "array([ 0, -1, -1, ...,  0,  0,  2])"
      ]
     },
     "execution_count": 12,
     "metadata": {},
     "output_type": "execute_result"
    }
   ],
   "source": [
    "dbscan = DBSCAN(eps=2, min_samples=5)\n",
    "dbscan_labels = dbscan.fit_predict(df)\n",
    "\n",
    "dbscan_labels"
   ]
  },
  {
   "cell_type": "code",
   "execution_count": 13,
   "id": "40ff55d3",
   "metadata": {
    "execution": {
     "iopub.execute_input": "2025-10-21T03:30:10.885288Z",
     "iopub.status.busy": "2025-10-21T03:30:10.884972Z",
     "iopub.status.idle": "2025-10-21T03:30:10.913741Z",
     "shell.execute_reply": "2025-10-21T03:30:10.912117Z"
    },
    "papermill": {
     "duration": 0.042536,
     "end_time": "2025-10-21T03:30:10.915459",
     "exception": false,
     "start_time": "2025-10-21T03:30:10.872923",
     "status": "completed"
    },
    "tags": []
   },
   "outputs": [
    {
     "name": "stdout",
     "output_type": "stream",
     "text": [
      "Silhouette Score (DBSCAN): -0.10080887717235802\n"
     ]
    }
   ],
   "source": [
    "score = silhouette_score(df, dbscan_labels)\n",
    "print(\"Silhouette Score (DBSCAN):\", score)"
   ]
  },
  {
   "cell_type": "markdown",
   "id": "5e5bdc04",
   "metadata": {
    "papermill": {
     "duration": 0.009819,
     "end_time": "2025-10-21T03:30:10.936923",
     "exception": false,
     "start_time": "2025-10-21T03:30:10.927104",
     "status": "completed"
    },
    "tags": []
   },
   "source": [
    "### 2.2.3 Visualisasi"
   ]
  },
  {
   "cell_type": "code",
   "execution_count": 14,
   "id": "14d63a60",
   "metadata": {
    "execution": {
     "iopub.execute_input": "2025-10-21T03:30:10.961768Z",
     "iopub.status.busy": "2025-10-21T03:30:10.960870Z",
     "iopub.status.idle": "2025-10-21T03:30:11.254855Z",
     "shell.execute_reply": "2025-10-21T03:30:11.253776Z"
    },
    "papermill": {
     "duration": 0.307566,
     "end_time": "2025-10-21T03:30:11.256670",
     "exception": false,
     "start_time": "2025-10-21T03:30:10.949104",
     "status": "completed"
    },
    "tags": []
   },
   "outputs": [
    {
     "data": {
      "image/png": "[encoded data removed]",
      "text/plain": [
       "<Figure size 800x600 with 2 Axes>"
      ]
     },
     "metadata": {},
     "output_type": "display_data"
    }
   ],
   "source": [
    "pca_2d = PCA(n_components=2)\n",
    "reduced_2d = pca_2d.fit_transform(df)\n",
    "\n",
    "# 2D Plot\n",
    "plt.figure(figsize=(8, 6))\n",
    "plt.scatter(\n",
    "    reduced_2d[:, 0], reduced_2d[:, 1],\n",
    "    c=dbscan_labels,\n",
    "    cmap='viridis',\n",
    "    s=5\n",
    ")\n",
    "plt.title(\"DBSCAN Clustering Visualization\")\n",
    "plt.colorbar(label='Cluster Label')\n",
    "plt.show()"
   ]
  },
  {
   "cell_type": "markdown",
   "id": "b0d87586",
   "metadata": {
    "papermill": {
     "duration": 0.011432,
     "end_time": "2025-10-21T03:30:11.279900",
     "exception": false,
     "start_time": "2025-10-21T03:30:11.268468",
     "status": "completed"
    },
    "tags": []
   },
   "source": [
    "## 2.3 Perbandingan Hasil"
   ]
  },
  {
   "cell_type": "code",
   "execution_count": 15,
   "id": "1e7b8608",
   "metadata": {
    "execution": {
     "iopub.execute_input": "2025-10-21T03:30:11.305748Z",
     "iopub.status.busy": "2025-10-21T03:30:11.305215Z",
     "iopub.status.idle": "2025-10-21T03:30:11.369820Z",
     "shell.execute_reply": "2025-10-21T03:30:11.368112Z"
    },
    "papermill": {
     "duration": 0.079405,
     "end_time": "2025-10-21T03:30:11.371405",
     "exception": false,
     "start_time": "2025-10-21T03:30:11.292000",
     "status": "completed"
    },
    "tags": []
   },
   "outputs": [
    {
     "name": "stdout",
     "output_type": "stream",
     "text": [
      "K-Means  → Silhouette: 0.185, DBI: 1.969\n",
      "DBSCAN   → Silhouette: -0.10080887717235802, DBI: 1.9131822947938804\n"
     ]
    }
   ],
   "source": [
    "sil_kmeans = silhouette_score(df, kmeans_labels)\n",
    "dbi_kmeans = davies_bouldin_score(df, kmeans_labels)\n",
    "\n",
    "sil_dbscan = silhouette_score(df, dbscan_labels) if len(set(dbscan_labels)) > 1 else None\n",
    "dbi_dbscan = davies_bouldin_score(df, dbscan_labels) if len(set(dbscan_labels)) > 1 else None\n",
    "\n",
    "print(f\"K-Means  → Silhouette: {sil_kmeans:.3f}, DBI: {dbi_kmeans:.3f}\")\n",
    "print(f\"DBSCAN   → Silhouette: {sil_dbscan}, DBI: {dbi_dbscan}\")"
   ]
  },
  {
   "cell_type": "markdown",
   "id": "8db5d620",
   "metadata": {
    "papermill": {
     "duration": 0.011361,
     "end_time": "2025-10-21T03:30:11.396976",
     "exception": false,
     "start_time": "2025-10-21T03:30:11.385615",
     "status": "completed"
    },
    "tags": []
   },
   "source": [
    "# 3. Analisis"
   ]
  },
  {
   "cell_type": "markdown",
   "id": "71dac56e",
   "metadata": {
    "papermill": {
     "duration": 0.011262,
     "end_time": "2025-10-21T03:30:11.419774",
     "exception": false,
     "start_time": "2025-10-21T03:30:11.408512",
     "status": "completed"
    },
    "tags": []
   },
   "source": [
    "Berdasarkan hasil dari metode **K-Means**, diperoleh nilai **silhouette score sebesar 0.185**, yang mendekati nol. Hal ini menunjukkan bahwa memang terdapat klaster, namun batas antar klaster saling tumpang tindih secara signifikan, yang berarti pemisahan antar klaster masih lemah.\n",
    "\n",
    "Untuk **Davies–Bouldin Index (DBI)**, metode K-Means memiliki nilai **1.969**, yang mengindikasikan bahwa pemisahan antara klaster yang berbeda masih kurang baik.\n",
    "\n",
    "Sementara itu, pada metode **DBSCAN**, diperoleh **silhouette score sebesar -0.10**, yang bernilai negatif. Ini berarti banyak titik kemungkinan ditempatkan pada klaster yang salah atau klaster yang terbentuk tidak terstruktur dengan baik. Nilai **DBI untuk DBSCAN adalah 1.913**, yang mirip dengan K-Means, dan juga menunjukkan bahwa pemisahan antar klaster masih kurang baik.\n"
   ]
  },
  {
   "cell_type": "markdown",
   "id": "235ed09d",
   "metadata": {
    "papermill": {
     "duration": 0.011218,
     "end_time": "2025-10-21T03:30:11.442281",
     "exception": false,
     "start_time": "2025-10-21T03:30:11.431063",
     "status": "completed"
    },
    "tags": []
   },
   "source": [
    "# 4. ANN (Approximate Nearest Neighbor)"
   ]
  },
  {
   "cell_type": "code",
   "execution_count": 16,
   "id": "1e9be177",
   "metadata": {
    "execution": {
     "iopub.execute_input": "2025-10-21T03:30:11.466531Z",
     "iopub.status.busy": "2025-10-21T03:30:11.466177Z",
     "iopub.status.idle": "2025-10-21T03:30:11.484299Z",
     "shell.execute_reply": "2025-10-21T03:30:11.483275Z"
    },
    "papermill": {
     "duration": 0.032769,
     "end_time": "2025-10-21T03:30:11.486350",
     "exception": false,
     "start_time": "2025-10-21T03:30:11.453581",
     "status": "completed"
    },
    "tags": []
   },
   "outputs": [
    {
     "data": {
      "text/plain": [
       "True"
      ]
     },
     "execution_count": 16,
     "metadata": {},
     "output_type": "execute_result"
    }
   ],
   "source": [
    "f = df.shape[1]  # number of features\n",
    "index = AnnoyIndex(f, 'euclidean')  # or 'angular'\n",
    "\n",
    "# Add each vector into the index\n",
    "for i, vector in enumerate(df.values):\n",
    "    index.add_item(i, vector)\n",
    "\n",
    "# Build the forest\n",
    "index.build(10)  # number of trees (higher = more accurate, slower)"
   ]
  },
  {
   "cell_type": "code",
   "execution_count": 17,
   "id": "70e24409",
   "metadata": {
    "execution": {
     "iopub.execute_input": "2025-10-21T03:30:11.511636Z",
     "iopub.status.busy": "2025-10-21T03:30:11.511323Z",
     "iopub.status.idle": "2025-10-21T03:30:11.518012Z",
     "shell.execute_reply": "2025-10-21T03:30:11.516817Z"
    },
    "papermill": {
     "duration": 0.021271,
     "end_time": "2025-10-21T03:30:11.519919",
     "exception": false,
     "start_time": "2025-10-21T03:30:11.498648",
     "status": "completed"
    },
    "tags": []
   },
   "outputs": [
    {
     "name": "stdout",
     "output_type": "stream",
     "text": [
      "Query index: 10\n",
      "Nearest neighbors: [10, 401, 500, 648, 643]\n",
      "Distances: [0.0, 0.0, 0.0, 0.0, 2.3375353813171387]\n"
     ]
    }
   ],
   "source": [
    "query_index = 10\n",
    "k = 5 \n",
    "\n",
    "neighbors, distances = index.get_nns_by_item(\n",
    "    query_index,\n",
    "    k,\n",
    "    include_distances=True\n",
    ")\n",
    "\n",
    "print(\"Query index:\", query_index)\n",
    "print(\"Nearest neighbors:\", neighbors)\n",
    "print(\"Distances:\", distances)"
   ]
  },
  {
   "cell_type": "markdown",
   "id": "1575311e",
   "metadata": {
    "papermill": {
     "duration": 0.011319,
     "end_time": "2025-10-21T03:30:11.543598",
     "exception": false,
     "start_time": "2025-10-21T03:30:11.532279",
     "status": "completed"
    },
    "tags": []
   },
   "source": [
    "# 5. Kesimpulan"
   ]
  },
  {
   "cell_type": "markdown",
   "id": "d4f18ab6",
   "metadata": {
    "papermill": {
     "duration": 0.013169,
     "end_time": "2025-10-21T03:30:11.569014",
     "exception": false,
     "start_time": "2025-10-21T03:30:11.555845",
     "status": "completed"
    },
    "tags": []
   },
   "source": [
    "Berdasarkan serangkaian percobaan yang telah dilakukan menggunakan metode K-Means, DBSCAN, dan Approximate Nearest Neighbor (ANN) pada dataset Heart Disease, dapat disimpulkan bahwa metode K-Means memberikan hasil klasterisasi yang relatif lebih baik dibandingkan dengan DBSCAN. Hal ini ditunjukkan oleh nilai Silhouette Score sebesar $0.185$. Walaupun mendekati nol, nilai tersebut tetap menunjukkan adanya struktur klaster yang terbentuk, meskipun dengan batas antarklaster yang lemah.\n",
    "\n",
    "Sebaliknya, metode DBSCAN memperoleh Silhouette Score negatif ($-0.10$). Nilai negatif ini menandakan adanya kesalahan penempatan titik dalam klaster atau terbentuknya klaster yang tidak terstruktur dengan baik. Meskipun demikian, nilai Davies–Bouldin Index ($1.913$) sedikit lebih baik daripada K-Means ($1.969$).\n",
    "\n",
    "Sementara itu, hasil dari metode ANN menunjukkan bahwa titik dengan indeks 10 memiliki beberapa tetangga dengan jarak yang sangat kecil bahkan nol. Hal ini mengindikasikan adanya kemiripan fitur yang kuat di antara data tersebut. Namun, untuk memastikan apakah tetangga-tetangga tersebut berada dalam klaster yang sama, diperlukan pengecekan lebih lanjut terhadap label klaster hasil K-Means atau DBSCAN.\n",
    "\n",
    "Secara keseluruhan, K-Means masih menjadi metode yang paling stabil dan konsisten dalam kasus ini. Sementara itu, DBSCAN dan ANN dapat berfungsi sebagai pembanding atau pendukung dalam analisis kemiripan data dan validasi struktur klaster."
   ]
  }
 ],
 "metadata": {
  "kaggle": {
   "accelerator": "none",
   "dataSources": [
    {
     "datasetId": 216167,
     "sourceId": 477177,
     "sourceType": "datasetVersion"
    }
   ],
   "dockerImageVersionId": 31153,
   "isGpuEnabled": false,
   "isInternetEnabled": true,
   "language": "python",
   "sourceType": "notebook"
  },
  "kernelspec": {
   "display_name": "Python 3",
   "language": "python",
   "name": "python3"
  },
  "language_info": {
   "codemirror_mode": {
    "name": "ipython",
    "version": 3
   },
   "file_extension": ".py",
   "mimetype": "text/x-python",
   "name": "python",
   "nbconvert_exporter": "python",
   "pygments_lexer": "ipython3",
   "version": "3.11.13"
  },
  "papermill": {
   "default_parameters": {},
   "duration": 15.8196,
   "end_time": "2025-10-21T03:30:12.303085",
   "environment_variables": {},
   "exception": null,
   "input_path": "__notebook__.ipynb",
   "output_path": "__notebook__.ipynb",
   "parameters": {},
   "start_time": "2025-10-21T03:29:56.483485",
   "version": "2.6.0"
  }
 },
 "nbformat": 4,
 "nbformat_minor": 5
}
