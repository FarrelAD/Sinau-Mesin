{
 "cells": [
  {
   "cell_type": "markdown",
   "id": "a6d25937",
   "metadata": {
    "papermill": {
     "duration": 0.008411,
     "end_time": "2025-10-21T09:12:14.385875",
     "exception": false,
     "start_time": "2025-10-21T09:12:14.377464",
     "status": "completed"
    },
    "tags": []
   },
   "source": [
    "| | |\n",
    "| -- | -- |\n",
    "| **Nama** | Farrel Augusta Dinata |\n",
    "| **Kelas** | TI-3H |\n",
    "| **NIM** | 2341720081 |\n",
    "| **No. Absen** | 12 |"
   ]
  },
  {
   "cell_type": "markdown",
   "id": "64173b3b",
   "metadata": {
    "papermill": {
     "duration": 0.006835,
     "end_time": "2025-10-21T09:12:14.400232",
     "exception": false,
     "start_time": "2025-10-21T09:12:14.393397",
     "status": "completed"
    },
    "tags": []
   },
   "source": [
    "# Persiapan"
   ]
  },
  {
   "cell_type": "code",
   "execution_count": 1,
   "id": "222ada9b",
   "metadata": {
    "execution": {
     "iopub.execute_input": "2025-10-21T09:12:14.415645Z",
     "iopub.status.busy": "2025-10-21T09:12:14.415324Z",
     "iopub.status.idle": "2025-10-21T09:12:19.742553Z",
     "shell.execute_reply": "2025-10-21T09:12:19.741117Z"
    },
    "papermill": {
     "duration": 5.337046,
     "end_time": "2025-10-21T09:12:19.744349",
     "exception": false,
     "start_time": "2025-10-21T09:12:14.407303",
     "status": "completed"
    },
    "tags": []
   },
   "outputs": [],
   "source": [
    "!pip install kneed -q"
   ]
  },
  {
   "cell_type": "code",
   "execution_count": 2,
   "id": "d707153c",
   "metadata": {
    "execution": {
     "iopub.execute_input": "2025-10-21T09:12:19.761263Z",
     "iopub.status.busy": "2025-10-21T09:12:19.760887Z",
     "iopub.status.idle": "2025-10-21T09:12:24.589387Z",
     "shell.execute_reply": "2025-10-21T09:12:24.588448Z"
    },
    "papermill": {
     "duration": 4.839221,
     "end_time": "2025-10-21T09:12:24.591157",
     "exception": false,
     "start_time": "2025-10-21T09:12:19.751936",
     "status": "completed"
    },
    "tags": []
   },
   "outputs": [],
   "source": [
    "import pandas as pd\n",
    "import numpy as np\n",
    "import random\n",
    "from sklearn.cluster import KMeans, DBSCAN\n",
    "from sklearn.metrics import silhouette_score, davies_bouldin_score, accuracy_score\n",
    "from sklearn.decomposition import PCA\n",
    "from sklearn.neighbors import NearestNeighbors\n",
    "from sklearn.preprocessing import StandardScaler\n",
    "import matplotlib.pyplot as plt\n",
    "import seaborn as sns\n",
    "from annoy import AnnoyIndex\n",
    "from kneed import KneeLocator\n",
    "from IPython.display import display\n",
    "\n",
    "import warnings\n",
    "warnings.filterwarnings('ignore')"
   ]
  },
  {
   "cell_type": "code",
   "execution_count": 3,
   "id": "6aa06b46",
   "metadata": {
    "execution": {
     "iopub.execute_input": "2025-10-21T09:12:24.607635Z",
     "iopub.status.busy": "2025-10-21T09:12:24.607113Z",
     "iopub.status.idle": "2025-10-21T09:12:24.611803Z",
     "shell.execute_reply": "2025-10-21T09:12:24.611001Z"
    },
    "papermill": {
     "duration": 0.014803,
     "end_time": "2025-10-21T09:12:24.613293",
     "exception": false,
     "start_time": "2025-10-21T09:12:24.598490",
     "status": "completed"
    },
    "tags": []
   },
   "outputs": [],
   "source": [
    "# setup random seed\n",
    "\n",
    "RANDOM_SEED = 24\n",
    "random.seed(RANDOM_SEED)\n",
    "np.random.seed(RANDOM_SEED)"
   ]
  },
  {
   "cell_type": "markdown",
   "id": "75966e80",
   "metadata": {
    "papermill": {
     "duration": 0.00705,
     "end_time": "2025-10-21T09:12:24.627626",
     "exception": false,
     "start_time": "2025-10-21T09:12:24.620576",
     "status": "completed"
    },
    "tags": []
   },
   "source": [
    "# 1. Data Preprocessing"
   ]
  },
  {
   "cell_type": "code",
   "execution_count": 4,
   "id": "82c48115",
   "metadata": {
    "execution": {
     "iopub.execute_input": "2025-10-21T09:12:24.643927Z",
     "iopub.status.busy": "2025-10-21T09:12:24.643589Z",
     "iopub.status.idle": "2025-10-21T09:12:24.749145Z",
     "shell.execute_reply": "2025-10-21T09:12:24.748143Z"
    },
    "papermill": {
     "duration": 0.115377,
     "end_time": "2025-10-21T09:12:24.750471",
     "exception": false,
     "start_time": "2025-10-21T09:12:24.635094",
     "status": "completed"
    },
    "tags": []
   },
   "outputs": [
    {
     "data": {
      "text/html": [
       "<div>\n",
       "<style scoped>\n",
       "    .dataframe tbody tr th:only-of-type {\n",
       "        vertical-align: middle;\n",
       "    }\n",
       "\n",
       "    .dataframe tbody tr th {\n",
       "        vertical-align: top;\n",
       "    }\n",
       "\n",
       "    .dataframe thead th {\n",
       "        text-align: right;\n",
       "    }\n",
       "</style>\n",
       "<table border=\"1\" class=\"dataframe\">\n",
       "  <thead>\n",
       "    <tr style=\"text-align: right;\">\n",
       "      <th></th>\n",
       "      <th>age</th>\n",
       "      <th>sex</th>\n",
       "      <th>cp</th>\n",
       "      <th>trestbps</th>\n",
       "      <th>chol</th>\n",
       "      <th>fbs</th>\n",
       "      <th>restecg</th>\n",
       "      <th>thalach</th>\n",
       "      <th>exang</th>\n",
       "      <th>oldpeak</th>\n",
       "      <th>slope</th>\n",
       "      <th>ca</th>\n",
       "      <th>thal</th>\n",
       "      <th>target</th>\n",
       "    </tr>\n",
       "  </thead>\n",
       "  <tbody>\n",
       "    <tr>\n",
       "      <th>0</th>\n",
       "      <td>52</td>\n",
       "      <td>1</td>\n",
       "      <td>0</td>\n",
       "      <td>125</td>\n",
       "      <td>212</td>\n",
       "      <td>0</td>\n",
       "      <td>1</td>\n",
       "      <td>168</td>\n",
       "      <td>0</td>\n",
       "      <td>1.0</td>\n",
       "      <td>2</td>\n",
       "      <td>2</td>\n",
       "      <td>3</td>\n",
       "      <td>0</td>\n",
       "    </tr>\n",
       "    <tr>\n",
       "      <th>1</th>\n",
       "      <td>53</td>\n",
       "      <td>1</td>\n",
       "      <td>0</td>\n",
       "      <td>140</td>\n",
       "      <td>203</td>\n",
       "      <td>1</td>\n",
       "      <td>0</td>\n",
       "      <td>155</td>\n",
       "      <td>1</td>\n",
       "      <td>3.1</td>\n",
       "      <td>0</td>\n",
       "      <td>0</td>\n",
       "      <td>3</td>\n",
       "      <td>0</td>\n",
       "    </tr>\n",
       "    <tr>\n",
       "      <th>2</th>\n",
       "      <td>70</td>\n",
       "      <td>1</td>\n",
       "      <td>0</td>\n",
       "      <td>145</td>\n",
       "      <td>174</td>\n",
       "      <td>0</td>\n",
       "      <td>1</td>\n",
       "      <td>125</td>\n",
       "      <td>1</td>\n",
       "      <td>2.6</td>\n",
       "      <td>0</td>\n",
       "      <td>0</td>\n",
       "      <td>3</td>\n",
       "      <td>0</td>\n",
       "    </tr>\n",
       "    <tr>\n",
       "      <th>3</th>\n",
       "      <td>61</td>\n",
       "      <td>1</td>\n",
       "      <td>0</td>\n",
       "      <td>148</td>\n",
       "      <td>203</td>\n",
       "      <td>0</td>\n",
       "      <td>1</td>\n",
       "      <td>161</td>\n",
       "      <td>0</td>\n",
       "      <td>0.0</td>\n",
       "      <td>2</td>\n",
       "      <td>1</td>\n",
       "      <td>3</td>\n",
       "      <td>0</td>\n",
       "    </tr>\n",
       "    <tr>\n",
       "      <th>4</th>\n",
       "      <td>62</td>\n",
       "      <td>0</td>\n",
       "      <td>0</td>\n",
       "      <td>138</td>\n",
       "      <td>294</td>\n",
       "      <td>1</td>\n",
       "      <td>1</td>\n",
       "      <td>106</td>\n",
       "      <td>0</td>\n",
       "      <td>1.9</td>\n",
       "      <td>1</td>\n",
       "      <td>3</td>\n",
       "      <td>2</td>\n",
       "      <td>0</td>\n",
       "    </tr>\n",
       "    <tr>\n",
       "      <th>5</th>\n",
       "      <td>58</td>\n",
       "      <td>0</td>\n",
       "      <td>0</td>\n",
       "      <td>100</td>\n",
       "      <td>248</td>\n",
       "      <td>0</td>\n",
       "      <td>0</td>\n",
       "      <td>122</td>\n",
       "      <td>0</td>\n",
       "      <td>1.0</td>\n",
       "      <td>1</td>\n",
       "      <td>0</td>\n",
       "      <td>2</td>\n",
       "      <td>1</td>\n",
       "    </tr>\n",
       "    <tr>\n",
       "      <th>6</th>\n",
       "      <td>58</td>\n",
       "      <td>1</td>\n",
       "      <td>0</td>\n",
       "      <td>114</td>\n",
       "      <td>318</td>\n",
       "      <td>0</td>\n",
       "      <td>2</td>\n",
       "      <td>140</td>\n",
       "      <td>0</td>\n",
       "      <td>4.4</td>\n",
       "      <td>0</td>\n",
       "      <td>3</td>\n",
       "      <td>1</td>\n",
       "      <td>0</td>\n",
       "    </tr>\n",
       "    <tr>\n",
       "      <th>7</th>\n",
       "      <td>55</td>\n",
       "      <td>1</td>\n",
       "      <td>0</td>\n",
       "      <td>160</td>\n",
       "      <td>289</td>\n",
       "      <td>0</td>\n",
       "      <td>0</td>\n",
       "      <td>145</td>\n",
       "      <td>1</td>\n",
       "      <td>0.8</td>\n",
       "      <td>1</td>\n",
       "      <td>1</td>\n",
       "      <td>3</td>\n",
       "      <td>0</td>\n",
       "    </tr>\n",
       "    <tr>\n",
       "      <th>8</th>\n",
       "      <td>46</td>\n",
       "      <td>1</td>\n",
       "      <td>0</td>\n",
       "      <td>120</td>\n",
       "      <td>249</td>\n",
       "      <td>0</td>\n",
       "      <td>0</td>\n",
       "      <td>144</td>\n",
       "      <td>0</td>\n",
       "      <td>0.8</td>\n",
       "      <td>2</td>\n",
       "      <td>0</td>\n",
       "      <td>3</td>\n",
       "      <td>0</td>\n",
       "    </tr>\n",
       "    <tr>\n",
       "      <th>9</th>\n",
       "      <td>54</td>\n",
       "      <td>1</td>\n",
       "      <td>0</td>\n",
       "      <td>122</td>\n",
       "      <td>286</td>\n",
       "      <td>0</td>\n",
       "      <td>0</td>\n",
       "      <td>116</td>\n",
       "      <td>1</td>\n",
       "      <td>3.2</td>\n",
       "      <td>1</td>\n",
       "      <td>2</td>\n",
       "      <td>2</td>\n",
       "      <td>0</td>\n",
       "    </tr>\n",
       "    <tr>\n",
       "      <th>10</th>\n",
       "      <td>71</td>\n",
       "      <td>0</td>\n",
       "      <td>0</td>\n",
       "      <td>112</td>\n",
       "      <td>149</td>\n",
       "      <td>0</td>\n",
       "      <td>1</td>\n",
       "      <td>125</td>\n",
       "      <td>0</td>\n",
       "      <td>1.6</td>\n",
       "      <td>1</td>\n",
       "      <td>0</td>\n",
       "      <td>2</td>\n",
       "      <td>1</td>\n",
       "    </tr>\n",
       "    <tr>\n",
       "      <th>11</th>\n",
       "      <td>43</td>\n",
       "      <td>0</td>\n",
       "      <td>0</td>\n",
       "      <td>132</td>\n",
       "      <td>341</td>\n",
       "      <td>1</td>\n",
       "      <td>0</td>\n",
       "      <td>136</td>\n",
       "      <td>1</td>\n",
       "      <td>3.0</td>\n",
       "      <td>1</td>\n",
       "      <td>0</td>\n",
       "      <td>3</td>\n",
       "      <td>0</td>\n",
       "    </tr>\n",
       "    <tr>\n",
       "      <th>12</th>\n",
       "      <td>34</td>\n",
       "      <td>0</td>\n",
       "      <td>1</td>\n",
       "      <td>118</td>\n",
       "      <td>210</td>\n",
       "      <td>0</td>\n",
       "      <td>1</td>\n",
       "      <td>192</td>\n",
       "      <td>0</td>\n",
       "      <td>0.7</td>\n",
       "      <td>2</td>\n",
       "      <td>0</td>\n",
       "      <td>2</td>\n",
       "      <td>1</td>\n",
       "    </tr>\n",
       "    <tr>\n",
       "      <th>13</th>\n",
       "      <td>51</td>\n",
       "      <td>1</td>\n",
       "      <td>0</td>\n",
       "      <td>140</td>\n",
       "      <td>298</td>\n",
       "      <td>0</td>\n",
       "      <td>1</td>\n",
       "      <td>122</td>\n",
       "      <td>1</td>\n",
       "      <td>4.2</td>\n",
       "      <td>1</td>\n",
       "      <td>3</td>\n",
       "      <td>3</td>\n",
       "      <td>0</td>\n",
       "    </tr>\n",
       "    <tr>\n",
       "      <th>14</th>\n",
       "      <td>52</td>\n",
       "      <td>1</td>\n",
       "      <td>0</td>\n",
       "      <td>128</td>\n",
       "      <td>204</td>\n",
       "      <td>1</td>\n",
       "      <td>1</td>\n",
       "      <td>156</td>\n",
       "      <td>1</td>\n",
       "      <td>1.0</td>\n",
       "      <td>1</td>\n",
       "      <td>0</td>\n",
       "      <td>0</td>\n",
       "      <td>0</td>\n",
       "    </tr>\n",
       "    <tr>\n",
       "      <th>15</th>\n",
       "      <td>34</td>\n",
       "      <td>0</td>\n",
       "      <td>1</td>\n",
       "      <td>118</td>\n",
       "      <td>210</td>\n",
       "      <td>0</td>\n",
       "      <td>1</td>\n",
       "      <td>192</td>\n",
       "      <td>0</td>\n",
       "      <td>0.7</td>\n",
       "      <td>2</td>\n",
       "      <td>0</td>\n",
       "      <td>2</td>\n",
       "      <td>1</td>\n",
       "    </tr>\n",
       "    <tr>\n",
       "      <th>16</th>\n",
       "      <td>51</td>\n",
       "      <td>0</td>\n",
       "      <td>2</td>\n",
       "      <td>140</td>\n",
       "      <td>308</td>\n",
       "      <td>0</td>\n",
       "      <td>0</td>\n",
       "      <td>142</td>\n",
       "      <td>0</td>\n",
       "      <td>1.5</td>\n",
       "      <td>2</td>\n",
       "      <td>1</td>\n",
       "      <td>2</td>\n",
       "      <td>1</td>\n",
       "    </tr>\n",
       "    <tr>\n",
       "      <th>17</th>\n",
       "      <td>54</td>\n",
       "      <td>1</td>\n",
       "      <td>0</td>\n",
       "      <td>124</td>\n",
       "      <td>266</td>\n",
       "      <td>0</td>\n",
       "      <td>0</td>\n",
       "      <td>109</td>\n",
       "      <td>1</td>\n",
       "      <td>2.2</td>\n",
       "      <td>1</td>\n",
       "      <td>1</td>\n",
       "      <td>3</td>\n",
       "      <td>0</td>\n",
       "    </tr>\n",
       "    <tr>\n",
       "      <th>18</th>\n",
       "      <td>50</td>\n",
       "      <td>0</td>\n",
       "      <td>1</td>\n",
       "      <td>120</td>\n",
       "      <td>244</td>\n",
       "      <td>0</td>\n",
       "      <td>1</td>\n",
       "      <td>162</td>\n",
       "      <td>0</td>\n",
       "      <td>1.1</td>\n",
       "      <td>2</td>\n",
       "      <td>0</td>\n",
       "      <td>2</td>\n",
       "      <td>1</td>\n",
       "    </tr>\n",
       "    <tr>\n",
       "      <th>19</th>\n",
       "      <td>58</td>\n",
       "      <td>1</td>\n",
       "      <td>2</td>\n",
       "      <td>140</td>\n",
       "      <td>211</td>\n",
       "      <td>1</td>\n",
       "      <td>0</td>\n",
       "      <td>165</td>\n",
       "      <td>0</td>\n",
       "      <td>0.0</td>\n",
       "      <td>2</td>\n",
       "      <td>0</td>\n",
       "      <td>2</td>\n",
       "      <td>1</td>\n",
       "    </tr>\n",
       "  </tbody>\n",
       "</table>\n",
       "</div>"
      ],
      "text/plain": [
       "    age  sex  cp  trestbps  chol  fbs  restecg  thalach  exang  oldpeak  \\\n",
       "0    52    1   0       125   212    0        1      168      0      1.0   \n",
       "1    53    1   0       140   203    1        0      155      1      3.1   \n",
       "2    70    1   0       145   174    0        1      125      1      2.6   \n",
       "3    61    1   0       148   203    0        1      161      0      0.0   \n",
       "4    62    0   0       138   294    1        1      106      0      1.9   \n",
       "5    58    0   0       100   248    0        0      122      0      1.0   \n",
       "6    58    1   0       114   318    0        2      140      0      4.4   \n",
       "7    55    1   0       160   289    0        0      145      1      0.8   \n",
       "8    46    1   0       120   249    0        0      144      0      0.8   \n",
       "9    54    1   0       122   286    0        0      116      1      3.2   \n",
       "10   71    0   0       112   149    0        1      125      0      1.6   \n",
       "11   43    0   0       132   341    1        0      136      1      3.0   \n",
       "12   34    0   1       118   210    0        1      192      0      0.7   \n",
       "13   51    1   0       140   298    0        1      122      1      4.2   \n",
       "14   52    1   0       128   204    1        1      156      1      1.0   \n",
       "15   34    0   1       118   210    0        1      192      0      0.7   \n",
       "16   51    0   2       140   308    0        0      142      0      1.5   \n",
       "17   54    1   0       124   266    0        0      109      1      2.2   \n",
       "18   50    0   1       120   244    0        1      162      0      1.1   \n",
       "19   58    1   2       140   211    1        0      165      0      0.0   \n",
       "\n",
       "    slope  ca  thal  target  \n",
       "0       2   2     3       0  \n",
       "1       0   0     3       0  \n",
       "2       0   0     3       0  \n",
       "3       2   1     3       0  \n",
       "4       1   3     2       0  \n",
       "5       1   0     2       1  \n",
       "6       0   3     1       0  \n",
       "7       1   1     3       0  \n",
       "8       2   0     3       0  \n",
       "9       1   2     2       0  \n",
       "10      1   0     2       1  \n",
       "11      1   0     3       0  \n",
       "12      2   0     2       1  \n",
       "13      1   3     3       0  \n",
       "14      1   0     0       0  \n",
       "15      2   0     2       1  \n",
       "16      2   1     2       1  \n",
       "17      1   1     3       0  \n",
       "18      2   0     2       1  \n",
       "19      2   0     2       1  "
      ]
     },
     "metadata": {},
     "output_type": "display_data"
    },
    {
     "data": {
      "text/html": [
       "<div>\n",
       "<style scoped>\n",
       "    .dataframe tbody tr th:only-of-type {\n",
       "        vertical-align: middle;\n",
       "    }\n",
       "\n",
       "    .dataframe tbody tr th {\n",
       "        vertical-align: top;\n",
       "    }\n",
       "\n",
       "    .dataframe thead th {\n",
       "        text-align: right;\n",
       "    }\n",
       "</style>\n",
       "<table border=\"1\" class=\"dataframe\">\n",
       "  <thead>\n",
       "    <tr style=\"text-align: right;\">\n",
       "      <th></th>\n",
       "      <th>age</th>\n",
       "      <th>sex</th>\n",
       "      <th>cp</th>\n",
       "      <th>trestbps</th>\n",
       "      <th>chol</th>\n",
       "      <th>fbs</th>\n",
       "      <th>restecg</th>\n",
       "      <th>thalach</th>\n",
       "      <th>exang</th>\n",
       "      <th>oldpeak</th>\n",
       "      <th>slope</th>\n",
       "      <th>ca</th>\n",
       "      <th>thal</th>\n",
       "      <th>target</th>\n",
       "    </tr>\n",
       "  </thead>\n",
       "  <tbody>\n",
       "    <tr>\n",
       "      <th>count</th>\n",
       "      <td>1025.000000</td>\n",
       "      <td>1025.000000</td>\n",
       "      <td>1025.000000</td>\n",
       "      <td>1025.000000</td>\n",
       "      <td>1025.00000</td>\n",
       "      <td>1025.000000</td>\n",
       "      <td>1025.000000</td>\n",
       "      <td>1025.000000</td>\n",
       "      <td>1025.000000</td>\n",
       "      <td>1025.000000</td>\n",
       "      <td>1025.000000</td>\n",
       "      <td>1025.000000</td>\n",
       "      <td>1025.000000</td>\n",
       "      <td>1025.000000</td>\n",
       "    </tr>\n",
       "    <tr>\n",
       "      <th>mean</th>\n",
       "      <td>54.434146</td>\n",
       "      <td>0.695610</td>\n",
       "      <td>0.942439</td>\n",
       "      <td>131.611707</td>\n",
       "      <td>246.00000</td>\n",
       "      <td>0.149268</td>\n",
       "      <td>0.529756</td>\n",
       "      <td>149.114146</td>\n",
       "      <td>0.336585</td>\n",
       "      <td>1.071512</td>\n",
       "      <td>1.385366</td>\n",
       "      <td>0.754146</td>\n",
       "      <td>2.323902</td>\n",
       "      <td>0.513171</td>\n",
       "    </tr>\n",
       "    <tr>\n",
       "      <th>std</th>\n",
       "      <td>9.072290</td>\n",
       "      <td>0.460373</td>\n",
       "      <td>1.029641</td>\n",
       "      <td>17.516718</td>\n",
       "      <td>51.59251</td>\n",
       "      <td>0.356527</td>\n",
       "      <td>0.527878</td>\n",
       "      <td>23.005724</td>\n",
       "      <td>0.472772</td>\n",
       "      <td>1.175053</td>\n",
       "      <td>0.617755</td>\n",
       "      <td>1.030798</td>\n",
       "      <td>0.620660</td>\n",
       "      <td>0.500070</td>\n",
       "    </tr>\n",
       "    <tr>\n",
       "      <th>min</th>\n",
       "      <td>29.000000</td>\n",
       "      <td>0.000000</td>\n",
       "      <td>0.000000</td>\n",
       "      <td>94.000000</td>\n",
       "      <td>126.00000</td>\n",
       "      <td>0.000000</td>\n",
       "      <td>0.000000</td>\n",
       "      <td>71.000000</td>\n",
       "      <td>0.000000</td>\n",
       "      <td>0.000000</td>\n",
       "      <td>0.000000</td>\n",
       "      <td>0.000000</td>\n",
       "      <td>0.000000</td>\n",
       "      <td>0.000000</td>\n",
       "    </tr>\n",
       "    <tr>\n",
       "      <th>25%</th>\n",
       "      <td>48.000000</td>\n",
       "      <td>0.000000</td>\n",
       "      <td>0.000000</td>\n",
       "      <td>120.000000</td>\n",
       "      <td>211.00000</td>\n",
       "      <td>0.000000</td>\n",
       "      <td>0.000000</td>\n",
       "      <td>132.000000</td>\n",
       "      <td>0.000000</td>\n",
       "      <td>0.000000</td>\n",
       "      <td>1.000000</td>\n",
       "      <td>0.000000</td>\n",
       "      <td>2.000000</td>\n",
       "      <td>0.000000</td>\n",
       "    </tr>\n",
       "    <tr>\n",
       "      <th>50%</th>\n",
       "      <td>56.000000</td>\n",
       "      <td>1.000000</td>\n",
       "      <td>1.000000</td>\n",
       "      <td>130.000000</td>\n",
       "      <td>240.00000</td>\n",
       "      <td>0.000000</td>\n",
       "      <td>1.000000</td>\n",
       "      <td>152.000000</td>\n",
       "      <td>0.000000</td>\n",
       "      <td>0.800000</td>\n",
       "      <td>1.000000</td>\n",
       "      <td>0.000000</td>\n",
       "      <td>2.000000</td>\n",
       "      <td>1.000000</td>\n",
       "    </tr>\n",
       "    <tr>\n",
       "      <th>75%</th>\n",
       "      <td>61.000000</td>\n",
       "      <td>1.000000</td>\n",
       "      <td>2.000000</td>\n",
       "      <td>140.000000</td>\n",
       "      <td>275.00000</td>\n",
       "      <td>0.000000</td>\n",
       "      <td>1.000000</td>\n",
       "      <td>166.000000</td>\n",
       "      <td>1.000000</td>\n",
       "      <td>1.800000</td>\n",
       "      <td>2.000000</td>\n",
       "      <td>1.000000</td>\n",
       "      <td>3.000000</td>\n",
       "      <td>1.000000</td>\n",
       "    </tr>\n",
       "    <tr>\n",
       "      <th>max</th>\n",
       "      <td>77.000000</td>\n",
       "      <td>1.000000</td>\n",
       "      <td>3.000000</td>\n",
       "      <td>200.000000</td>\n",
       "      <td>564.00000</td>\n",
       "      <td>1.000000</td>\n",
       "      <td>2.000000</td>\n",
       "      <td>202.000000</td>\n",
       "      <td>1.000000</td>\n",
       "      <td>6.200000</td>\n",
       "      <td>2.000000</td>\n",
       "      <td>4.000000</td>\n",
       "      <td>3.000000</td>\n",
       "      <td>1.000000</td>\n",
       "    </tr>\n",
       "  </tbody>\n",
       "</table>\n",
       "</div>"
      ],
      "text/plain": [
       "               age          sex           cp     trestbps        chol  \\\n",
       "count  1025.000000  1025.000000  1025.000000  1025.000000  1025.00000   \n",
       "mean     54.434146     0.695610     0.942439   131.611707   246.00000   \n",
       "std       9.072290     0.460373     1.029641    17.516718    51.59251   \n",
       "min      29.000000     0.000000     0.000000    94.000000   126.00000   \n",
       "25%      48.000000     0.000000     0.000000   120.000000   211.00000   \n",
       "50%      56.000000     1.000000     1.000000   130.000000   240.00000   \n",
       "75%      61.000000     1.000000     2.000000   140.000000   275.00000   \n",
       "max      77.000000     1.000000     3.000000   200.000000   564.00000   \n",
       "\n",
       "               fbs      restecg      thalach        exang      oldpeak  \\\n",
       "count  1025.000000  1025.000000  1025.000000  1025.000000  1025.000000   \n",
       "mean      0.149268     0.529756   149.114146     0.336585     1.071512   \n",
       "std       0.356527     0.527878    23.005724     0.472772     1.175053   \n",
       "min       0.000000     0.000000    71.000000     0.000000     0.000000   \n",
       "25%       0.000000     0.000000   132.000000     0.000000     0.000000   \n",
       "50%       0.000000     1.000000   152.000000     0.000000     0.800000   \n",
       "75%       0.000000     1.000000   166.000000     1.000000     1.800000   \n",
       "max       1.000000     2.000000   202.000000     1.000000     6.200000   \n",
       "\n",
       "             slope           ca         thal       target  \n",
       "count  1025.000000  1025.000000  1025.000000  1025.000000  \n",
       "mean      1.385366     0.754146     2.323902     0.513171  \n",
       "std       0.617755     1.030798     0.620660     0.500070  \n",
       "min       0.000000     0.000000     0.000000     0.000000  \n",
       "25%       1.000000     0.000000     2.000000     0.000000  \n",
       "50%       1.000000     0.000000     2.000000     1.000000  \n",
       "75%       2.000000     1.000000     3.000000     1.000000  \n",
       "max       2.000000     4.000000     3.000000     1.000000  "
      ]
     },
     "metadata": {},
     "output_type": "display_data"
    },
    {
     "name": "stdout",
     "output_type": "stream",
     "text": [
      "<class 'pandas.core.frame.DataFrame'>\n",
      "RangeIndex: 1025 entries, 0 to 1024\n",
      "Data columns (total 14 columns):\n",
      " #   Column    Non-Null Count  Dtype  \n",
      "---  ------    --------------  -----  \n",
      " 0   age       1025 non-null   int64  \n",
      " 1   sex       1025 non-null   int64  \n",
      " 2   cp        1025 non-null   int64  \n",
      " 3   trestbps  1025 non-null   int64  \n",
      " 4   chol      1025 non-null   int64  \n",
      " 5   fbs       1025 non-null   int64  \n",
      " 6   restecg   1025 non-null   int64  \n",
      " 7   thalach   1025 non-null   int64  \n",
      " 8   exang     1025 non-null   int64  \n",
      " 9   oldpeak   1025 non-null   float64\n",
      " 10  slope     1025 non-null   int64  \n",
      " 11  ca        1025 non-null   int64  \n",
      " 12  thal      1025 non-null   int64  \n",
      " 13  target    1025 non-null   int64  \n",
      "dtypes: float64(1), int64(13)\n",
      "memory usage: 112.2 KB\n"
     ]
    },
    {
     "data": {
      "text/plain": [
       "None"
      ]
     },
     "metadata": {},
     "output_type": "display_data"
    }
   ],
   "source": [
    "df = pd.read_csv('/kaggle/input/heart-disease-dataset/heart.csv')\n",
    "\n",
    "display(df.head(20))\n",
    "display(df.describe())\n",
    "display(df.info())"
   ]
  },
  {
   "cell_type": "markdown",
   "id": "93f51b03",
   "metadata": {
    "papermill": {
     "duration": 0.008738,
     "end_time": "2025-10-21T09:12:24.767870",
     "exception": false,
     "start_time": "2025-10-21T09:12:24.759132",
     "status": "completed"
    },
    "tags": []
   },
   "source": [
    "Berdasarkan hasil observasi dataset yang ada menggunakan library dari **Pandas**, dataset terdiri dari 14 kolom dengan 13 kolom fitur dan 1 kolom target. Pada kasus klusterisasi, kolom target tidak diperlukan. Maka dari itu, kolom tersebut bisa di *drop* atau dihapus dari pemrosesan data selanjutnya.\n",
    "\n",
    "Berdasarka tipe data yang dimiliki, seluruh data sudah bertipe numerik. Mayoritas memiliki tipe data `int64` dan ditambah salah satu data `oldpeak` yang memiliki tipe data `float64`. Dikarenakan data sudah numerik, maka untuk tahapan selanjutnya (preprocessing), tidak diperlukan konversi data menjadi numerik atau biasa disebut dengan encoding data."
   ]
  },
  {
   "cell_type": "markdown",
   "id": "84e0e543",
   "metadata": {
    "papermill": {
     "duration": 0.007749,
     "end_time": "2025-10-21T09:12:24.784199",
     "exception": false,
     "start_time": "2025-10-21T09:12:24.776450",
     "status": "completed"
    },
    "tags": []
   },
   "source": [
    "## 1.1 Mengatasi Data Kosong (*Missing Values*)"
   ]
  },
  {
   "cell_type": "code",
   "execution_count": 5,
   "id": "a05d70f4",
   "metadata": {
    "execution": {
     "iopub.execute_input": "2025-10-21T09:12:24.802488Z",
     "iopub.status.busy": "2025-10-21T09:12:24.802166Z",
     "iopub.status.idle": "2025-10-21T09:12:24.809632Z",
     "shell.execute_reply": "2025-10-21T09:12:24.808810Z"
    },
    "papermill": {
     "duration": 0.018081,
     "end_time": "2025-10-21T09:12:24.811078",
     "exception": false,
     "start_time": "2025-10-21T09:12:24.792997",
     "status": "completed"
    },
    "tags": []
   },
   "outputs": [
    {
     "data": {
      "text/plain": [
       "age         0\n",
       "sex         0\n",
       "cp          0\n",
       "trestbps    0\n",
       "chol        0\n",
       "fbs         0\n",
       "restecg     0\n",
       "thalach     0\n",
       "exang       0\n",
       "oldpeak     0\n",
       "slope       0\n",
       "ca          0\n",
       "thal        0\n",
       "target      0\n",
       "dtype: int64"
      ]
     },
     "execution_count": 5,
     "metadata": {},
     "output_type": "execute_result"
    }
   ],
   "source": [
    "df.isnull().sum()"
   ]
  },
  {
   "cell_type": "markdown",
   "id": "304848a6",
   "metadata": {
    "papermill": {
     "duration": 0.007879,
     "end_time": "2025-10-21T09:12:24.827371",
     "exception": false,
     "start_time": "2025-10-21T09:12:24.819492",
     "status": "completed"
    },
    "tags": []
   },
   "source": [
    "Berdasarkan pengamatan pada dataset yang ada, tidak ditemukan data yang kosong. Dengan demikian tidak diperlukan proses data imputation yang bertujuan untuk mengisi data kosong."
   ]
  },
  {
   "cell_type": "markdown",
   "id": "6555f213",
   "metadata": {
    "papermill": {
     "duration": 0.007898,
     "end_time": "2025-10-21T09:12:24.843326",
     "exception": false,
     "start_time": "2025-10-21T09:12:24.835428",
     "status": "completed"
    },
    "tags": []
   },
   "source": [
    "## 1.2 Membuat 1 Fitur Baru\n",
    "\n",
    "Fitur baru ini bernama `chol_age` yang menunjukkan jumlah perkalian antara kolom `chol`(kadar kolesterol dalam satuan `mg/dl`) dan `age` (usia)"
   ]
  },
  {
   "cell_type": "code",
   "execution_count": 6,
   "id": "6c50ce7f",
   "metadata": {
    "execution": {
     "iopub.execute_input": "2025-10-21T09:12:24.860630Z",
     "iopub.status.busy": "2025-10-21T09:12:24.860295Z",
     "iopub.status.idle": "2025-10-21T09:12:24.874174Z",
     "shell.execute_reply": "2025-10-21T09:12:24.873393Z"
    },
    "papermill": {
     "duration": 0.024212,
     "end_time": "2025-10-21T09:12:24.875536",
     "exception": false,
     "start_time": "2025-10-21T09:12:24.851324",
     "status": "completed"
    },
    "tags": []
   },
   "outputs": [
    {
     "data": {
      "text/plain": [
       "count     1025.000000\n",
       "mean     13493.590244\n",
       "std       4017.462610\n",
       "min       5916.000000\n",
       "25%      10660.000000\n",
       "50%      13053.000000\n",
       "75%      15860.000000\n",
       "max      37788.000000\n",
       "Name: chol_age, dtype: float64"
      ]
     },
     "metadata": {},
     "output_type": "display_data"
    },
    {
     "name": "stdout",
     "output_type": "stream",
     "text": [
      "\n",
      "\n"
     ]
    },
    {
     "data": {
      "text/plain": [
       "0     11024\n",
       "1     10759\n",
       "2     12180\n",
       "3     12383\n",
       "4     18228\n",
       "5     14384\n",
       "6     18444\n",
       "7     15895\n",
       "8     11454\n",
       "9     15444\n",
       "10    10579\n",
       "11    14663\n",
       "12     7140\n",
       "13    15198\n",
       "14    10608\n",
       "15     7140\n",
       "16    15708\n",
       "17    14364\n",
       "18    12200\n",
       "19    12238\n",
       "Name: chol_age, dtype: int64"
      ]
     },
     "metadata": {},
     "output_type": "display_data"
    }
   ],
   "source": [
    "# add new column [CholAge] (cholesterol * age)\n",
    "df['chol_age'] = df['chol'] * df['age']\n",
    "\n",
    "display(df['chol_age'].describe())\n",
    "print('\\n')\n",
    "display(df['chol_age'].head(20))"
   ]
  },
  {
   "cell_type": "markdown",
   "id": "9bb04353",
   "metadata": {
    "papermill": {
     "duration": 0.008314,
     "end_time": "2025-10-21T09:12:24.892480",
     "exception": false,
     "start_time": "2025-10-21T09:12:24.884166",
     "status": "completed"
    },
    "tags": []
   },
   "source": [
    "## 1.3 Normalisasi / Standardisasi\n",
    "\n",
    "Normalisasi ini bertujuan agar data-data numerik memiliki skala yang sama sehingga tidak ada fitur yang lebih dominan daripada yang lain. Metode yang bisa digunakan untuk normalisasi ini ada banyak. Pemilihan metode normalisasi bergantung pada karakteristik pada dataset yang ada. Salah satu caranya adalah dengan melihat apakah dataset yang ada memiliki outlier atau tidak."
   ]
  },
  {
   "cell_type": "code",
   "execution_count": 7,
   "id": "a3266653",
   "metadata": {
    "execution": {
     "iopub.execute_input": "2025-10-21T09:12:24.910764Z",
     "iopub.status.busy": "2025-10-21T09:12:24.910124Z",
     "iopub.status.idle": "2025-10-21T09:12:25.634108Z",
     "shell.execute_reply": "2025-10-21T09:12:25.633154Z"
    },
    "papermill": {
     "duration": 0.734852,
     "end_time": "2025-10-21T09:12:25.635579",
     "exception": false,
     "start_time": "2025-10-21T09:12:24.900727",
     "status": "completed"
    },
    "tags": []
   },
   "outputs": [
    {
     "data": {
      "text/html": [
       "<div>\n",
       "<style scoped>\n",
       "    .dataframe tbody tr th:only-of-type {\n",
       "        vertical-align: middle;\n",
       "    }\n",
       "\n",
       "    .dataframe tbody tr th {\n",
       "        vertical-align: top;\n",
       "    }\n",
       "\n",
       "    .dataframe thead th {\n",
       "        text-align: right;\n",
       "    }\n",
       "</style>\n",
       "<table border=\"1\" class=\"dataframe\">\n",
       "  <thead>\n",
       "    <tr style=\"text-align: right;\">\n",
       "      <th></th>\n",
       "      <th>column</th>\n",
       "      <th>IQR_outliers_count</th>\n",
       "      <th>Zscore_outliers_count</th>\n",
       "      <th>sample_IQR</th>\n",
       "      <th>sample_Z</th>\n",
       "    </tr>\n",
       "  </thead>\n",
       "  <tbody>\n",
       "    <tr>\n",
       "      <th>0</th>\n",
       "      <td>age</td>\n",
       "      <td>0</td>\n",
       "      <td>0</td>\n",
       "      <td>[]</td>\n",
       "      <td>[]</td>\n",
       "    </tr>\n",
       "    <tr>\n",
       "      <th>1</th>\n",
       "      <td>trestbps</td>\n",
       "      <td>30</td>\n",
       "      <td>7</td>\n",
       "      <td>[180, 178, 174]</td>\n",
       "      <td>[192, 200, 192]</td>\n",
       "    </tr>\n",
       "    <tr>\n",
       "      <th>2</th>\n",
       "      <td>chol</td>\n",
       "      <td>16</td>\n",
       "      <td>13</td>\n",
       "      <td>[417, 564, 409]</td>\n",
       "      <td>[417, 564, 409]</td>\n",
       "    </tr>\n",
       "    <tr>\n",
       "      <th>3</th>\n",
       "      <td>thalach</td>\n",
       "      <td>4</td>\n",
       "      <td>4</td>\n",
       "      <td>[71, 71, 71]</td>\n",
       "      <td>[71, 71, 71]</td>\n",
       "    </tr>\n",
       "    <tr>\n",
       "      <th>4</th>\n",
       "      <td>oldpeak</td>\n",
       "      <td>7</td>\n",
       "      <td>7</td>\n",
       "      <td>[5.6, 5.6, 6.2]</td>\n",
       "      <td>[5.6, 5.6, 6.2]</td>\n",
       "    </tr>\n",
       "    <tr>\n",
       "      <th>5</th>\n",
       "      <td>chol_age</td>\n",
       "      <td>13</td>\n",
       "      <td>10</td>\n",
       "      <td>[27105, 37788, 37788]</td>\n",
       "      <td>[27105, 37788, 37788]</td>\n",
       "    </tr>\n",
       "  </tbody>\n",
       "</table>\n",
       "</div>"
      ],
      "text/plain": [
       "     column  IQR_outliers_count  Zscore_outliers_count             sample_IQR  \\\n",
       "0       age                   0                      0                     []   \n",
       "1  trestbps                  30                      7        [180, 178, 174]   \n",
       "2      chol                  16                     13        [417, 564, 409]   \n",
       "3   thalach                   4                      4           [71, 71, 71]   \n",
       "4   oldpeak                   7                      7        [5.6, 5.6, 6.2]   \n",
       "5  chol_age                  13                     10  [27105, 37788, 37788]   \n",
       "\n",
       "                sample_Z  \n",
       "0                     []  \n",
       "1        [192, 200, 192]  \n",
       "2        [417, 564, 409]  \n",
       "3           [71, 71, 71]  \n",
       "4        [5.6, 5.6, 6.2]  \n",
       "5  [27105, 37788, 37788]  "
      ]
     },
     "metadata": {},
     "output_type": "display_data"
    },
    {
     "data": {
      "image/png": "[encoded data removed]",
      "text/plain": [
       "<Figure size 800x1200 with 6 Axes>"
      ]
     },
     "metadata": {},
     "output_type": "display_data"
    }
   ],
   "source": [
    "# numeric columns\n",
    "num_cols = [\"age\", \"trestbps\", \"chol\", \"thalach\", \"oldpeak\", \"chol_age\"]\n",
    "\n",
    "outlier_summary = []\n",
    "\n",
    "for col in num_cols:\n",
    "    # IQR method\n",
    "    Q1 = df[col].quantile(0.25)\n",
    "    Q3 = df[col].quantile(0.75)\n",
    "    IQR = Q3 - Q1\n",
    "    outliers_iqr = df[(df[col] < Q1 - 1.5*IQR) | (df[col] > Q3 + 1.5*IQR)][col]\n",
    "    \n",
    "    # Z-score method\n",
    "    z_scores = np.abs((df[col] - df[col].mean()) / df[col].std())\n",
    "    outliers_z = df[z_scores > 3][col]\n",
    "    \n",
    "    # Store summary\n",
    "    outlier_summary.append({\n",
    "        \"column\": col,\n",
    "        \"IQR_outliers_count\": len(outliers_iqr),\n",
    "        \"Zscore_outliers_count\": len(outliers_z),\n",
    "        \"sample_IQR\": outliers_iqr.head(3).tolist(),  # first 3 values as example\n",
    "        \"sample_Z\": outliers_z.head(3).tolist()\n",
    "    })\n",
    "\n",
    "# Convert summary to DataFrame for easy viewing\n",
    "summary_df = pd.DataFrame(outlier_summary)\n",
    "display(summary_df)\n",
    "\n",
    "\n",
    "# Boxplot visualization\n",
    "fig, axes = plt.subplots(len(num_cols), 1, figsize=(8, len(num_cols)*2))\n",
    "\n",
    "for i, col in enumerate(num_cols):\n",
    "    sns.boxplot(x=df[col], ax=axes[i])\n",
    "    axes[i].set_title(f'Boxplot of {col}', fontsize=10)\n",
    "    axes[i].set_xlabel('')\n",
    "\n",
    "plt.tight_layout()\n",
    "plt.show()"
   ]
  },
  {
   "cell_type": "markdown",
   "id": "b3d0ff17",
   "metadata": {
    "papermill": {
     "duration": 0.009025,
     "end_time": "2025-10-21T09:12:25.654364",
     "exception": false,
     "start_time": "2025-10-21T09:12:25.645339",
     "status": "completed"
    },
    "tags": []
   },
   "source": [
    "Berdasarkan karakteristik dataset yang diperoleh, maka metode normalisasi yang tepat adalah menggunakan `StandardScaler` karena dataset masih memiliki outlier yang cukup banyak pada beberapa kolom. Contohnya saja pada kolom `trestBps` dan `chol`. Metode lain seperti `MinMaxScaler` menjadi tidak cocok karena dataset memiliki outlier yang dapat mengganggu pemrosesan selanjutnya."
   ]
  },
  {
   "cell_type": "code",
   "execution_count": 8,
   "id": "71897846",
   "metadata": {
    "execution": {
     "iopub.execute_input": "2025-10-21T09:12:25.674454Z",
     "iopub.status.busy": "2025-10-21T09:12:25.673670Z",
     "iopub.status.idle": "2025-10-21T09:12:25.732422Z",
     "shell.execute_reply": "2025-10-21T09:12:25.731582Z"
    },
    "papermill": {
     "duration": 0.070388,
     "end_time": "2025-10-21T09:12:25.733986",
     "exception": false,
     "start_time": "2025-10-21T09:12:25.663598",
     "status": "completed"
    },
    "tags": []
   },
   "outputs": [
    {
     "name": "stdout",
     "output_type": "stream",
     "text": [
      "Data sebelum dilakukan proses normalisasi\n"
     ]
    },
    {
     "data": {
      "text/html": [
       "<div>\n",
       "<style scoped>\n",
       "    .dataframe tbody tr th:only-of-type {\n",
       "        vertical-align: middle;\n",
       "    }\n",
       "\n",
       "    .dataframe tbody tr th {\n",
       "        vertical-align: top;\n",
       "    }\n",
       "\n",
       "    .dataframe thead th {\n",
       "        text-align: right;\n",
       "    }\n",
       "</style>\n",
       "<table border=\"1\" class=\"dataframe\">\n",
       "  <thead>\n",
       "    <tr style=\"text-align: right;\">\n",
       "      <th></th>\n",
       "      <th>age</th>\n",
       "      <th>trestbps</th>\n",
       "      <th>chol</th>\n",
       "      <th>thalach</th>\n",
       "      <th>oldpeak</th>\n",
       "      <th>chol_age</th>\n",
       "    </tr>\n",
       "  </thead>\n",
       "  <tbody>\n",
       "    <tr>\n",
       "      <th>0</th>\n",
       "      <td>52</td>\n",
       "      <td>125</td>\n",
       "      <td>212</td>\n",
       "      <td>168</td>\n",
       "      <td>1.0</td>\n",
       "      <td>11024</td>\n",
       "    </tr>\n",
       "    <tr>\n",
       "      <th>1</th>\n",
       "      <td>53</td>\n",
       "      <td>140</td>\n",
       "      <td>203</td>\n",
       "      <td>155</td>\n",
       "      <td>3.1</td>\n",
       "      <td>10759</td>\n",
       "    </tr>\n",
       "    <tr>\n",
       "      <th>2</th>\n",
       "      <td>70</td>\n",
       "      <td>145</td>\n",
       "      <td>174</td>\n",
       "      <td>125</td>\n",
       "      <td>2.6</td>\n",
       "      <td>12180</td>\n",
       "    </tr>\n",
       "    <tr>\n",
       "      <th>3</th>\n",
       "      <td>61</td>\n",
       "      <td>148</td>\n",
       "      <td>203</td>\n",
       "      <td>161</td>\n",
       "      <td>0.0</td>\n",
       "      <td>12383</td>\n",
       "    </tr>\n",
       "    <tr>\n",
       "      <th>4</th>\n",
       "      <td>62</td>\n",
       "      <td>138</td>\n",
       "      <td>294</td>\n",
       "      <td>106</td>\n",
       "      <td>1.9</td>\n",
       "      <td>18228</td>\n",
       "    </tr>\n",
       "  </tbody>\n",
       "</table>\n",
       "</div>"
      ],
      "text/plain": [
       "   age  trestbps  chol  thalach  oldpeak  chol_age\n",
       "0   52       125   212      168      1.0     11024\n",
       "1   53       140   203      155      3.1     10759\n",
       "2   70       145   174      125      2.6     12180\n",
       "3   61       148   203      161      0.0     12383\n",
       "4   62       138   294      106      1.9     18228"
      ]
     },
     "metadata": {},
     "output_type": "display_data"
    },
    {
     "name": "stdout",
     "output_type": "stream",
     "text": [
      "\n",
      "Deskripsi data\n"
     ]
    },
    {
     "data": {
      "text/html": [
       "<div>\n",
       "<style scoped>\n",
       "    .dataframe tbody tr th:only-of-type {\n",
       "        vertical-align: middle;\n",
       "    }\n",
       "\n",
       "    .dataframe tbody tr th {\n",
       "        vertical-align: top;\n",
       "    }\n",
       "\n",
       "    .dataframe thead th {\n",
       "        text-align: right;\n",
       "    }\n",
       "</style>\n",
       "<table border=\"1\" class=\"dataframe\">\n",
       "  <thead>\n",
       "    <tr style=\"text-align: right;\">\n",
       "      <th></th>\n",
       "      <th>age</th>\n",
       "      <th>trestbps</th>\n",
       "      <th>chol</th>\n",
       "      <th>thalach</th>\n",
       "      <th>oldpeak</th>\n",
       "      <th>chol_age</th>\n",
       "    </tr>\n",
       "  </thead>\n",
       "  <tbody>\n",
       "    <tr>\n",
       "      <th>count</th>\n",
       "      <td>1025.000000</td>\n",
       "      <td>1025.000000</td>\n",
       "      <td>1025.00000</td>\n",
       "      <td>1025.000000</td>\n",
       "      <td>1025.000000</td>\n",
       "      <td>1025.000000</td>\n",
       "    </tr>\n",
       "    <tr>\n",
       "      <th>mean</th>\n",
       "      <td>54.434146</td>\n",
       "      <td>131.611707</td>\n",
       "      <td>246.00000</td>\n",
       "      <td>149.114146</td>\n",
       "      <td>1.071512</td>\n",
       "      <td>13493.590244</td>\n",
       "    </tr>\n",
       "    <tr>\n",
       "      <th>std</th>\n",
       "      <td>9.072290</td>\n",
       "      <td>17.516718</td>\n",
       "      <td>51.59251</td>\n",
       "      <td>23.005724</td>\n",
       "      <td>1.175053</td>\n",
       "      <td>4017.462610</td>\n",
       "    </tr>\n",
       "    <tr>\n",
       "      <th>min</th>\n",
       "      <td>29.000000</td>\n",
       "      <td>94.000000</td>\n",
       "      <td>126.00000</td>\n",
       "      <td>71.000000</td>\n",
       "      <td>0.000000</td>\n",
       "      <td>5916.000000</td>\n",
       "    </tr>\n",
       "    <tr>\n",
       "      <th>25%</th>\n",
       "      <td>48.000000</td>\n",
       "      <td>120.000000</td>\n",
       "      <td>211.00000</td>\n",
       "      <td>132.000000</td>\n",
       "      <td>0.000000</td>\n",
       "      <td>10660.000000</td>\n",
       "    </tr>\n",
       "    <tr>\n",
       "      <th>50%</th>\n",
       "      <td>56.000000</td>\n",
       "      <td>130.000000</td>\n",
       "      <td>240.00000</td>\n",
       "      <td>152.000000</td>\n",
       "      <td>0.800000</td>\n",
       "      <td>13053.000000</td>\n",
       "    </tr>\n",
       "    <tr>\n",
       "      <th>75%</th>\n",
       "      <td>61.000000</td>\n",
       "      <td>140.000000</td>\n",
       "      <td>275.00000</td>\n",
       "      <td>166.000000</td>\n",
       "      <td>1.800000</td>\n",
       "      <td>15860.000000</td>\n",
       "    </tr>\n",
       "    <tr>\n",
       "      <th>max</th>\n",
       "      <td>77.000000</td>\n",
       "      <td>200.000000</td>\n",
       "      <td>564.00000</td>\n",
       "      <td>202.000000</td>\n",
       "      <td>6.200000</td>\n",
       "      <td>37788.000000</td>\n",
       "    </tr>\n",
       "  </tbody>\n",
       "</table>\n",
       "</div>"
      ],
      "text/plain": [
       "               age     trestbps        chol      thalach      oldpeak  \\\n",
       "count  1025.000000  1025.000000  1025.00000  1025.000000  1025.000000   \n",
       "mean     54.434146   131.611707   246.00000   149.114146     1.071512   \n",
       "std       9.072290    17.516718    51.59251    23.005724     1.175053   \n",
       "min      29.000000    94.000000   126.00000    71.000000     0.000000   \n",
       "25%      48.000000   120.000000   211.00000   132.000000     0.000000   \n",
       "50%      56.000000   130.000000   240.00000   152.000000     0.800000   \n",
       "75%      61.000000   140.000000   275.00000   166.000000     1.800000   \n",
       "max      77.000000   200.000000   564.00000   202.000000     6.200000   \n",
       "\n",
       "           chol_age  \n",
       "count   1025.000000  \n",
       "mean   13493.590244  \n",
       "std     4017.462610  \n",
       "min     5916.000000  \n",
       "25%    10660.000000  \n",
       "50%    13053.000000  \n",
       "75%    15860.000000  \n",
       "max    37788.000000  "
      ]
     },
     "metadata": {},
     "output_type": "display_data"
    },
    {
     "name": "stdout",
     "output_type": "stream",
     "text": [
      "\n",
      "\n",
      "Data setelah dilakukan proses normalisasi\n"
     ]
    },
    {
     "data": {
      "text/html": [
       "<div>\n",
       "<style scoped>\n",
       "    .dataframe tbody tr th:only-of-type {\n",
       "        vertical-align: middle;\n",
       "    }\n",
       "\n",
       "    .dataframe tbody tr th {\n",
       "        vertical-align: top;\n",
       "    }\n",
       "\n",
       "    .dataframe thead th {\n",
       "        text-align: right;\n",
       "    }\n",
       "</style>\n",
       "<table border=\"1\" class=\"dataframe\">\n",
       "  <thead>\n",
       "    <tr style=\"text-align: right;\">\n",
       "      <th></th>\n",
       "      <th>age</th>\n",
       "      <th>trestbps</th>\n",
       "      <th>chol</th>\n",
       "      <th>thalach</th>\n",
       "      <th>oldpeak</th>\n",
       "      <th>chol_age</th>\n",
       "    </tr>\n",
       "  </thead>\n",
       "  <tbody>\n",
       "    <tr>\n",
       "      <th>0</th>\n",
       "      <td>-0.268437</td>\n",
       "      <td>-0.377636</td>\n",
       "      <td>-0.659332</td>\n",
       "      <td>0.821321</td>\n",
       "      <td>-0.060888</td>\n",
       "      <td>-0.615014</td>\n",
       "    </tr>\n",
       "    <tr>\n",
       "      <th>1</th>\n",
       "      <td>-0.158157</td>\n",
       "      <td>0.479107</td>\n",
       "      <td>-0.833861</td>\n",
       "      <td>0.255968</td>\n",
       "      <td>1.727137</td>\n",
       "      <td>-0.681008</td>\n",
       "    </tr>\n",
       "    <tr>\n",
       "      <th>2</th>\n",
       "      <td>1.716595</td>\n",
       "      <td>0.764688</td>\n",
       "      <td>-1.396233</td>\n",
       "      <td>-1.048692</td>\n",
       "      <td>1.301417</td>\n",
       "      <td>-0.327130</td>\n",
       "    </tr>\n",
       "    <tr>\n",
       "      <th>3</th>\n",
       "      <td>0.724079</td>\n",
       "      <td>0.936037</td>\n",
       "      <td>-0.833861</td>\n",
       "      <td>0.516900</td>\n",
       "      <td>-0.912329</td>\n",
       "      <td>-0.276576</td>\n",
       "    </tr>\n",
       "    <tr>\n",
       "      <th>4</th>\n",
       "      <td>0.834359</td>\n",
       "      <td>0.364875</td>\n",
       "      <td>0.930822</td>\n",
       "      <td>-1.874977</td>\n",
       "      <td>0.705408</td>\n",
       "      <td>1.179033</td>\n",
       "    </tr>\n",
       "  </tbody>\n",
       "</table>\n",
       "</div>"
      ],
      "text/plain": [
       "        age  trestbps      chol   thalach   oldpeak  chol_age\n",
       "0 -0.268437 -0.377636 -0.659332  0.821321 -0.060888 -0.615014\n",
       "1 -0.158157  0.479107 -0.833861  0.255968  1.727137 -0.681008\n",
       "2  1.716595  0.764688 -1.396233 -1.048692  1.301417 -0.327130\n",
       "3  0.724079  0.936037 -0.833861  0.516900 -0.912329 -0.276576\n",
       "4  0.834359  0.364875  0.930822 -1.874977  0.705408  1.179033"
      ]
     },
     "metadata": {},
     "output_type": "display_data"
    },
    {
     "name": "stdout",
     "output_type": "stream",
     "text": [
      "\n",
      "Deskripsi data\n"
     ]
    },
    {
     "data": {
      "text/html": [
       "<div>\n",
       "<style scoped>\n",
       "    .dataframe tbody tr th:only-of-type {\n",
       "        vertical-align: middle;\n",
       "    }\n",
       "\n",
       "    .dataframe tbody tr th {\n",
       "        vertical-align: top;\n",
       "    }\n",
       "\n",
       "    .dataframe thead th {\n",
       "        text-align: right;\n",
       "    }\n",
       "</style>\n",
       "<table border=\"1\" class=\"dataframe\">\n",
       "  <thead>\n",
       "    <tr style=\"text-align: right;\">\n",
       "      <th></th>\n",
       "      <th>age</th>\n",
       "      <th>trestbps</th>\n",
       "      <th>chol</th>\n",
       "      <th>thalach</th>\n",
       "      <th>oldpeak</th>\n",
       "      <th>chol_age</th>\n",
       "    </tr>\n",
       "  </thead>\n",
       "  <tbody>\n",
       "    <tr>\n",
       "      <th>count</th>\n",
       "      <td>1.025000e+03</td>\n",
       "      <td>1.025000e+03</td>\n",
       "      <td>1025.000000</td>\n",
       "      <td>1.025000e+03</td>\n",
       "      <td>1.025000e+03</td>\n",
       "      <td>1.025000e+03</td>\n",
       "    </tr>\n",
       "    <tr>\n",
       "      <th>mean</th>\n",
       "      <td>-3.500723e-16</td>\n",
       "      <td>-6.966785e-16</td>\n",
       "      <td>0.000000</td>\n",
       "      <td>-4.297917e-16</td>\n",
       "      <td>-3.812668e-17</td>\n",
       "      <td>-1.005158e-16</td>\n",
       "    </tr>\n",
       "    <tr>\n",
       "      <th>std</th>\n",
       "      <td>1.000488e+00</td>\n",
       "      <td>1.000488e+00</td>\n",
       "      <td>1.000488</td>\n",
       "      <td>1.000488e+00</td>\n",
       "      <td>1.000488e+00</td>\n",
       "      <td>1.000488e+00</td>\n",
       "    </tr>\n",
       "    <tr>\n",
       "      <th>min</th>\n",
       "      <td>-2.804866e+00</td>\n",
       "      <td>-2.148237e+00</td>\n",
       "      <td>-2.327054</td>\n",
       "      <td>-3.397080e+00</td>\n",
       "      <td>-9.123291e-01</td>\n",
       "      <td>-1.887084e+00</td>\n",
       "    </tr>\n",
       "    <tr>\n",
       "      <th>25%</th>\n",
       "      <td>-7.095548e-01</td>\n",
       "      <td>-6.632165e-01</td>\n",
       "      <td>-0.678724</td>\n",
       "      <td>-7.442713e-01</td>\n",
       "      <td>-9.123291e-01</td>\n",
       "      <td>-7.056627e-01</td>\n",
       "    </tr>\n",
       "    <tr>\n",
       "      <th>50%</th>\n",
       "      <td>1.726817e-01</td>\n",
       "      <td>-9.205458e-02</td>\n",
       "      <td>-0.116353</td>\n",
       "      <td>1.255019e-01</td>\n",
       "      <td>-2.311765e-01</td>\n",
       "      <td>-1.097223e-01</td>\n",
       "    </tr>\n",
       "    <tr>\n",
       "      <th>75%</th>\n",
       "      <td>7.240794e-01</td>\n",
       "      <td>4.791073e-01</td>\n",
       "      <td>0.562371</td>\n",
       "      <td>7.343432e-01</td>\n",
       "      <td>6.202642e-01</td>\n",
       "      <td>5.893185e-01</td>\n",
       "    </tr>\n",
       "    <tr>\n",
       "      <th>max</th>\n",
       "      <td>2.488552e+00</td>\n",
       "      <td>3.906079e+00</td>\n",
       "      <td>6.166694</td>\n",
       "      <td>2.299935e+00</td>\n",
       "      <td>4.366603e+00</td>\n",
       "      <td>6.050154e+00</td>\n",
       "    </tr>\n",
       "  </tbody>\n",
       "</table>\n",
       "</div>"
      ],
      "text/plain": [
       "                age      trestbps         chol       thalach       oldpeak  \\\n",
       "count  1.025000e+03  1.025000e+03  1025.000000  1.025000e+03  1.025000e+03   \n",
       "mean  -3.500723e-16 -6.966785e-16     0.000000 -4.297917e-16 -3.812668e-17   \n",
       "std    1.000488e+00  1.000488e+00     1.000488  1.000488e+00  1.000488e+00   \n",
       "min   -2.804866e+00 -2.148237e+00    -2.327054 -3.397080e+00 -9.123291e-01   \n",
       "25%   -7.095548e-01 -6.632165e-01    -0.678724 -7.442713e-01 -9.123291e-01   \n",
       "50%    1.726817e-01 -9.205458e-02    -0.116353  1.255019e-01 -2.311765e-01   \n",
       "75%    7.240794e-01  4.791073e-01     0.562371  7.343432e-01  6.202642e-01   \n",
       "max    2.488552e+00  3.906079e+00     6.166694  2.299935e+00  4.366603e+00   \n",
       "\n",
       "           chol_age  \n",
       "count  1.025000e+03  \n",
       "mean  -1.005158e-16  \n",
       "std    1.000488e+00  \n",
       "min   -1.887084e+00  \n",
       "25%   -7.056627e-01  \n",
       "50%   -1.097223e-01  \n",
       "75%    5.893185e-01  \n",
       "max    6.050154e+00  "
      ]
     },
     "metadata": {},
     "output_type": "display_data"
    }
   ],
   "source": [
    "print('Data sebelum dilakukan proses normalisasi')\n",
    "display(df[num_cols].head())\n",
    "\n",
    "print('\\nDeskripsi data')\n",
    "display(df[num_cols].describe())\n",
    "\n",
    "\n",
    "\n",
    "scaler = StandardScaler()\n",
    "df[num_cols] = scaler.fit_transform(df[num_cols])\n",
    "\n",
    "print('\\n\\nData setelah dilakukan proses normalisasi')\n",
    "display(df[num_cols].head())\n",
    "\n",
    "print('\\nDeskripsi data')\n",
    "display(df[num_cols].describe())"
   ]
  },
  {
   "cell_type": "markdown",
   "id": "75d86860",
   "metadata": {
    "papermill": {
     "duration": 0.009852,
     "end_time": "2025-10-21T09:12:25.754287",
     "exception": false,
     "start_time": "2025-10-21T09:12:25.744435",
     "status": "completed"
    },
    "tags": []
   },
   "source": [
    "Melalui proses normalisasi dengan standardisasi (`StandardScaler`), maka nilai **mean** menjadi semakin mendekati $0$ dan **standard deviation** (simpangan baku) menjadi mendekati $1$."
   ]
  },
  {
   "cell_type": "markdown",
   "id": "1f77e960",
   "metadata": {
    "papermill": {
     "duration": 0.00989,
     "end_time": "2025-10-21T09:12:25.774229",
     "exception": false,
     "start_time": "2025-10-21T09:12:25.764339",
     "status": "completed"
    },
    "tags": []
   },
   "source": [
    "# 2. Klusterisasi"
   ]
  },
  {
   "cell_type": "markdown",
   "id": "848706dc",
   "metadata": {
    "papermill": {
     "duration": 0.009984,
     "end_time": "2025-10-21T09:12:25.794129",
     "exception": false,
     "start_time": "2025-10-21T09:12:25.784145",
     "status": "completed"
    },
    "tags": []
   },
   "source": [
    "Sebelum melakukan proses utama, yaitu klusterisasi, perlu dilakukan penghapusan data-data yang tidak perlu. Contohnya adalah kolom `target` yang kurang berguna pada kasus klusterisasi ini."
   ]
  },
  {
   "cell_type": "code",
   "execution_count": 9,
   "id": "5269953a",
   "metadata": {
    "execution": {
     "iopub.execute_input": "2025-10-21T09:12:25.815466Z",
     "iopub.status.busy": "2025-10-21T09:12:25.815172Z",
     "iopub.status.idle": "2025-10-21T09:12:25.833339Z",
     "shell.execute_reply": "2025-10-21T09:12:25.832304Z"
    },
    "papermill": {
     "duration": 0.030678,
     "end_time": "2025-10-21T09:12:25.834851",
     "exception": false,
     "start_time": "2025-10-21T09:12:25.804173",
     "status": "completed"
    },
    "tags": []
   },
   "outputs": [
    {
     "data": {
      "text/html": [
       "<div>\n",
       "<style scoped>\n",
       "    .dataframe tbody tr th:only-of-type {\n",
       "        vertical-align: middle;\n",
       "    }\n",
       "\n",
       "    .dataframe tbody tr th {\n",
       "        vertical-align: top;\n",
       "    }\n",
       "\n",
       "    .dataframe thead th {\n",
       "        text-align: right;\n",
       "    }\n",
       "</style>\n",
       "<table border=\"1\" class=\"dataframe\">\n",
       "  <thead>\n",
       "    <tr style=\"text-align: right;\">\n",
       "      <th></th>\n",
       "      <th>age</th>\n",
       "      <th>sex</th>\n",
       "      <th>cp</th>\n",
       "      <th>trestbps</th>\n",
       "      <th>chol</th>\n",
       "      <th>fbs</th>\n",
       "      <th>restecg</th>\n",
       "      <th>thalach</th>\n",
       "      <th>exang</th>\n",
       "      <th>oldpeak</th>\n",
       "      <th>slope</th>\n",
       "      <th>ca</th>\n",
       "      <th>thal</th>\n",
       "      <th>chol_age</th>\n",
       "    </tr>\n",
       "  </thead>\n",
       "  <tbody>\n",
       "    <tr>\n",
       "      <th>0</th>\n",
       "      <td>-0.268437</td>\n",
       "      <td>1</td>\n",
       "      <td>0</td>\n",
       "      <td>-0.377636</td>\n",
       "      <td>-0.659332</td>\n",
       "      <td>0</td>\n",
       "      <td>1</td>\n",
       "      <td>0.821321</td>\n",
       "      <td>0</td>\n",
       "      <td>-0.060888</td>\n",
       "      <td>2</td>\n",
       "      <td>2</td>\n",
       "      <td>3</td>\n",
       "      <td>-0.615014</td>\n",
       "    </tr>\n",
       "    <tr>\n",
       "      <th>1</th>\n",
       "      <td>-0.158157</td>\n",
       "      <td>1</td>\n",
       "      <td>0</td>\n",
       "      <td>0.479107</td>\n",
       "      <td>-0.833861</td>\n",
       "      <td>1</td>\n",
       "      <td>0</td>\n",
       "      <td>0.255968</td>\n",
       "      <td>1</td>\n",
       "      <td>1.727137</td>\n",
       "      <td>0</td>\n",
       "      <td>0</td>\n",
       "      <td>3</td>\n",
       "      <td>-0.681008</td>\n",
       "    </tr>\n",
       "    <tr>\n",
       "      <th>2</th>\n",
       "      <td>1.716595</td>\n",
       "      <td>1</td>\n",
       "      <td>0</td>\n",
       "      <td>0.764688</td>\n",
       "      <td>-1.396233</td>\n",
       "      <td>0</td>\n",
       "      <td>1</td>\n",
       "      <td>-1.048692</td>\n",
       "      <td>1</td>\n",
       "      <td>1.301417</td>\n",
       "      <td>0</td>\n",
       "      <td>0</td>\n",
       "      <td>3</td>\n",
       "      <td>-0.327130</td>\n",
       "    </tr>\n",
       "    <tr>\n",
       "      <th>3</th>\n",
       "      <td>0.724079</td>\n",
       "      <td>1</td>\n",
       "      <td>0</td>\n",
       "      <td>0.936037</td>\n",
       "      <td>-0.833861</td>\n",
       "      <td>0</td>\n",
       "      <td>1</td>\n",
       "      <td>0.516900</td>\n",
       "      <td>0</td>\n",
       "      <td>-0.912329</td>\n",
       "      <td>2</td>\n",
       "      <td>1</td>\n",
       "      <td>3</td>\n",
       "      <td>-0.276576</td>\n",
       "    </tr>\n",
       "    <tr>\n",
       "      <th>4</th>\n",
       "      <td>0.834359</td>\n",
       "      <td>0</td>\n",
       "      <td>0</td>\n",
       "      <td>0.364875</td>\n",
       "      <td>0.930822</td>\n",
       "      <td>1</td>\n",
       "      <td>1</td>\n",
       "      <td>-1.874977</td>\n",
       "      <td>0</td>\n",
       "      <td>0.705408</td>\n",
       "      <td>1</td>\n",
       "      <td>3</td>\n",
       "      <td>2</td>\n",
       "      <td>1.179033</td>\n",
       "    </tr>\n",
       "    <tr>\n",
       "      <th>5</th>\n",
       "      <td>0.393241</td>\n",
       "      <td>0</td>\n",
       "      <td>0</td>\n",
       "      <td>-1.805540</td>\n",
       "      <td>0.038784</td>\n",
       "      <td>0</td>\n",
       "      <td>0</td>\n",
       "      <td>-1.179158</td>\n",
       "      <td>0</td>\n",
       "      <td>-0.060888</td>\n",
       "      <td>1</td>\n",
       "      <td>0</td>\n",
       "      <td>2</td>\n",
       "      <td>0.221743</td>\n",
       "    </tr>\n",
       "    <tr>\n",
       "      <th>6</th>\n",
       "      <td>0.393241</td>\n",
       "      <td>1</td>\n",
       "      <td>0</td>\n",
       "      <td>-1.005914</td>\n",
       "      <td>1.396233</td>\n",
       "      <td>0</td>\n",
       "      <td>2</td>\n",
       "      <td>-0.396362</td>\n",
       "      <td>0</td>\n",
       "      <td>2.834010</td>\n",
       "      <td>0</td>\n",
       "      <td>3</td>\n",
       "      <td>1</td>\n",
       "      <td>1.232825</td>\n",
       "    </tr>\n",
       "    <tr>\n",
       "      <th>7</th>\n",
       "      <td>0.062402</td>\n",
       "      <td>1</td>\n",
       "      <td>0</td>\n",
       "      <td>1.621431</td>\n",
       "      <td>0.833861</td>\n",
       "      <td>0</td>\n",
       "      <td>0</td>\n",
       "      <td>-0.178919</td>\n",
       "      <td>1</td>\n",
       "      <td>-0.231177</td>\n",
       "      <td>1</td>\n",
       "      <td>1</td>\n",
       "      <td>3</td>\n",
       "      <td>0.598035</td>\n",
       "    </tr>\n",
       "    <tr>\n",
       "      <th>8</th>\n",
       "      <td>-0.930114</td>\n",
       "      <td>1</td>\n",
       "      <td>0</td>\n",
       "      <td>-0.663216</td>\n",
       "      <td>0.058176</td>\n",
       "      <td>0</td>\n",
       "      <td>0</td>\n",
       "      <td>-0.222407</td>\n",
       "      <td>0</td>\n",
       "      <td>-0.231177</td>\n",
       "      <td>2</td>\n",
       "      <td>0</td>\n",
       "      <td>3</td>\n",
       "      <td>-0.507929</td>\n",
       "    </tr>\n",
       "    <tr>\n",
       "      <th>9</th>\n",
       "      <td>-0.047877</td>\n",
       "      <td>1</td>\n",
       "      <td>0</td>\n",
       "      <td>-0.548984</td>\n",
       "      <td>0.775685</td>\n",
       "      <td>0</td>\n",
       "      <td>0</td>\n",
       "      <td>-1.440090</td>\n",
       "      <td>1</td>\n",
       "      <td>1.812281</td>\n",
       "      <td>1</td>\n",
       "      <td>2</td>\n",
       "      <td>2</td>\n",
       "      <td>0.485720</td>\n",
       "    </tr>\n",
       "    <tr>\n",
       "      <th>10</th>\n",
       "      <td>1.826875</td>\n",
       "      <td>0</td>\n",
       "      <td>0</td>\n",
       "      <td>-1.120146</td>\n",
       "      <td>-1.881036</td>\n",
       "      <td>0</td>\n",
       "      <td>1</td>\n",
       "      <td>-1.048692</td>\n",
       "      <td>0</td>\n",
       "      <td>0.449976</td>\n",
       "      <td>1</td>\n",
       "      <td>0</td>\n",
       "      <td>2</td>\n",
       "      <td>-0.725835</td>\n",
       "    </tr>\n",
       "    <tr>\n",
       "      <th>11</th>\n",
       "      <td>-1.260953</td>\n",
       "      <td>0</td>\n",
       "      <td>0</td>\n",
       "      <td>0.022178</td>\n",
       "      <td>1.842251</td>\n",
       "      <td>1</td>\n",
       "      <td>0</td>\n",
       "      <td>-0.570317</td>\n",
       "      <td>1</td>\n",
       "      <td>1.641993</td>\n",
       "      <td>1</td>\n",
       "      <td>0</td>\n",
       "      <td>3</td>\n",
       "      <td>0.291224</td>\n",
       "    </tr>\n",
       "    <tr>\n",
       "      <th>12</th>\n",
       "      <td>-2.253469</td>\n",
       "      <td>0</td>\n",
       "      <td>1</td>\n",
       "      <td>-0.777449</td>\n",
       "      <td>-0.698116</td>\n",
       "      <td>0</td>\n",
       "      <td>1</td>\n",
       "      <td>1.865048</td>\n",
       "      <td>0</td>\n",
       "      <td>-0.316321</td>\n",
       "      <td>2</td>\n",
       "      <td>0</td>\n",
       "      <td>2</td>\n",
       "      <td>-1.582265</td>\n",
       "    </tr>\n",
       "    <tr>\n",
       "      <th>13</th>\n",
       "      <td>-0.378716</td>\n",
       "      <td>1</td>\n",
       "      <td>0</td>\n",
       "      <td>0.479107</td>\n",
       "      <td>1.008390</td>\n",
       "      <td>0</td>\n",
       "      <td>1</td>\n",
       "      <td>-1.179158</td>\n",
       "      <td>1</td>\n",
       "      <td>2.663722</td>\n",
       "      <td>1</td>\n",
       "      <td>3</td>\n",
       "      <td>3</td>\n",
       "      <td>0.424457</td>\n",
       "    </tr>\n",
       "    <tr>\n",
       "      <th>14</th>\n",
       "      <td>-0.268437</td>\n",
       "      <td>1</td>\n",
       "      <td>0</td>\n",
       "      <td>-0.206287</td>\n",
       "      <td>-0.814469</td>\n",
       "      <td>1</td>\n",
       "      <td>1</td>\n",
       "      <td>0.299457</td>\n",
       "      <td>1</td>\n",
       "      <td>-0.060888</td>\n",
       "      <td>1</td>\n",
       "      <td>0</td>\n",
       "      <td>0</td>\n",
       "      <td>-0.718613</td>\n",
       "    </tr>\n",
       "    <tr>\n",
       "      <th>15</th>\n",
       "      <td>-2.253469</td>\n",
       "      <td>0</td>\n",
       "      <td>1</td>\n",
       "      <td>-0.777449</td>\n",
       "      <td>-0.698116</td>\n",
       "      <td>0</td>\n",
       "      <td>1</td>\n",
       "      <td>1.865048</td>\n",
       "      <td>0</td>\n",
       "      <td>-0.316321</td>\n",
       "      <td>2</td>\n",
       "      <td>0</td>\n",
       "      <td>2</td>\n",
       "      <td>-1.582265</td>\n",
       "    </tr>\n",
       "    <tr>\n",
       "      <th>16</th>\n",
       "      <td>-0.378716</td>\n",
       "      <td>0</td>\n",
       "      <td>2</td>\n",
       "      <td>0.479107</td>\n",
       "      <td>1.202311</td>\n",
       "      <td>0</td>\n",
       "      <td>0</td>\n",
       "      <td>-0.309385</td>\n",
       "      <td>0</td>\n",
       "      <td>0.364832</td>\n",
       "      <td>2</td>\n",
       "      <td>1</td>\n",
       "      <td>2</td>\n",
       "      <td>0.551465</td>\n",
       "    </tr>\n",
       "    <tr>\n",
       "      <th>17</th>\n",
       "      <td>-0.047877</td>\n",
       "      <td>1</td>\n",
       "      <td>0</td>\n",
       "      <td>-0.434752</td>\n",
       "      <td>0.387842</td>\n",
       "      <td>0</td>\n",
       "      <td>0</td>\n",
       "      <td>-1.744511</td>\n",
       "      <td>1</td>\n",
       "      <td>0.960840</td>\n",
       "      <td>1</td>\n",
       "      <td>1</td>\n",
       "      <td>3</td>\n",
       "      <td>0.216762</td>\n",
       "    </tr>\n",
       "    <tr>\n",
       "      <th>18</th>\n",
       "      <td>-0.488996</td>\n",
       "      <td>0</td>\n",
       "      <td>1</td>\n",
       "      <td>-0.663216</td>\n",
       "      <td>-0.038784</td>\n",
       "      <td>0</td>\n",
       "      <td>1</td>\n",
       "      <td>0.560389</td>\n",
       "      <td>0</td>\n",
       "      <td>0.024256</td>\n",
       "      <td>2</td>\n",
       "      <td>0</td>\n",
       "      <td>2</td>\n",
       "      <td>-0.322149</td>\n",
       "    </tr>\n",
       "    <tr>\n",
       "      <th>19</th>\n",
       "      <td>0.393241</td>\n",
       "      <td>1</td>\n",
       "      <td>2</td>\n",
       "      <td>0.479107</td>\n",
       "      <td>-0.678724</td>\n",
       "      <td>1</td>\n",
       "      <td>0</td>\n",
       "      <td>0.690855</td>\n",
       "      <td>0</td>\n",
       "      <td>-0.912329</td>\n",
       "      <td>2</td>\n",
       "      <td>0</td>\n",
       "      <td>2</td>\n",
       "      <td>-0.312686</td>\n",
       "    </tr>\n",
       "  </tbody>\n",
       "</table>\n",
       "</div>"
      ],
      "text/plain": [
       "         age  sex  cp  trestbps      chol  fbs  restecg   thalach  exang  \\\n",
       "0  -0.268437    1   0 -0.377636 -0.659332    0        1  0.821321      0   \n",
       "1  -0.158157    1   0  0.479107 -0.833861    1        0  0.255968      1   \n",
       "2   1.716595    1   0  0.764688 -1.396233    0        1 -1.048692      1   \n",
       "3   0.724079    1   0  0.936037 -0.833861    0        1  0.516900      0   \n",
       "4   0.834359    0   0  0.364875  0.930822    1        1 -1.874977      0   \n",
       "5   0.393241    0   0 -1.805540  0.038784    0        0 -1.179158      0   \n",
       "6   0.393241    1   0 -1.005914  1.396233    0        2 -0.396362      0   \n",
       "7   0.062402    1   0  1.621431  0.833861    0        0 -0.178919      1   \n",
       "8  -0.930114    1   0 -0.663216  0.058176    0        0 -0.222407      0   \n",
       "9  -0.047877    1   0 -0.548984  0.775685    0        0 -1.440090      1   \n",
       "10  1.826875    0   0 -1.120146 -1.881036    0        1 -1.048692      0   \n",
       "11 -1.260953    0   0  0.022178  1.842251    1        0 -0.570317      1   \n",
       "12 -2.253469    0   1 -0.777449 -0.698116    0        1  1.865048      0   \n",
       "13 -0.378716    1   0  0.479107  1.008390    0        1 -1.179158      1   \n",
       "14 -0.268437    1   0 -0.206287 -0.814469    1        1  0.299457      1   \n",
       "15 -2.253469    0   1 -0.777449 -0.698116    0        1  1.865048      0   \n",
       "16 -0.378716    0   2  0.479107  1.202311    0        0 -0.309385      0   \n",
       "17 -0.047877    1   0 -0.434752  0.387842    0        0 -1.744511      1   \n",
       "18 -0.488996    0   1 -0.663216 -0.038784    0        1  0.560389      0   \n",
       "19  0.393241    1   2  0.479107 -0.678724    1        0  0.690855      0   \n",
       "\n",
       "     oldpeak  slope  ca  thal  chol_age  \n",
       "0  -0.060888      2   2     3 -0.615014  \n",
       "1   1.727137      0   0     3 -0.681008  \n",
       "2   1.301417      0   0     3 -0.327130  \n",
       "3  -0.912329      2   1     3 -0.276576  \n",
       "4   0.705408      1   3     2  1.179033  \n",
       "5  -0.060888      1   0     2  0.221743  \n",
       "6   2.834010      0   3     1  1.232825  \n",
       "7  -0.231177      1   1     3  0.598035  \n",
       "8  -0.231177      2   0     3 -0.507929  \n",
       "9   1.812281      1   2     2  0.485720  \n",
       "10  0.449976      1   0     2 -0.725835  \n",
       "11  1.641993      1   0     3  0.291224  \n",
       "12 -0.316321      2   0     2 -1.582265  \n",
       "13  2.663722      1   3     3  0.424457  \n",
       "14 -0.060888      1   0     0 -0.718613  \n",
       "15 -0.316321      2   0     2 -1.582265  \n",
       "16  0.364832      2   1     2  0.551465  \n",
       "17  0.960840      1   1     3  0.216762  \n",
       "18  0.024256      2   0     2 -0.322149  \n",
       "19 -0.912329      2   0     2 -0.312686  "
      ]
     },
     "execution_count": 9,
     "metadata": {},
     "output_type": "execute_result"
    }
   ],
   "source": [
    "X = df.drop('target', axis=1)\n",
    "y = df['target']\n",
    "\n",
    "X.head(20)"
   ]
  },
  {
   "cell_type": "markdown",
   "id": "f08394ef",
   "metadata": {
    "papermill": {
     "duration": 0.010193,
     "end_time": "2025-10-21T09:12:25.855903",
     "exception": false,
     "start_time": "2025-10-21T09:12:25.845710",
     "status": "completed"
    },
    "tags": []
   },
   "source": [
    "## 2.1 k-Means"
   ]
  },
  {
   "cell_type": "markdown",
   "id": "9ec6fdaa",
   "metadata": {
    "papermill": {
     "duration": 0.010324,
     "end_time": "2025-10-21T09:12:25.876608",
     "exception": false,
     "start_time": "2025-10-21T09:12:25.866284",
     "status": "completed"
    },
    "tags": []
   },
   "source": [
    "### 2.1.1 Menemukan nilai k terbaik\n",
    "\n",
    "Untuk melakukan proses k-Means, perlu ditentukan nilai k yang paling terbaik. Metode yang bisa dilakukan adalah melalui **Elbow method** dan juga **Silhouette score**."
   ]
  },
  {
   "cell_type": "markdown",
   "id": "f7d96e91",
   "metadata": {
    "papermill": {
     "duration": 0.01017,
     "end_time": "2025-10-21T09:12:25.897331",
     "exception": false,
     "start_time": "2025-10-21T09:12:25.887161",
     "status": "completed"
    },
    "tags": []
   },
   "source": [
    "#### 2.1.1.1 Elbow method"
   ]
  },
  {
   "cell_type": "code",
   "execution_count": 10,
   "id": "e1fbcdbe",
   "metadata": {
    "execution": {
     "iopub.execute_input": "2025-10-21T09:12:25.920142Z",
     "iopub.status.busy": "2025-10-21T09:12:25.919467Z",
     "iopub.status.idle": "2025-10-21T09:12:27.143336Z",
     "shell.execute_reply": "2025-10-21T09:12:27.142338Z"
    },
    "papermill": {
     "duration": 1.237022,
     "end_time": "2025-10-21T09:12:27.144634",
     "exception": false,
     "start_time": "2025-10-21T09:12:25.907612",
     "status": "completed"
    },
    "tags": []
   },
   "outputs": [
    {
     "name": "stdout",
     "output_type": "stream",
     "text": [
      "k=1, inertia=9970.3063\n",
      "k=2, inertia=8044.8650\n",
      "k=3, inertia=7228.4779\n",
      "k=4, inertia=6754.2181\n",
      "k=5, inertia=6347.4037\n",
      "k=6, inertia=6002.6436\n",
      "k=7, inertia=5724.1779\n",
      "k=8, inertia=5507.6895\n",
      "k=9, inertia=5326.3173\n",
      "k=10, inertia=5204.2874\n",
      "k=11, inertia=5010.8023\n",
      "k=12, inertia=4914.7145\n",
      "k=13, inertia=4754.9094\n",
      "k=14, inertia=4622.8161\n",
      "k=15, inertia=4542.9997\n",
      "k=16, inertia=4465.2422\n",
      "k=17, inertia=4346.9914\n",
      "k=18, inertia=4254.1696\n",
      "k=19, inertia=4160.8212\n"
     ]
    },
    {
     "data": {
      "image/png": "[encoded data removed]",
      "text/plain": [
       "<Figure size 640x480 with 1 Axes>"
      ]
     },
     "metadata": {},
     "output_type": "display_data"
    },
    {
     "name": "stdout",
     "output_type": "stream",
     "text": [
      "\n",
      "Optimal k (elbow): 6\n"
     ]
    }
   ],
   "source": [
    "wcss = []\n",
    "K_range = range(1, 20)\n",
    "inertia_list = []\n",
    "\n",
    "for k in K_range:\n",
    "    kmeans = KMeans(n_clusters=k, random_state=RANDOM_SEED)\n",
    "    kmeans.fit(X)\n",
    "    inertia = kmeans.inertia_ # inertia_ = WCSS\n",
    "    inertia_list.append(inertia)\n",
    "    print(f\"k={k}, inertia={inertia:.4f}\")\n",
    "    wcss.append(inertia)\n",
    "\n",
    "# Plot the elbow\n",
    "plt.plot(K_range, wcss, 'bo-')\n",
    "plt.xlabel('Number of clusters (k)')\n",
    "plt.ylabel('WCSS (Inertia)')\n",
    "plt.title('Elbow Method for Optimal k')\n",
    "plt.show()\n",
    "\n",
    "# Automatically detect elbow\n",
    "knee = KneeLocator(K_range, inertia_list, curve=\"convex\", direction=\"decreasing\")\n",
    "print(\"\\nOptimal k (elbow):\", knee.knee)"
   ]
  },
  {
   "cell_type": "markdown",
   "id": "059f33de",
   "metadata": {
    "papermill": {
     "duration": 0.010964,
     "end_time": "2025-10-21T09:12:27.167567",
     "exception": false,
     "start_time": "2025-10-21T09:12:27.156603",
     "status": "completed"
    },
    "tags": []
   },
   "source": [
    "Dengan menggunakan elbow method di atas, grafik cenderung kondisi yang tampak terus menurun tanpa terlihat kondisi yang sudah cukup melandai. Untuk memudahkan pengamatan, maka di sini saya menggunakan dukungan library tambahan untuk mengetahui posisi elbow yang tepat. Berdasarkan library tersebut, didapatkan hasil bahwa elbow berada pada `k=6`. "
   ]
  },
  {
   "cell_type": "markdown",
   "id": "9d08da74",
   "metadata": {
    "papermill": {
     "duration": 0.01102,
     "end_time": "2025-10-21T09:12:27.189895",
     "exception": false,
     "start_time": "2025-10-21T09:12:27.178875",
     "status": "completed"
    },
    "tags": []
   },
   "source": [
    "#### 2.1.1.2 Silhouette score"
   ]
  },
  {
   "cell_type": "code",
   "execution_count": 11,
   "id": "263eea96",
   "metadata": {
    "execution": {
     "iopub.execute_input": "2025-10-21T09:12:27.213844Z",
     "iopub.status.busy": "2025-10-21T09:12:27.213521Z",
     "iopub.status.idle": "2025-10-21T09:12:28.788412Z",
     "shell.execute_reply": "2025-10-21T09:12:28.787418Z"
    },
    "papermill": {
     "duration": 1.588628,
     "end_time": "2025-10-21T09:12:28.789895",
     "exception": false,
     "start_time": "2025-10-21T09:12:27.201267",
     "status": "completed"
    },
    "tags": []
   },
   "outputs": [
    {
     "name": "stdout",
     "output_type": "stream",
     "text": [
      "k=2, silhouette score=0.1821\n",
      "k=3, silhouette score=0.1755\n",
      "k=4, silhouette score=0.1528\n",
      "k=5, silhouette score=0.1269\n",
      "k=6, silhouette score=0.1335\n",
      "k=7, silhouette score=0.1333\n",
      "k=8, silhouette score=0.1360\n",
      "k=9, silhouette score=0.1312\n",
      "k=10, silhouette score=0.1212\n",
      "k=11, silhouette score=0.1346\n",
      "k=12, silhouette score=0.1262\n",
      "k=13, silhouette score=0.1353\n",
      "k=14, silhouette score=0.1377\n",
      "k=15, silhouette score=0.1474\n",
      "k=16, silhouette score=0.1414\n",
      "k=17, silhouette score=0.1415\n",
      "k=18, silhouette score=0.1340\n",
      "k=19, silhouette score=0.1535\n"
     ]
    },
    {
     "data": {
      "image/png": "[encoded data removed]",
      "text/plain": [
       "<Figure size 640x480 with 1 Axes>"
      ]
     },
     "metadata": {},
     "output_type": "display_data"
    }
   ],
   "source": [
    "s_scores = []\n",
    "K_range = range(2, 20)\n",
    "\n",
    "for k in K_range:\n",
    "    kmeans = KMeans(n_clusters=k, random_state=RANDOM_SEED)\n",
    "    labels = kmeans.fit_predict(X)\n",
    "    score = silhouette_score(X, labels)\n",
    "    print(f\"k={k}, silhouette score={score:.4f}\")\n",
    "    s_scores.append(score)\n",
    "    \n",
    "# Plot\n",
    "plt.plot(K_range, s_scores, 'bo-')\n",
    "plt.xlabel('Number of clusters (k)')\n",
    "plt.ylabel('Silhouette Score')\n",
    "plt.title('Silhouette Method for Optimal k')\n",
    "plt.show()"
   ]
  },
  {
   "cell_type": "markdown",
   "id": "d2e41789",
   "metadata": {
    "papermill": {
     "duration": 0.012736,
     "end_time": "2025-10-21T09:12:28.816015",
     "exception": false,
     "start_time": "2025-10-21T09:12:28.803279",
     "status": "completed"
    },
    "tags": []
   },
   "source": [
    "Berdassarkan metode yang dilakukan dari elbow method, nilai k terbaik terletak pada `k=2`. Pada `k=2`, didapatkan nilai silhouette score tertinggi ($0.1847$)"
   ]
  },
  {
   "cell_type": "markdown",
   "id": "0a989155",
   "metadata": {
    "papermill": {
     "duration": 0.012306,
     "end_time": "2025-10-21T09:12:28.840918",
     "exception": false,
     "start_time": "2025-10-21T09:12:28.828612",
     "status": "completed"
    },
    "tags": []
   },
   "source": [
    "### 2.1.2 Model training\n",
    "\n",
    "Proses training dilakukan dengan memanfaatkan library dari library **Scikit-learn** pada modul `sklearn.cluster`. Untuk menggunakannya, maka bisa menambahkan parameter `n_clusters` dengan nilai $6$ dan juga $2$ yang didapat dari proses penentuan `k` sebelumnya (elbow method dan juga silhouette score). Jika dilihat pada data yang sebenarnya, data target hanya terdiri dari 2 data, yaitu $0$ dan $1$. $0$ untuk menunjukkan bahwa orang tersebut tidak terkena penyakit sedangkan $1$ untuk orang yang terkena penyakit. Hasil dari silhouette score sesuai pada data sebenarnya. Penggunaan jumlah kluster 2 ini bisa digunakan untuk memastikan apakah data yang sebelumnya memiliki pola tertentu yang bisa diprediksi. Sedangkan dari hasil elbow method, didapatkan jumlah kluster optimal 6. Ini bisa digunakan juga dengan tujuan untuk melihat pola-pola tersembunyi dari dataset yang ada."
   ]
  },
  {
   "cell_type": "code",
   "execution_count": 12,
   "id": "afdf57df",
   "metadata": {
    "execution": {
     "iopub.execute_input": "2025-10-21T09:12:28.867497Z",
     "iopub.status.busy": "2025-10-21T09:12:28.867189Z",
     "iopub.status.idle": "2025-10-21T09:12:28.985791Z",
     "shell.execute_reply": "2025-10-21T09:12:28.984238Z"
    },
    "papermill": {
     "duration": 0.133804,
     "end_time": "2025-10-21T09:12:28.987348",
     "exception": false,
     "start_time": "2025-10-21T09:12:28.853544",
     "status": "completed"
    },
    "tags": []
   },
   "outputs": [
    {
     "name": "stdout",
     "output_type": "stream",
     "text": [
      "Elbow k=6, Silhouette=0.134\n",
      "Silhouette k=2, Silhouette=0.182\n"
     ]
    }
   ],
   "source": [
    "# k from Elbow\n",
    "k_elbow = 6\n",
    "kmeans_elbow = KMeans(n_clusters=k_elbow, random_state=RANDOM_SEED)\n",
    "kmeans_labels_elbow = kmeans_elbow.fit_predict(X)\n",
    "sil_elbow = silhouette_score(X, kmeans_labels_elbow)\n",
    "\n",
    "# k from Silhouette\n",
    "k_sil = 2\n",
    "kmeans_sil = KMeans(n_clusters=k_sil, random_state=RANDOM_SEED)\n",
    "kmeans_labels_sil = kmeans_sil.fit_predict(X)\n",
    "sil_sil = silhouette_score(X, kmeans_labels_sil)\n",
    "\n",
    "print(f\"Elbow k={k_elbow}, Silhouette={sil_elbow:.3f}\")\n",
    "print(f\"Silhouette k={k_sil}, Silhouette={sil_sil:.3f}\")"
   ]
  },
  {
   "cell_type": "markdown",
   "id": "38ca03aa",
   "metadata": {
    "papermill": {
     "duration": 0.012568,
     "end_time": "2025-10-21T09:12:29.013026",
     "exception": false,
     "start_time": "2025-10-21T09:12:29.000458",
     "status": "completed"
    },
    "tags": []
   },
   "source": [
    "### 2.1.3 Visualisasi\n",
    "\n",
    "Pada kasus ini, terdapat banyak fitur. Terhitung terdapat $12$ fitur yang digunakan. Untuk memudahkan visualisasi, maka bisa melakukan implementasi **Principal Component Analysis (PCA)**. PCA ini berguna untuk menyederhanakan beberapa fitur yang memiliki korelasi kuat menjadi fitur yang lebih sederhana. Penggunaan PCA ini juga bisa dilakukan untuk visualisasi pada dimensi 2 ataupun 3."
   ]
  },
  {
   "cell_type": "code",
   "execution_count": 13,
   "id": "57dc8fc6",
   "metadata": {
    "execution": {
     "iopub.execute_input": "2025-10-21T09:12:29.039692Z",
     "iopub.status.busy": "2025-10-21T09:12:29.039379Z",
     "iopub.status.idle": "2025-10-21T09:12:29.430302Z",
     "shell.execute_reply": "2025-10-21T09:12:29.429362Z"
    },
    "papermill": {
     "duration": 0.406136,
     "end_time": "2025-10-21T09:12:29.431732",
     "exception": false,
     "start_time": "2025-10-21T09:12:29.025596",
     "status": "completed"
    },
    "tags": []
   },
   "outputs": [
    {
     "data": {
      "image/png": "[encoded data removed]",
      "text/plain": [
       "<Figure size 1200x500 with 2 Axes>"
      ]
     },
     "metadata": {},
     "output_type": "display_data"
    }
   ],
   "source": [
    "pca = PCA(n_components=2)\n",
    "reduced = pca.fit_transform(X)\n",
    "\n",
    "fig, axes = plt.subplots(1, 2, figsize=(12, 5))\n",
    "\n",
    "# Plot Elbow k\n",
    "axes[0].scatter(\n",
    "    reduced[:, 0], \n",
    "    reduced[:, 1], \n",
    "    c=kmeans_labels_elbow, \n",
    "    cmap='viridis', \n",
    "    s=10  # size of points\n",
    ")\n",
    "axes[0].set_title(f\"K-Means Clustering (Elbow k={k_elbow})\")\n",
    "\n",
    "# Plot Silhouette k\n",
    "axes[1].scatter(\n",
    "    reduced[:, 0], \n",
    "    reduced[:, 1], \n",
    "    c=kmeans_labels_sil, \n",
    "    cmap='viridis', \n",
    "    s=10\n",
    ")\n",
    "axes[1].set_title(f\"K-Means Clustering (Silhouette k={k_sil})\")\n",
    "\n",
    "plt.tight_layout()\n",
    "plt.show()"
   ]
  },
  {
   "cell_type": "markdown",
   "id": "a9d391ff",
   "metadata": {
    "papermill": {
     "duration": 0.014332,
     "end_time": "2025-10-21T09:12:29.461770",
     "exception": false,
     "start_time": "2025-10-21T09:12:29.447438",
     "status": "completed"
    },
    "tags": []
   },
   "source": [
    "### 2.1.4 Pengujian\n",
    "\n",
    "Pengujian ini dilakukan terkhusus pada data pengujian k-Means dengan jumlah `k=2` yang memiliki jumlah kluster sama pada data yang sebenarnya. Saya ingin menguji apakah pada 2 kluster tersebut terdiri dari data orang tanpa penyakit (0) atau orang dengan penyakit (1) sepenuhnya pada masing-masing kluster."
   ]
  },
  {
   "cell_type": "code",
   "execution_count": 14,
   "id": "ca682180",
   "metadata": {
    "execution": {
     "iopub.execute_input": "2025-10-21T09:12:29.492721Z",
     "iopub.status.busy": "2025-10-21T09:12:29.491899Z",
     "iopub.status.idle": "2025-10-21T09:12:29.519986Z",
     "shell.execute_reply": "2025-10-21T09:12:29.519092Z"
    },
    "papermill": {
     "duration": 0.045163,
     "end_time": "2025-10-21T09:12:29.521393",
     "exception": false,
     "start_time": "2025-10-21T09:12:29.476230",
     "status": "completed"
    },
    "tags": []
   },
   "outputs": [
    {
     "data": {
      "text/html": [
       "<div>\n",
       "<style scoped>\n",
       "    .dataframe tbody tr th:only-of-type {\n",
       "        vertical-align: middle;\n",
       "    }\n",
       "\n",
       "    .dataframe tbody tr th {\n",
       "        vertical-align: top;\n",
       "    }\n",
       "\n",
       "    .dataframe thead th {\n",
       "        text-align: right;\n",
       "    }\n",
       "</style>\n",
       "<table border=\"1\" class=\"dataframe\">\n",
       "  <thead>\n",
       "    <tr style=\"text-align: right;\">\n",
       "      <th>Target</th>\n",
       "      <th>0</th>\n",
       "      <th>1</th>\n",
       "    </tr>\n",
       "    <tr>\n",
       "      <th>Cluster</th>\n",
       "      <th></th>\n",
       "      <th></th>\n",
       "    </tr>\n",
       "  </thead>\n",
       "  <tbody>\n",
       "    <tr>\n",
       "      <th>0</th>\n",
       "      <td>144</td>\n",
       "      <td>400</td>\n",
       "    </tr>\n",
       "    <tr>\n",
       "      <th>1</th>\n",
       "      <td>355</td>\n",
       "      <td>126</td>\n",
       "    </tr>\n",
       "  </tbody>\n",
       "</table>\n",
       "</div>"
      ],
      "text/plain": [
       "Target     0    1\n",
       "Cluster          \n",
       "0        144  400\n",
       "1        355  126"
      ]
     },
     "execution_count": 14,
     "metadata": {},
     "output_type": "execute_result"
    }
   ],
   "source": [
    "df_compare = pd.DataFrame({\n",
    "    'Target': y, \n",
    "    'Cluster': kmeans_labels_sil\n",
    "})\n",
    "\n",
    "# Cross-tabulation\n",
    "ct = pd.crosstab(df_compare['Cluster'], df_compare['Target'])\n",
    "ct"
   ]
  },
  {
   "cell_type": "code",
   "execution_count": 15,
   "id": "6ecaa68e",
   "metadata": {
    "execution": {
     "iopub.execute_input": "2025-10-21T09:12:29.554919Z",
     "iopub.status.busy": "2025-10-21T09:12:29.554139Z",
     "iopub.status.idle": "2025-10-21T09:12:29.561776Z",
     "shell.execute_reply": "2025-10-21T09:12:29.561022Z"
    },
    "papermill": {
     "duration": 0.025905,
     "end_time": "2025-10-21T09:12:29.563256",
     "exception": false,
     "start_time": "2025-10-21T09:12:29.537351",
     "status": "completed"
    },
    "tags": []
   },
   "outputs": [
    {
     "name": "stdout",
     "output_type": "stream",
     "text": [
      "Clustering accuracy vs target: 0.737\n"
     ]
    }
   ],
   "source": [
    "if accuracy_score(y, kmeans_labels_sil) < 0.5:\n",
    "    kmeans_labels_sil_flipped = 1 - kmeans_labels_sil\n",
    "else:\n",
    "    kmeans_labels_sil_flipped = kmeans_labels_sil\n",
    "\n",
    "accuracy = accuracy_score(y, kmeans_labels_sil_flipped)\n",
    "print(f\"Clustering accuracy vs target: {accuracy:.3f}\")"
   ]
  },
  {
   "cell_type": "markdown",
   "id": "bfa5b35a",
   "metadata": {
    "papermill": {
     "duration": 0.014328,
     "end_time": "2025-10-21T09:12:29.594900",
     "exception": false,
     "start_time": "2025-10-21T09:12:29.580572",
     "status": "completed"
    },
    "tags": []
   },
   "source": [
    "Pada pengujian akurasi tersebut, didapatkan akurasi sebesar $0.737$ atau $73.7\\%$ data telah digrub atau kluster dengan sesuai pada data yang sebenarnya. Hasil ini tidak terlalu tinggi namun juga tidak terlalu rendah."
   ]
  },
  {
   "cell_type": "markdown",
   "id": "4c77cdfa",
   "metadata": {
    "papermill": {
     "duration": 0.014197,
     "end_time": "2025-10-21T09:12:29.623749",
     "exception": false,
     "start_time": "2025-10-21T09:12:29.609552",
     "status": "completed"
    },
    "tags": []
   },
   "source": [
    "## 2.2 DBSCAN"
   ]
  },
  {
   "cell_type": "markdown",
   "id": "dc2c2437",
   "metadata": {
    "papermill": {
     "duration": 0.014162,
     "end_time": "2025-10-21T09:12:29.652353",
     "exception": false,
     "start_time": "2025-10-21T09:12:29.638191",
     "status": "completed"
    },
    "tags": []
   },
   "source": [
    "### 2.2.1 Konfigurasi Awal DBSCAN"
   ]
  },
  {
   "cell_type": "code",
   "execution_count": 16,
   "id": "921232e2",
   "metadata": {
    "execution": {
     "iopub.execute_input": "2025-10-21T09:12:29.682746Z",
     "iopub.status.busy": "2025-10-21T09:12:29.682445Z",
     "iopub.status.idle": "2025-10-21T09:12:29.867130Z",
     "shell.execute_reply": "2025-10-21T09:12:29.866146Z"
    },
    "papermill": {
     "duration": 0.201608,
     "end_time": "2025-10-21T09:12:29.868574",
     "exception": false,
     "start_time": "2025-10-21T09:12:29.666966",
     "status": "completed"
    },
    "tags": []
   },
   "outputs": [
    {
     "data": {
      "image/png": "[encoded data removed]",
      "text/plain": [
       "<Figure size 640x480 with 1 Axes>"
      ]
     },
     "metadata": {},
     "output_type": "display_data"
    },
    {
     "name": "stdout",
     "output_type": "stream",
     "text": [
      "\n",
      "Optimal eps: 4.666116489223395\n"
     ]
    }
   ],
   "source": [
    "min_samples = 5\n",
    "\n",
    "neigh = NearestNeighbors(n_neighbors=min_samples)\n",
    "nbrs = neigh.fit(X)\n",
    "distances, indices = nbrs.kneighbors(X)\n",
    "\n",
    "distances = np.sort(distances[:, -1])\n",
    "\n",
    "# Plot\n",
    "plt.plot(distances)\n",
    "plt.ylabel(\"5th Nearest Neighbor Distance\")\n",
    "plt.xlabel(\"Points sorted by distance\")\n",
    "plt.title(\"Find epsilon\")\n",
    "plt.show()\n",
    "\n",
    "\n",
    "# Penentuan nilai epsilon paling optimum secara otomatis\n",
    "knee = KneeLocator(range(len(distances)), distances, curve=\"convex\", direction=\"increasing\")\n",
    "eps_opt = distances[knee.knee]\n",
    "print(\"\\nOptimal eps:\", eps_opt)"
   ]
  },
  {
   "cell_type": "markdown",
   "id": "4f77293e",
   "metadata": {
    "papermill": {
     "duration": 0.019917,
     "end_time": "2025-10-21T09:12:29.904328",
     "exception": false,
     "start_time": "2025-10-21T09:12:29.884411",
     "status": "completed"
    },
    "tags": []
   },
   "source": [
    "Berdasarkan perhitungan epsilon yang paling optimal, ditemukan hasil $4.666116489223395$ yang menjadi titik optimum. Hasil ini bisa dijadikan sebagai input parameter `eps` pada class `DBSCAN` selanjutnya"
   ]
  },
  {
   "cell_type": "markdown",
   "id": "36bd3283",
   "metadata": {
    "papermill": {
     "duration": 0.014693,
     "end_time": "2025-10-21T09:12:29.934066",
     "exception": false,
     "start_time": "2025-10-21T09:12:29.919373",
     "status": "completed"
    },
    "tags": []
   },
   "source": [
    "### 2.2.2 Model training"
   ]
  },
  {
   "cell_type": "code",
   "execution_count": 17,
   "id": "934017f2",
   "metadata": {
    "execution": {
     "iopub.execute_input": "2025-10-21T09:12:29.966012Z",
     "iopub.status.busy": "2025-10-21T09:12:29.965385Z",
     "iopub.status.idle": "2025-10-21T09:12:30.048986Z",
     "shell.execute_reply": "2025-10-21T09:12:30.048149Z"
    },
    "papermill": {
     "duration": 0.101175,
     "end_time": "2025-10-21T09:12:30.050552",
     "exception": false,
     "start_time": "2025-10-21T09:12:29.949377",
     "status": "completed"
    },
    "tags": []
   },
   "outputs": [
    {
     "data": {
      "text/plain": [
       "array([0, 0, 0, ..., 0, 0, 0])"
      ]
     },
     "execution_count": 17,
     "metadata": {},
     "output_type": "execute_result"
    }
   ],
   "source": [
    "dbscan = DBSCAN(eps=4.666, min_samples=5)\n",
    "dbscan_labels = dbscan.fit_predict(X)\n",
    "\n",
    "dbscan_labels"
   ]
  },
  {
   "cell_type": "code",
   "execution_count": 18,
   "id": "18b016b4",
   "metadata": {
    "execution": {
     "iopub.execute_input": "2025-10-21T09:12:30.082643Z",
     "iopub.status.busy": "2025-10-21T09:12:30.082348Z",
     "iopub.status.idle": "2025-10-21T09:12:30.116999Z",
     "shell.execute_reply": "2025-10-21T09:12:30.116026Z"
    },
    "papermill": {
     "duration": 0.052432,
     "end_time": "2025-10-21T09:12:30.118476",
     "exception": false,
     "start_time": "2025-10-21T09:12:30.066044",
     "status": "completed"
    },
    "tags": []
   },
   "outputs": [
    {
     "name": "stdout",
     "output_type": "stream",
     "text": [
      "Silhouette Score (DBSCAN): 0.5422840594663325\n"
     ]
    }
   ],
   "source": [
    "score = silhouette_score(df, dbscan_labels)\n",
    "print(\"Silhouette Score (DBSCAN):\", score)"
   ]
  },
  {
   "cell_type": "markdown",
   "id": "2387c849",
   "metadata": {
    "papermill": {
     "duration": 0.015028,
     "end_time": "2025-10-21T09:12:30.148760",
     "exception": false,
     "start_time": "2025-10-21T09:12:30.133732",
     "status": "completed"
    },
    "tags": []
   },
   "source": [
    "### 2.2.3 Visualisasi"
   ]
  },
  {
   "cell_type": "code",
   "execution_count": 19,
   "id": "6fcb0d05",
   "metadata": {
    "execution": {
     "iopub.execute_input": "2025-10-21T09:12:30.182700Z",
     "iopub.status.busy": "2025-10-21T09:12:30.182381Z",
     "iopub.status.idle": "2025-10-21T09:12:30.452991Z",
     "shell.execute_reply": "2025-10-21T09:12:30.452159Z"
    },
    "papermill": {
     "duration": 0.289022,
     "end_time": "2025-10-21T09:12:30.454647",
     "exception": false,
     "start_time": "2025-10-21T09:12:30.165625",
     "status": "completed"
    },
    "tags": []
   },
   "outputs": [
    {
     "data": {
      "image/png": "[encoded data removed]",
      "text/plain": [
       "<Figure size 800x600 with 2 Axes>"
      ]
     },
     "metadata": {},
     "output_type": "display_data"
    }
   ],
   "source": [
    "pca_2d = PCA(n_components=2)\n",
    "reduced_2d = pca_2d.fit_transform(X)\n",
    "\n",
    "# 2D Plot\n",
    "plt.figure(figsize=(8, 6))\n",
    "plt.scatter(\n",
    "    reduced_2d[:, 0], reduced_2d[:, 1],\n",
    "    c=dbscan_labels,\n",
    "    cmap='viridis',\n",
    "    s=5\n",
    ")\n",
    "plt.title(\"DBSCAN Clustering Visualization\")\n",
    "plt.colorbar(label='Cluster Label')\n",
    "plt.show()"
   ]
  },
  {
   "cell_type": "markdown",
   "id": "1cc40762",
   "metadata": {
    "papermill": {
     "duration": 0.016011,
     "end_time": "2025-10-21T09:12:30.487556",
     "exception": false,
     "start_time": "2025-10-21T09:12:30.471545",
     "status": "completed"
    },
    "tags": []
   },
   "source": [
    "## 2.3 Perbandingan Hasil"
   ]
  },
  {
   "cell_type": "code",
   "execution_count": 20,
   "id": "5818a063",
   "metadata": {
    "execution": {
     "iopub.execute_input": "2025-10-21T09:12:30.521680Z",
     "iopub.status.busy": "2025-10-21T09:12:30.520828Z",
     "iopub.status.idle": "2025-10-21T09:12:30.591702Z",
     "shell.execute_reply": "2025-10-21T09:12:30.590605Z"
    },
    "papermill": {
     "duration": 0.089887,
     "end_time": "2025-10-21T09:12:30.593524",
     "exception": false,
     "start_time": "2025-10-21T09:12:30.503637",
     "status": "completed"
    },
    "tags": []
   },
   "outputs": [
    {
     "name": "stdout",
     "output_type": "stream",
     "text": [
      "K-Means 1 (elbow)  → Silhouette: 0.134, DBI: 1.842\n",
      "K-Means 2 (silhouette) → Silhouette: 0.182, DBI: 1.975\n",
      "DBSCAN   → Silhouette: 0.5471605642488553, DBI: 0.3309490502090705\n"
     ]
    }
   ],
   "source": [
    "sil_kmeans_1 = silhouette_score(X, kmeans_labels_elbow)\n",
    "dbi_kmeans_1 = davies_bouldin_score(X, kmeans_labels_elbow)\n",
    "\n",
    "sil_kmeans_2 = silhouette_score(X, kmeans_labels_sil)\n",
    "dbi_kmeans_2 = davies_bouldin_score(X, kmeans_labels_sil)\n",
    "\n",
    "sil_dbscan = silhouette_score(X, dbscan_labels) if len(set(dbscan_labels)) > 1 else None\n",
    "dbi_dbscan = davies_bouldin_score(X, dbscan_labels) if len(set(dbscan_labels)) > 1 else None\n",
    "\n",
    "print(f\"K-Means 1 (elbow)  → Silhouette: {sil_kmeans_1:.3f}, DBI: {dbi_kmeans_1:.3f}\")\n",
    "print(f\"K-Means 2 (silhouette) → Silhouette: {sil_kmeans_2:.3f}, DBI: {dbi_kmeans_2:.3f}\")\n",
    "print(f\"DBSCAN   → Silhouette: {sil_dbscan}, DBI: {dbi_dbscan}\")"
   ]
  },
  {
   "cell_type": "markdown",
   "id": "1e1cd725",
   "metadata": {
    "papermill": {
     "duration": 0.015619,
     "end_time": "2025-10-21T09:12:30.628739",
     "exception": false,
     "start_time": "2025-10-21T09:12:30.613120",
     "status": "completed"
    },
    "tags": []
   },
   "source": [
    "# 3. Analisis"
   ]
  },
  {
   "cell_type": "markdown",
   "id": "c594337f",
   "metadata": {
    "papermill": {
     "duration": 0.015751,
     "end_time": "2025-10-21T09:12:30.660403",
     "exception": false,
     "start_time": "2025-10-21T09:12:30.644652",
     "status": "completed"
    },
    "tags": []
   },
   "source": [
    "Berdasarkan hasil eksperimen terbaru, metode **K-Means** dan **DBSCAN** menunjukkan perbedaan yang cukup signifikan dalam klasterisasi dataset *Heart Disease*. Untuk K-Means, dua pendekatan telah dicoba: menggunakan metode **elbow**, yang menghasilkan **k=6**, dan metode **silhouette**, yang menghasilkan **k=2**. Nilai Silhouette Score untuk k=2 adalah 0.182 dengan DBI sebesar 1.975, sedangkan untuk k=6 Silhouette Score sebesar 0.134 dan DBI sebesar 1.842. Pendekatan k=2 ternyata paling sesuai dengan data asli, karena label target hanya terdiri dari dua kelas, yaitu orang yang tidak memiliki penyakit (0) dan orang yang memiliki penyakit (1). Pengujian akurasi menunjukkan bahwa **73,7% data berhasil dikelompokkan sesuai dengan label asli**, yang menunjukkan bahwa K-Means dengan k=2 mampu menangkap struktur utama data meskipun akurasi belum sempurna. Sementara itu, K-Means dengan k=6 dapat digunakan untuk mencoba menemukan **hidden pattern** atau subklaster dalam data yang tidak terlihat dari label target asli.\n",
    "\n",
    "Metode **DBSCAN** memberikan hasil yang berbeda dengan **Silhouette Score sebesar 0.547** dan **DBI sebesar 0.331**. Nilai Silhouette yang lebih tinggi menunjukkan bahwa titik-titik dalam klaster berada pada posisi yang lebih tepat, dan DBI yang rendah menandakan pemisahan antar klaster yang jelas serta struktur klaster yang stabil. Meskipun DBSCAN tidak disesuaikan secara langsung dengan label target, metode ini tetap berguna untuk mengeksplorasi pola-pola tersembunyi dalam data yang mungkin tidak terdeteksi oleh K-Means.\n",
    "\n",
    "Secara keseluruhan, meskipun K-Means dengan k=2 paling sesuai untuk menyesuaikan dengan data asli, DBSCAN dan K-Means dengan k=6 tetap memiliki nilai guna dalam **menemukan pola tambahan atau hidden structure** di dalam dataset. Eksperimen ini menekankan bahwa pemilihan metode klasterisasi sebaiknya mempertimbangkan tujuan analisis, apakah untuk **mereplikasi label asli** atau **menemukan pola tersembunyi** dalam data.\n"
   ]
  },
  {
   "cell_type": "markdown",
   "id": "e94955e4",
   "metadata": {
    "papermill": {
     "duration": 0.015779,
     "end_time": "2025-10-21T09:12:30.692097",
     "exception": false,
     "start_time": "2025-10-21T09:12:30.676318",
     "status": "completed"
    },
    "tags": []
   },
   "source": [
    "# 4. ANN (Approximate Nearest Neighbor)"
   ]
  },
  {
   "cell_type": "code",
   "execution_count": 21,
   "id": "c87a8473",
   "metadata": {
    "execution": {
     "iopub.execute_input": "2025-10-21T09:12:30.725627Z",
     "iopub.status.busy": "2025-10-21T09:12:30.725062Z",
     "iopub.status.idle": "2025-10-21T09:12:30.739943Z",
     "shell.execute_reply": "2025-10-21T09:12:30.739225Z"
    },
    "papermill": {
     "duration": 0.033142,
     "end_time": "2025-10-21T09:12:30.741272",
     "exception": false,
     "start_time": "2025-10-21T09:12:30.708130",
     "status": "completed"
    },
    "tags": []
   },
   "outputs": [
    {
     "data": {
      "text/plain": [
       "True"
      ]
     },
     "execution_count": 21,
     "metadata": {},
     "output_type": "execute_result"
    }
   ],
   "source": [
    "f = df.shape[1]\n",
    "index = AnnoyIndex(f, 'euclidean')\n",
    "\n",
    "# Add each vector into the index\n",
    "for i, vector in enumerate(df.values):\n",
    "    index.add_item(i, vector)\n",
    "\n",
    "# Build the forest\n",
    "index.build(10)"
   ]
  },
  {
   "cell_type": "code",
   "execution_count": 22,
   "id": "4e11ca32",
   "metadata": {
    "execution": {
     "iopub.execute_input": "2025-10-21T09:12:30.775753Z",
     "iopub.status.busy": "2025-10-21T09:12:30.775162Z",
     "iopub.status.idle": "2025-10-21T09:12:30.780634Z",
     "shell.execute_reply": "2025-10-21T09:12:30.779789Z"
    },
    "papermill": {
     "duration": 0.024116,
     "end_time": "2025-10-21T09:12:30.781913",
     "exception": false,
     "start_time": "2025-10-21T09:12:30.757797",
     "status": "completed"
    },
    "tags": []
   },
   "outputs": [
    {
     "name": "stdout",
     "output_type": "stream",
     "text": [
      "Query index: 10\n",
      "Nearest neighbors: [10, 401, 500, 648, 643]\n",
      "Distances: [0.0, 0.0, 0.0, 0.0, 2.3375353813171387]\n"
     ]
    }
   ],
   "source": [
    "query_index = 10\n",
    "k = 5 \n",
    "\n",
    "neighbors, distances = index.get_nns_by_item(\n",
    "    query_index,\n",
    "    k,\n",
    "    include_distances=True\n",
    ")\n",
    "\n",
    "print(\"Query index:\", query_index)\n",
    "print(\"Nearest neighbors:\", neighbors)\n",
    "print(\"Distances:\", distances)"
   ]
  },
  {
   "cell_type": "markdown",
   "id": "9e222599",
   "metadata": {
    "papermill": {
     "duration": 0.016941,
     "end_time": "2025-10-21T09:12:30.815907",
     "exception": false,
     "start_time": "2025-10-21T09:12:30.798966",
     "status": "completed"
    },
    "tags": []
   },
   "source": [
    "# 5. Kesimpulan"
   ]
  },
  {
   "cell_type": "markdown",
   "id": "793b2cc4",
   "metadata": {
    "papermill": {
     "duration": 0.01607,
     "end_time": "2025-10-21T09:12:30.848342",
     "exception": false,
     "start_time": "2025-10-21T09:12:30.832272",
     "status": "completed"
    },
    "tags": []
   },
   "source": [
    "Berdasarkan serangkaian percobaan yang telah dilakukan menggunakan metode **K-Means**, **DBSCAN**, dan **Approximate Nearest Neighbor (ANN)** pada dataset *Heart Disease*, dapat disimpulkan beberapa hal mengenai kinerja dan karakteristik masing-masing metode.\n",
    "\n",
    "Untuk **K-Means**, percobaan dengan dua pendekatan menunjukkan hasil yang bervariasi. Menggunakan metode **silhouette** dengan k=2, yang sesuai dengan jumlah kelas target asli, diperoleh **Silhouette Score sebesar 0.182** dan DBI sebesar 1.975. Pengujian akurasi terhadap label asli menunjukkan bahwa **73,7% data berhasil dikelompokkan sesuai label**, menunjukkan bahwa K-Means mampu menangkap struktur utama data dengan cukup baik. Sementara itu, pendekatan **elbow method** dengan k=6 menghasilkan Silhouette Score 0.134 dan DBI 1.842, yang lebih rendah, namun dapat digunakan untuk mengeksplorasi **hidden pattern** atau subklaster dalam dataset.\n",
    "\n",
    "Metode **DBSCAN** memberikan hasil yang berbeda dengan **Silhouette Score 0.547** dan DBI 0.331. Nilai Silhouette yang lebih tinggi dan DBI yang lebih rendah menunjukkan bahwa klaster yang terbentuk lebih jelas, stabil, dan memiliki pemisahan yang lebih baik antar klaster dibandingkan K-Means. Hal ini menunjukkan bahwa DBSCAN sangat berguna untuk menemukan pola atau struktur tersembunyi dalam data, meskipun tidak secara langsung menyesuaikan dengan label asli.\n",
    "\n",
    "Hasil dari **ANN** menunjukkan bahwa titik dengan indeks 10 memiliki beberapa tetangga dengan jarak yang sangat kecil bahkan nol, yaitu `[10, 401, 500, 648, 643]`, dengan jarak masing-masing `[0.0, 0.0, 0.0, 0.0, 2.3375]`. Ini mengindikasikan adanya kemiripan fitur yang kuat di antara titik-titik tersebut. Jika dibandingkan dengan label klaster K-Means atau DBSCAN, ANN dapat membantu memvalidasi konsistensi dan kemiripan antar titik dalam klaster atau mengeksplorasi tetangga yang sangat mirip, yang berguna untuk analisis lebih lanjut.\n",
    "\n",
    "Secara keseluruhan, **K-Means dengan k=2 tetap menjadi metode yang paling sesuai untuk menangkap struktur utama data sesuai label asli**, sementara **DBSCAN unggul dalam membentuk klaster yang lebih jelas dan stabil**, berguna untuk menemukan pola tersembunyi. **ANN** berperan sebagai alat pendukung yang efektif dalam menilai kemiripan antar titik dan memvalidasi hasil klasterisasi. Kombinasi ketiga metode ini memberikan wawasan komprehensif mengenai stru\n"
   ]
  }
 ],
 "metadata": {
  "kaggle": {
   "accelerator": "none",
   "dataSources": [
    {
     "datasetId": 216167,
     "sourceId": 477177,
     "sourceType": "datasetVersion"
    }
   ],
   "dockerImageVersionId": 31153,
   "isGpuEnabled": false,
   "isInternetEnabled": true,
   "language": "python",
   "sourceType": "notebook"
  },
  "kernelspec": {
   "display_name": "Python 3",
   "language": "python",
   "name": "python3"
  },
  "language_info": {
   "codemirror_mode": {
    "name": "ipython",
    "version": 3
   },
   "file_extension": ".py",
   "mimetype": "text/x-python",
   "name": "python",
   "nbconvert_exporter": "python",
   "pygments_lexer": "ipython3",
   "version": "3.11.13"
  },
  "papermill": {
   "default_parameters": {},
   "duration": 22.114442,
   "end_time": "2025-10-21T09:12:31.684478",
   "environment_variables": {},
   "exception": null,
   "input_path": "__notebook__.ipynb",
   "output_path": "__notebook__.ipynb",
   "parameters": {},
   "start_time": "2025-10-21T09:12:09.570036",
   "version": "2.6.0"
  }
 },
 "nbformat": 4,
 "nbformat_minor": 5
}
